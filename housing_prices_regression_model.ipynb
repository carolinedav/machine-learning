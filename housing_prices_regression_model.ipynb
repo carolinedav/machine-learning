{
  "cells": [
    {
      "cell_type": "markdown",
      "metadata": {
        "id": "-Y4F-zuUGsq8"
      },
      "source": [
        "#Comparison of Regression Models on Housing Prices in Ames, Iowa"
      ]
    },
    {
      "cell_type": "markdown",
      "metadata": {
        "id": "MZ85ee69G7m0"
      },
      "source": [
        "### CS 4774 Machine Learning - Department of Computer Science - University of Virginia\n",
        "\n",
        "A practice in the 8 steps of an end-to-end ML project in the context of a **regression** problem in the [Ames Housing Dataset on Kaggle](https://www.kaggle.com/competitions/house-prices-advanced-regression-techniques/data). I attempt to predict the housing prices in Ames, Iowa."
      ]
    },
    {
      "cell_type": "markdown",
      "metadata": {
        "id": "XiN8M6u4mlw2"
      },
      "source": [
        "#Step 1: Understand the Problem\n",
        "In this codeathon, we are attempting to predict housing prices in Ames, Iowa using Machine Learning techniques. Specifically, this problem is a **regression** problem because we are looking to predict a set value (SalePrice). In finer details, this problem is considered both a **multiple regression** task, because we are using multiple features in a prediction, and a **univeriate regression** problem because we are solving for one value (again, SalePrice). Additionally, this problem is a **supervised learning task** because the training data is labeled.</br></br>\n",
        "We expect to find **one or more features that predict the SalePrice** of a given house in Ames, Iowa. The company should be able to use this model to **estimate the house price of any house within Ames** with a **95%** confidence. Thus, the company will benefit because the **algorithm would reduce time and costs used by the current solution** (agents researching constantly). In order to measure the estimation accuracy, we will use **Root Mean Square Error (RMSE)** and **five-fold cross-validation** to determine the amount of error in the predictions.</br></br>\n",
        "To build the algorithm, **data is scrapped from Kaggle**. The data is organized into a csv and contains 1,460 entries of labeled categories and sample data.</br></br> \n",
        "\n",
        "To explore the best algorithm possible, **LinearRegression**, **DecisionTreeRegression**, and **RandomForestRegression** will be utilized as the learning algorithms. Specifically for the results, RandomForestRegression will be used. <br></br>\n",
        "\n",
        "This codeathon took about **8 hours** from start to finish, which I would consider moderate effort. I took specific care to explore different algorithms (like a neural network model that proved too time-costly) that were extra beyond the three requirements. <br></br>\n",
        "\n",
        "When I first began this project, I assumed that certain features would be more important than others. For example, I figured that the feature **\"OverallQuality\"**, which denotes the quality of the house (scale of 1 to 10 with 10, would be an important quality. Additionally, I assumed that **RandomForestRegression** would be the best learning method and the results below prove that assumption due to the RandomForestRegression low RMSE score.\n"
      ]
    },
    {
      "cell_type": "code",
      "execution_count": null,
      "metadata": {
        "id": "bqWBbTDi5dg2"
      },
      "outputs": [],
      "source": [
        "import numpy as np"
      ]
    },
    {
      "cell_type": "markdown",
      "metadata": {
        "id": "A3N7qDVRXuNa"
      },
      "source": [
        "## Step 2: Load the Data"
      ]
    },
    {
      "cell_type": "code",
      "execution_count": null,
      "metadata": {
        "colab": {
          "base_uri": "https://localhost:8080/",
          "height": 436
        },
        "id": "3Y4uclsoGRcM",
        "outputId": "e8516545-d7f8-4379-9595-0350a0e15989"
      },
      "outputs": [
        {
          "output_type": "execute_result",
          "data": {
            "text/plain": [
              "   Id  MSSubClass MSZoning  LotFrontage  LotArea Street Alley LotShape  \\\n",
              "0   1          60       RL         65.0     8450   Pave   NaN      Reg   \n",
              "1   2          20       RL         80.0     9600   Pave   NaN      Reg   \n",
              "2   3          60       RL         68.0    11250   Pave   NaN      IR1   \n",
              "3   4          70       RL         60.0     9550   Pave   NaN      IR1   \n",
              "4   5          60       RL         84.0    14260   Pave   NaN      IR1   \n",
              "5   6          50       RL         85.0    14115   Pave   NaN      IR1   \n",
              "6   7          20       RL         75.0    10084   Pave   NaN      Reg   \n",
              "7   8          60       RL          NaN    10382   Pave   NaN      IR1   \n",
              "8   9          50       RM         51.0     6120   Pave   NaN      Reg   \n",
              "9  10         190       RL         50.0     7420   Pave   NaN      Reg   \n",
              "\n",
              "  LandContour Utilities  ... PoolArea PoolQC  Fence MiscFeature MiscVal  \\\n",
              "0         Lvl    AllPub  ...        0    NaN    NaN         NaN       0   \n",
              "1         Lvl    AllPub  ...        0    NaN    NaN         NaN       0   \n",
              "2         Lvl    AllPub  ...        0    NaN    NaN         NaN       0   \n",
              "3         Lvl    AllPub  ...        0    NaN    NaN         NaN       0   \n",
              "4         Lvl    AllPub  ...        0    NaN    NaN         NaN       0   \n",
              "5         Lvl    AllPub  ...        0    NaN  MnPrv        Shed     700   \n",
              "6         Lvl    AllPub  ...        0    NaN    NaN         NaN       0   \n",
              "7         Lvl    AllPub  ...        0    NaN    NaN        Shed     350   \n",
              "8         Lvl    AllPub  ...        0    NaN    NaN         NaN       0   \n",
              "9         Lvl    AllPub  ...        0    NaN    NaN         NaN       0   \n",
              "\n",
              "  MoSold YrSold  SaleType  SaleCondition  SalePrice  \n",
              "0      2   2008        WD         Normal     208500  \n",
              "1      5   2007        WD         Normal     181500  \n",
              "2      9   2008        WD         Normal     223500  \n",
              "3      2   2006        WD        Abnorml     140000  \n",
              "4     12   2008        WD         Normal     250000  \n",
              "5     10   2009        WD         Normal     143000  \n",
              "6      8   2007        WD         Normal     307000  \n",
              "7     11   2009        WD         Normal     200000  \n",
              "8      4   2008        WD        Abnorml     129900  \n",
              "9      1   2008        WD         Normal     118000  \n",
              "\n",
              "[10 rows x 81 columns]"
            ],
            "text/html": [
              "\n",
              "  <div id=\"df-d5592905-74ce-4201-a1eb-62aabe1d8801\">\n",
              "    <div class=\"colab-df-container\">\n",
              "      <div>\n",
              "<style scoped>\n",
              "    .dataframe tbody tr th:only-of-type {\n",
              "        vertical-align: middle;\n",
              "    }\n",
              "\n",
              "    .dataframe tbody tr th {\n",
              "        vertical-align: top;\n",
              "    }\n",
              "\n",
              "    .dataframe thead th {\n",
              "        text-align: right;\n",
              "    }\n",
              "</style>\n",
              "<table border=\"1\" class=\"dataframe\">\n",
              "  <thead>\n",
              "    <tr style=\"text-align: right;\">\n",
              "      <th></th>\n",
              "      <th>Id</th>\n",
              "      <th>MSSubClass</th>\n",
              "      <th>MSZoning</th>\n",
              "      <th>LotFrontage</th>\n",
              "      <th>LotArea</th>\n",
              "      <th>Street</th>\n",
              "      <th>Alley</th>\n",
              "      <th>LotShape</th>\n",
              "      <th>LandContour</th>\n",
              "      <th>Utilities</th>\n",
              "      <th>...</th>\n",
              "      <th>PoolArea</th>\n",
              "      <th>PoolQC</th>\n",
              "      <th>Fence</th>\n",
              "      <th>MiscFeature</th>\n",
              "      <th>MiscVal</th>\n",
              "      <th>MoSold</th>\n",
              "      <th>YrSold</th>\n",
              "      <th>SaleType</th>\n",
              "      <th>SaleCondition</th>\n",
              "      <th>SalePrice</th>\n",
              "    </tr>\n",
              "  </thead>\n",
              "  <tbody>\n",
              "    <tr>\n",
              "      <th>0</th>\n",
              "      <td>1</td>\n",
              "      <td>60</td>\n",
              "      <td>RL</td>\n",
              "      <td>65.0</td>\n",
              "      <td>8450</td>\n",
              "      <td>Pave</td>\n",
              "      <td>NaN</td>\n",
              "      <td>Reg</td>\n",
              "      <td>Lvl</td>\n",
              "      <td>AllPub</td>\n",
              "      <td>...</td>\n",
              "      <td>0</td>\n",
              "      <td>NaN</td>\n",
              "      <td>NaN</td>\n",
              "      <td>NaN</td>\n",
              "      <td>0</td>\n",
              "      <td>2</td>\n",
              "      <td>2008</td>\n",
              "      <td>WD</td>\n",
              "      <td>Normal</td>\n",
              "      <td>208500</td>\n",
              "    </tr>\n",
              "    <tr>\n",
              "      <th>1</th>\n",
              "      <td>2</td>\n",
              "      <td>20</td>\n",
              "      <td>RL</td>\n",
              "      <td>80.0</td>\n",
              "      <td>9600</td>\n",
              "      <td>Pave</td>\n",
              "      <td>NaN</td>\n",
              "      <td>Reg</td>\n",
              "      <td>Lvl</td>\n",
              "      <td>AllPub</td>\n",
              "      <td>...</td>\n",
              "      <td>0</td>\n",
              "      <td>NaN</td>\n",
              "      <td>NaN</td>\n",
              "      <td>NaN</td>\n",
              "      <td>0</td>\n",
              "      <td>5</td>\n",
              "      <td>2007</td>\n",
              "      <td>WD</td>\n",
              "      <td>Normal</td>\n",
              "      <td>181500</td>\n",
              "    </tr>\n",
              "    <tr>\n",
              "      <th>2</th>\n",
              "      <td>3</td>\n",
              "      <td>60</td>\n",
              "      <td>RL</td>\n",
              "      <td>68.0</td>\n",
              "      <td>11250</td>\n",
              "      <td>Pave</td>\n",
              "      <td>NaN</td>\n",
              "      <td>IR1</td>\n",
              "      <td>Lvl</td>\n",
              "      <td>AllPub</td>\n",
              "      <td>...</td>\n",
              "      <td>0</td>\n",
              "      <td>NaN</td>\n",
              "      <td>NaN</td>\n",
              "      <td>NaN</td>\n",
              "      <td>0</td>\n",
              "      <td>9</td>\n",
              "      <td>2008</td>\n",
              "      <td>WD</td>\n",
              "      <td>Normal</td>\n",
              "      <td>223500</td>\n",
              "    </tr>\n",
              "    <tr>\n",
              "      <th>3</th>\n",
              "      <td>4</td>\n",
              "      <td>70</td>\n",
              "      <td>RL</td>\n",
              "      <td>60.0</td>\n",
              "      <td>9550</td>\n",
              "      <td>Pave</td>\n",
              "      <td>NaN</td>\n",
              "      <td>IR1</td>\n",
              "      <td>Lvl</td>\n",
              "      <td>AllPub</td>\n",
              "      <td>...</td>\n",
              "      <td>0</td>\n",
              "      <td>NaN</td>\n",
              "      <td>NaN</td>\n",
              "      <td>NaN</td>\n",
              "      <td>0</td>\n",
              "      <td>2</td>\n",
              "      <td>2006</td>\n",
              "      <td>WD</td>\n",
              "      <td>Abnorml</td>\n",
              "      <td>140000</td>\n",
              "    </tr>\n",
              "    <tr>\n",
              "      <th>4</th>\n",
              "      <td>5</td>\n",
              "      <td>60</td>\n",
              "      <td>RL</td>\n",
              "      <td>84.0</td>\n",
              "      <td>14260</td>\n",
              "      <td>Pave</td>\n",
              "      <td>NaN</td>\n",
              "      <td>IR1</td>\n",
              "      <td>Lvl</td>\n",
              "      <td>AllPub</td>\n",
              "      <td>...</td>\n",
              "      <td>0</td>\n",
              "      <td>NaN</td>\n",
              "      <td>NaN</td>\n",
              "      <td>NaN</td>\n",
              "      <td>0</td>\n",
              "      <td>12</td>\n",
              "      <td>2008</td>\n",
              "      <td>WD</td>\n",
              "      <td>Normal</td>\n",
              "      <td>250000</td>\n",
              "    </tr>\n",
              "    <tr>\n",
              "      <th>5</th>\n",
              "      <td>6</td>\n",
              "      <td>50</td>\n",
              "      <td>RL</td>\n",
              "      <td>85.0</td>\n",
              "      <td>14115</td>\n",
              "      <td>Pave</td>\n",
              "      <td>NaN</td>\n",
              "      <td>IR1</td>\n",
              "      <td>Lvl</td>\n",
              "      <td>AllPub</td>\n",
              "      <td>...</td>\n",
              "      <td>0</td>\n",
              "      <td>NaN</td>\n",
              "      <td>MnPrv</td>\n",
              "      <td>Shed</td>\n",
              "      <td>700</td>\n",
              "      <td>10</td>\n",
              "      <td>2009</td>\n",
              "      <td>WD</td>\n",
              "      <td>Normal</td>\n",
              "      <td>143000</td>\n",
              "    </tr>\n",
              "    <tr>\n",
              "      <th>6</th>\n",
              "      <td>7</td>\n",
              "      <td>20</td>\n",
              "      <td>RL</td>\n",
              "      <td>75.0</td>\n",
              "      <td>10084</td>\n",
              "      <td>Pave</td>\n",
              "      <td>NaN</td>\n",
              "      <td>Reg</td>\n",
              "      <td>Lvl</td>\n",
              "      <td>AllPub</td>\n",
              "      <td>...</td>\n",
              "      <td>0</td>\n",
              "      <td>NaN</td>\n",
              "      <td>NaN</td>\n",
              "      <td>NaN</td>\n",
              "      <td>0</td>\n",
              "      <td>8</td>\n",
              "      <td>2007</td>\n",
              "      <td>WD</td>\n",
              "      <td>Normal</td>\n",
              "      <td>307000</td>\n",
              "    </tr>\n",
              "    <tr>\n",
              "      <th>7</th>\n",
              "      <td>8</td>\n",
              "      <td>60</td>\n",
              "      <td>RL</td>\n",
              "      <td>NaN</td>\n",
              "      <td>10382</td>\n",
              "      <td>Pave</td>\n",
              "      <td>NaN</td>\n",
              "      <td>IR1</td>\n",
              "      <td>Lvl</td>\n",
              "      <td>AllPub</td>\n",
              "      <td>...</td>\n",
              "      <td>0</td>\n",
              "      <td>NaN</td>\n",
              "      <td>NaN</td>\n",
              "      <td>Shed</td>\n",
              "      <td>350</td>\n",
              "      <td>11</td>\n",
              "      <td>2009</td>\n",
              "      <td>WD</td>\n",
              "      <td>Normal</td>\n",
              "      <td>200000</td>\n",
              "    </tr>\n",
              "    <tr>\n",
              "      <th>8</th>\n",
              "      <td>9</td>\n",
              "      <td>50</td>\n",
              "      <td>RM</td>\n",
              "      <td>51.0</td>\n",
              "      <td>6120</td>\n",
              "      <td>Pave</td>\n",
              "      <td>NaN</td>\n",
              "      <td>Reg</td>\n",
              "      <td>Lvl</td>\n",
              "      <td>AllPub</td>\n",
              "      <td>...</td>\n",
              "      <td>0</td>\n",
              "      <td>NaN</td>\n",
              "      <td>NaN</td>\n",
              "      <td>NaN</td>\n",
              "      <td>0</td>\n",
              "      <td>4</td>\n",
              "      <td>2008</td>\n",
              "      <td>WD</td>\n",
              "      <td>Abnorml</td>\n",
              "      <td>129900</td>\n",
              "    </tr>\n",
              "    <tr>\n",
              "      <th>9</th>\n",
              "      <td>10</td>\n",
              "      <td>190</td>\n",
              "      <td>RL</td>\n",
              "      <td>50.0</td>\n",
              "      <td>7420</td>\n",
              "      <td>Pave</td>\n",
              "      <td>NaN</td>\n",
              "      <td>Reg</td>\n",
              "      <td>Lvl</td>\n",
              "      <td>AllPub</td>\n",
              "      <td>...</td>\n",
              "      <td>0</td>\n",
              "      <td>NaN</td>\n",
              "      <td>NaN</td>\n",
              "      <td>NaN</td>\n",
              "      <td>0</td>\n",
              "      <td>1</td>\n",
              "      <td>2008</td>\n",
              "      <td>WD</td>\n",
              "      <td>Normal</td>\n",
              "      <td>118000</td>\n",
              "    </tr>\n",
              "  </tbody>\n",
              "</table>\n",
              "<p>10 rows × 81 columns</p>\n",
              "</div>\n",
              "      <button class=\"colab-df-convert\" onclick=\"convertToInteractive('df-d5592905-74ce-4201-a1eb-62aabe1d8801')\"\n",
              "              title=\"Convert this dataframe to an interactive table.\"\n",
              "              style=\"display:none;\">\n",
              "        \n",
              "  <svg xmlns=\"http://www.w3.org/2000/svg\" height=\"24px\"viewBox=\"0 0 24 24\"\n",
              "       width=\"24px\">\n",
              "    <path d=\"M0 0h24v24H0V0z\" fill=\"none\"/>\n",
              "    <path d=\"M18.56 5.44l.94 2.06.94-2.06 2.06-.94-2.06-.94-.94-2.06-.94 2.06-2.06.94zm-11 1L8.5 8.5l.94-2.06 2.06-.94-2.06-.94L8.5 2.5l-.94 2.06-2.06.94zm10 10l.94 2.06.94-2.06 2.06-.94-2.06-.94-.94-2.06-.94 2.06-2.06.94z\"/><path d=\"M17.41 7.96l-1.37-1.37c-.4-.4-.92-.59-1.43-.59-.52 0-1.04.2-1.43.59L10.3 9.45l-7.72 7.72c-.78.78-.78 2.05 0 2.83L4 21.41c.39.39.9.59 1.41.59.51 0 1.02-.2 1.41-.59l7.78-7.78 2.81-2.81c.8-.78.8-2.07 0-2.86zM5.41 20L4 18.59l7.72-7.72 1.47 1.35L5.41 20z\"/>\n",
              "  </svg>\n",
              "      </button>\n",
              "      \n",
              "  <style>\n",
              "    .colab-df-container {\n",
              "      display:flex;\n",
              "      flex-wrap:wrap;\n",
              "      gap: 12px;\n",
              "    }\n",
              "\n",
              "    .colab-df-convert {\n",
              "      background-color: #E8F0FE;\n",
              "      border: none;\n",
              "      border-radius: 50%;\n",
              "      cursor: pointer;\n",
              "      display: none;\n",
              "      fill: #1967D2;\n",
              "      height: 32px;\n",
              "      padding: 0 0 0 0;\n",
              "      width: 32px;\n",
              "    }\n",
              "\n",
              "    .colab-df-convert:hover {\n",
              "      background-color: #E2EBFA;\n",
              "      box-shadow: 0px 1px 2px rgba(60, 64, 67, 0.3), 0px 1px 3px 1px rgba(60, 64, 67, 0.15);\n",
              "      fill: #174EA6;\n",
              "    }\n",
              "\n",
              "    [theme=dark] .colab-df-convert {\n",
              "      background-color: #3B4455;\n",
              "      fill: #D2E3FC;\n",
              "    }\n",
              "\n",
              "    [theme=dark] .colab-df-convert:hover {\n",
              "      background-color: #434B5C;\n",
              "      box-shadow: 0px 1px 3px 1px rgba(0, 0, 0, 0.15);\n",
              "      filter: drop-shadow(0px 1px 2px rgba(0, 0, 0, 0.3));\n",
              "      fill: #FFFFFF;\n",
              "    }\n",
              "  </style>\n",
              "\n",
              "      <script>\n",
              "        const buttonEl =\n",
              "          document.querySelector('#df-d5592905-74ce-4201-a1eb-62aabe1d8801 button.colab-df-convert');\n",
              "        buttonEl.style.display =\n",
              "          google.colab.kernel.accessAllowed ? 'block' : 'none';\n",
              "\n",
              "        async function convertToInteractive(key) {\n",
              "          const element = document.querySelector('#df-d5592905-74ce-4201-a1eb-62aabe1d8801');\n",
              "          const dataTable =\n",
              "            await google.colab.kernel.invokeFunction('convertToInteractive',\n",
              "                                                     [key], {});\n",
              "          if (!dataTable) return;\n",
              "\n",
              "          const docLinkHtml = 'Like what you see? Visit the ' +\n",
              "            '<a target=\"_blank\" href=https://colab.research.google.com/notebooks/data_table.ipynb>data table notebook</a>'\n",
              "            + ' to learn more about interactive tables.';\n",
              "          element.innerHTML = '';\n",
              "          dataTable['output_type'] = 'display_data';\n",
              "          await google.colab.output.renderOutput(dataTable, element);\n",
              "          const docLink = document.createElement('div');\n",
              "          docLink.innerHTML = docLinkHtml;\n",
              "          element.appendChild(docLink);\n",
              "        }\n",
              "      </script>\n",
              "    </div>\n",
              "  </div>\n",
              "  "
            ]
          },
          "metadata": {},
          "execution_count": 2
        }
      ],
      "source": [
        "import pandas as pd\n",
        "\n",
        "# To help you get started, a load function is provided below. \n",
        "# You will need to fill in the code under #TODO to make it work.\n",
        "def loadBostonHousingData(housing_csv):\n",
        "  # The column names are adopted from the dataset page on Kaggle   \n",
        "  housing = pd.read_csv(housing_csv)\n",
        "  return housing\n",
        "\n",
        "# Call the function to load your dataset here\n",
        "housing  = loadBostonHousingData(\"train.csv\")\n",
        "# display the first ten rows of the data for check\n",
        "housing.head(10)"
      ]
    },
    {
      "cell_type": "code",
      "execution_count": null,
      "metadata": {
        "colab": {
          "base_uri": "https://localhost:8080/"
        },
        "id": "LuQlQ4R5pwPK",
        "outputId": "0b25c78e-bba1-4ca4-a504-4da3d5717a3b"
      },
      "outputs": [
        {
          "output_type": "stream",
          "name": "stdout",
          "text": [
            "<class 'pandas.core.frame.DataFrame'>\n",
            "RangeIndex: 1460 entries, 0 to 1459\n",
            "Data columns (total 81 columns):\n",
            " #   Column         Non-Null Count  Dtype  \n",
            "---  ------         --------------  -----  \n",
            " 0   Id             1460 non-null   int64  \n",
            " 1   MSSubClass     1460 non-null   int64  \n",
            " 2   MSZoning       1460 non-null   object \n",
            " 3   LotFrontage    1201 non-null   float64\n",
            " 4   LotArea        1460 non-null   int64  \n",
            " 5   Street         1460 non-null   object \n",
            " 6   Alley          91 non-null     object \n",
            " 7   LotShape       1460 non-null   object \n",
            " 8   LandContour    1460 non-null   object \n",
            " 9   Utilities      1460 non-null   object \n",
            " 10  LotConfig      1460 non-null   object \n",
            " 11  LandSlope      1460 non-null   object \n",
            " 12  Neighborhood   1460 non-null   object \n",
            " 13  Condition1     1460 non-null   object \n",
            " 14  Condition2     1460 non-null   object \n",
            " 15  BldgType       1460 non-null   object \n",
            " 16  HouseStyle     1460 non-null   object \n",
            " 17  OverallQual    1460 non-null   int64  \n",
            " 18  OverallCond    1460 non-null   int64  \n",
            " 19  YearBuilt      1460 non-null   int64  \n",
            " 20  YearRemodAdd   1460 non-null   int64  \n",
            " 21  RoofStyle      1460 non-null   object \n",
            " 22  RoofMatl       1460 non-null   object \n",
            " 23  Exterior1st    1460 non-null   object \n",
            " 24  Exterior2nd    1460 non-null   object \n",
            " 25  MasVnrType     1452 non-null   object \n",
            " 26  MasVnrArea     1452 non-null   float64\n",
            " 27  ExterQual      1460 non-null   object \n",
            " 28  ExterCond      1460 non-null   object \n",
            " 29  Foundation     1460 non-null   object \n",
            " 30  BsmtQual       1423 non-null   object \n",
            " 31  BsmtCond       1423 non-null   object \n",
            " 32  BsmtExposure   1422 non-null   object \n",
            " 33  BsmtFinType1   1423 non-null   object \n",
            " 34  BsmtFinSF1     1460 non-null   int64  \n",
            " 35  BsmtFinType2   1422 non-null   object \n",
            " 36  BsmtFinSF2     1460 non-null   int64  \n",
            " 37  BsmtUnfSF      1460 non-null   int64  \n",
            " 38  TotalBsmtSF    1460 non-null   int64  \n",
            " 39  Heating        1460 non-null   object \n",
            " 40  HeatingQC      1460 non-null   object \n",
            " 41  CentralAir     1460 non-null   object \n",
            " 42  Electrical     1459 non-null   object \n",
            " 43  1stFlrSF       1460 non-null   int64  \n",
            " 44  2ndFlrSF       1460 non-null   int64  \n",
            " 45  LowQualFinSF   1460 non-null   int64  \n",
            " 46  GrLivArea      1460 non-null   int64  \n",
            " 47  BsmtFullBath   1460 non-null   int64  \n",
            " 48  BsmtHalfBath   1460 non-null   int64  \n",
            " 49  FullBath       1460 non-null   int64  \n",
            " 50  HalfBath       1460 non-null   int64  \n",
            " 51  BedroomAbvGr   1460 non-null   int64  \n",
            " 52  KitchenAbvGr   1460 non-null   int64  \n",
            " 53  KitchenQual    1460 non-null   object \n",
            " 54  TotRmsAbvGrd   1460 non-null   int64  \n",
            " 55  Functional     1460 non-null   object \n",
            " 56  Fireplaces     1460 non-null   int64  \n",
            " 57  FireplaceQu    770 non-null    object \n",
            " 58  GarageType     1379 non-null   object \n",
            " 59  GarageYrBlt    1379 non-null   float64\n",
            " 60  GarageFinish   1379 non-null   object \n",
            " 61  GarageCars     1460 non-null   int64  \n",
            " 62  GarageArea     1460 non-null   int64  \n",
            " 63  GarageQual     1379 non-null   object \n",
            " 64  GarageCond     1379 non-null   object \n",
            " 65  PavedDrive     1460 non-null   object \n",
            " 66  WoodDeckSF     1460 non-null   int64  \n",
            " 67  OpenPorchSF    1460 non-null   int64  \n",
            " 68  EnclosedPorch  1460 non-null   int64  \n",
            " 69  3SsnPorch      1460 non-null   int64  \n",
            " 70  ScreenPorch    1460 non-null   int64  \n",
            " 71  PoolArea       1460 non-null   int64  \n",
            " 72  PoolQC         7 non-null      object \n",
            " 73  Fence          281 non-null    object \n",
            " 74  MiscFeature    54 non-null     object \n",
            " 75  MiscVal        1460 non-null   int64  \n",
            " 76  MoSold         1460 non-null   int64  \n",
            " 77  YrSold         1460 non-null   int64  \n",
            " 78  SaleType       1460 non-null   object \n",
            " 79  SaleCondition  1460 non-null   object \n",
            " 80  SalePrice      1460 non-null   int64  \n",
            "dtypes: float64(3), int64(35), object(43)\n",
            "memory usage: 924.0+ KB\n"
          ]
        }
      ],
      "source": [
        "# procide a quick summary of data w/ features, count, and types\n",
        "housing.info()"
      ]
    },
    {
      "cell_type": "code",
      "execution_count": null,
      "metadata": {
        "colab": {
          "base_uri": "https://localhost:8080/"
        },
        "id": "wMAshNWNqCVt",
        "outputId": "d71663d6-201e-4402-cab0-94482b7d27d7"
      },
      "outputs": [
        {
          "output_type": "execute_result",
          "data": {
            "text/plain": [
              "7200     25\n",
              "9600     24\n",
              "6000     17\n",
              "9000     14\n",
              "8400     14\n",
              "         ..\n",
              "14601     1\n",
              "13682     1\n",
              "4058      1\n",
              "17104     1\n",
              "9717      1\n",
              "Name: LotArea, Length: 1073, dtype: int64"
            ]
          },
          "metadata": {},
          "execution_count": 4
        }
      ],
      "source": [
        "# view the counts of each value in \"LotArea\" feature\n",
        "housing[\"LotArea\"].value_counts()"
      ]
    },
    {
      "cell_type": "code",
      "execution_count": null,
      "metadata": {
        "colab": {
          "base_uri": "https://localhost:8080/",
          "height": 394
        },
        "id": "uuqLZt6BqUh_",
        "outputId": "b2997aa1-ee61-4c32-b379-c61527e4f69a"
      },
      "outputs": [
        {
          "output_type": "execute_result",
          "data": {
            "text/plain": [
              "                Id   MSSubClass  LotFrontage        LotArea  OverallQual  \\\n",
              "count  1460.000000  1460.000000  1201.000000    1460.000000  1460.000000   \n",
              "mean    730.500000    56.897260    70.049958   10516.828082     6.099315   \n",
              "std     421.610009    42.300571    24.284752    9981.264932     1.382997   \n",
              "min       1.000000    20.000000    21.000000    1300.000000     1.000000   \n",
              "25%     365.750000    20.000000    59.000000    7553.500000     5.000000   \n",
              "50%     730.500000    50.000000    69.000000    9478.500000     6.000000   \n",
              "75%    1095.250000    70.000000    80.000000   11601.500000     7.000000   \n",
              "max    1460.000000   190.000000   313.000000  215245.000000    10.000000   \n",
              "\n",
              "       OverallCond    YearBuilt  YearRemodAdd   MasVnrArea   BsmtFinSF1  ...  \\\n",
              "count  1460.000000  1460.000000   1460.000000  1452.000000  1460.000000  ...   \n",
              "mean      5.575342  1971.267808   1984.865753   103.685262   443.639726  ...   \n",
              "std       1.112799    30.202904     20.645407   181.066207   456.098091  ...   \n",
              "min       1.000000  1872.000000   1950.000000     0.000000     0.000000  ...   \n",
              "25%       5.000000  1954.000000   1967.000000     0.000000     0.000000  ...   \n",
              "50%       5.000000  1973.000000   1994.000000     0.000000   383.500000  ...   \n",
              "75%       6.000000  2000.000000   2004.000000   166.000000   712.250000  ...   \n",
              "max       9.000000  2010.000000   2010.000000  1600.000000  5644.000000  ...   \n",
              "\n",
              "        WoodDeckSF  OpenPorchSF  EnclosedPorch    3SsnPorch  ScreenPorch  \\\n",
              "count  1460.000000  1460.000000    1460.000000  1460.000000  1460.000000   \n",
              "mean     94.244521    46.660274      21.954110     3.409589    15.060959   \n",
              "std     125.338794    66.256028      61.119149    29.317331    55.757415   \n",
              "min       0.000000     0.000000       0.000000     0.000000     0.000000   \n",
              "25%       0.000000     0.000000       0.000000     0.000000     0.000000   \n",
              "50%       0.000000    25.000000       0.000000     0.000000     0.000000   \n",
              "75%     168.000000    68.000000       0.000000     0.000000     0.000000   \n",
              "max     857.000000   547.000000     552.000000   508.000000   480.000000   \n",
              "\n",
              "          PoolArea       MiscVal       MoSold       YrSold      SalePrice  \n",
              "count  1460.000000   1460.000000  1460.000000  1460.000000    1460.000000  \n",
              "mean      2.758904     43.489041     6.321918  2007.815753  180921.195890  \n",
              "std      40.177307    496.123024     2.703626     1.328095   79442.502883  \n",
              "min       0.000000      0.000000     1.000000  2006.000000   34900.000000  \n",
              "25%       0.000000      0.000000     5.000000  2007.000000  129975.000000  \n",
              "50%       0.000000      0.000000     6.000000  2008.000000  163000.000000  \n",
              "75%       0.000000      0.000000     8.000000  2009.000000  214000.000000  \n",
              "max     738.000000  15500.000000    12.000000  2010.000000  755000.000000  \n",
              "\n",
              "[8 rows x 38 columns]"
            ],
            "text/html": [
              "\n",
              "  <div id=\"df-db669977-9944-493e-81ca-041da2971c79\">\n",
              "    <div class=\"colab-df-container\">\n",
              "      <div>\n",
              "<style scoped>\n",
              "    .dataframe tbody tr th:only-of-type {\n",
              "        vertical-align: middle;\n",
              "    }\n",
              "\n",
              "    .dataframe tbody tr th {\n",
              "        vertical-align: top;\n",
              "    }\n",
              "\n",
              "    .dataframe thead th {\n",
              "        text-align: right;\n",
              "    }\n",
              "</style>\n",
              "<table border=\"1\" class=\"dataframe\">\n",
              "  <thead>\n",
              "    <tr style=\"text-align: right;\">\n",
              "      <th></th>\n",
              "      <th>Id</th>\n",
              "      <th>MSSubClass</th>\n",
              "      <th>LotFrontage</th>\n",
              "      <th>LotArea</th>\n",
              "      <th>OverallQual</th>\n",
              "      <th>OverallCond</th>\n",
              "      <th>YearBuilt</th>\n",
              "      <th>YearRemodAdd</th>\n",
              "      <th>MasVnrArea</th>\n",
              "      <th>BsmtFinSF1</th>\n",
              "      <th>...</th>\n",
              "      <th>WoodDeckSF</th>\n",
              "      <th>OpenPorchSF</th>\n",
              "      <th>EnclosedPorch</th>\n",
              "      <th>3SsnPorch</th>\n",
              "      <th>ScreenPorch</th>\n",
              "      <th>PoolArea</th>\n",
              "      <th>MiscVal</th>\n",
              "      <th>MoSold</th>\n",
              "      <th>YrSold</th>\n",
              "      <th>SalePrice</th>\n",
              "    </tr>\n",
              "  </thead>\n",
              "  <tbody>\n",
              "    <tr>\n",
              "      <th>count</th>\n",
              "      <td>1460.000000</td>\n",
              "      <td>1460.000000</td>\n",
              "      <td>1201.000000</td>\n",
              "      <td>1460.000000</td>\n",
              "      <td>1460.000000</td>\n",
              "      <td>1460.000000</td>\n",
              "      <td>1460.000000</td>\n",
              "      <td>1460.000000</td>\n",
              "      <td>1452.000000</td>\n",
              "      <td>1460.000000</td>\n",
              "      <td>...</td>\n",
              "      <td>1460.000000</td>\n",
              "      <td>1460.000000</td>\n",
              "      <td>1460.000000</td>\n",
              "      <td>1460.000000</td>\n",
              "      <td>1460.000000</td>\n",
              "      <td>1460.000000</td>\n",
              "      <td>1460.000000</td>\n",
              "      <td>1460.000000</td>\n",
              "      <td>1460.000000</td>\n",
              "      <td>1460.000000</td>\n",
              "    </tr>\n",
              "    <tr>\n",
              "      <th>mean</th>\n",
              "      <td>730.500000</td>\n",
              "      <td>56.897260</td>\n",
              "      <td>70.049958</td>\n",
              "      <td>10516.828082</td>\n",
              "      <td>6.099315</td>\n",
              "      <td>5.575342</td>\n",
              "      <td>1971.267808</td>\n",
              "      <td>1984.865753</td>\n",
              "      <td>103.685262</td>\n",
              "      <td>443.639726</td>\n",
              "      <td>...</td>\n",
              "      <td>94.244521</td>\n",
              "      <td>46.660274</td>\n",
              "      <td>21.954110</td>\n",
              "      <td>3.409589</td>\n",
              "      <td>15.060959</td>\n",
              "      <td>2.758904</td>\n",
              "      <td>43.489041</td>\n",
              "      <td>6.321918</td>\n",
              "      <td>2007.815753</td>\n",
              "      <td>180921.195890</td>\n",
              "    </tr>\n",
              "    <tr>\n",
              "      <th>std</th>\n",
              "      <td>421.610009</td>\n",
              "      <td>42.300571</td>\n",
              "      <td>24.284752</td>\n",
              "      <td>9981.264932</td>\n",
              "      <td>1.382997</td>\n",
              "      <td>1.112799</td>\n",
              "      <td>30.202904</td>\n",
              "      <td>20.645407</td>\n",
              "      <td>181.066207</td>\n",
              "      <td>456.098091</td>\n",
              "      <td>...</td>\n",
              "      <td>125.338794</td>\n",
              "      <td>66.256028</td>\n",
              "      <td>61.119149</td>\n",
              "      <td>29.317331</td>\n",
              "      <td>55.757415</td>\n",
              "      <td>40.177307</td>\n",
              "      <td>496.123024</td>\n",
              "      <td>2.703626</td>\n",
              "      <td>1.328095</td>\n",
              "      <td>79442.502883</td>\n",
              "    </tr>\n",
              "    <tr>\n",
              "      <th>min</th>\n",
              "      <td>1.000000</td>\n",
              "      <td>20.000000</td>\n",
              "      <td>21.000000</td>\n",
              "      <td>1300.000000</td>\n",
              "      <td>1.000000</td>\n",
              "      <td>1.000000</td>\n",
              "      <td>1872.000000</td>\n",
              "      <td>1950.000000</td>\n",
              "      <td>0.000000</td>\n",
              "      <td>0.000000</td>\n",
              "      <td>...</td>\n",
              "      <td>0.000000</td>\n",
              "      <td>0.000000</td>\n",
              "      <td>0.000000</td>\n",
              "      <td>0.000000</td>\n",
              "      <td>0.000000</td>\n",
              "      <td>0.000000</td>\n",
              "      <td>0.000000</td>\n",
              "      <td>1.000000</td>\n",
              "      <td>2006.000000</td>\n",
              "      <td>34900.000000</td>\n",
              "    </tr>\n",
              "    <tr>\n",
              "      <th>25%</th>\n",
              "      <td>365.750000</td>\n",
              "      <td>20.000000</td>\n",
              "      <td>59.000000</td>\n",
              "      <td>7553.500000</td>\n",
              "      <td>5.000000</td>\n",
              "      <td>5.000000</td>\n",
              "      <td>1954.000000</td>\n",
              "      <td>1967.000000</td>\n",
              "      <td>0.000000</td>\n",
              "      <td>0.000000</td>\n",
              "      <td>...</td>\n",
              "      <td>0.000000</td>\n",
              "      <td>0.000000</td>\n",
              "      <td>0.000000</td>\n",
              "      <td>0.000000</td>\n",
              "      <td>0.000000</td>\n",
              "      <td>0.000000</td>\n",
              "      <td>0.000000</td>\n",
              "      <td>5.000000</td>\n",
              "      <td>2007.000000</td>\n",
              "      <td>129975.000000</td>\n",
              "    </tr>\n",
              "    <tr>\n",
              "      <th>50%</th>\n",
              "      <td>730.500000</td>\n",
              "      <td>50.000000</td>\n",
              "      <td>69.000000</td>\n",
              "      <td>9478.500000</td>\n",
              "      <td>6.000000</td>\n",
              "      <td>5.000000</td>\n",
              "      <td>1973.000000</td>\n",
              "      <td>1994.000000</td>\n",
              "      <td>0.000000</td>\n",
              "      <td>383.500000</td>\n",
              "      <td>...</td>\n",
              "      <td>0.000000</td>\n",
              "      <td>25.000000</td>\n",
              "      <td>0.000000</td>\n",
              "      <td>0.000000</td>\n",
              "      <td>0.000000</td>\n",
              "      <td>0.000000</td>\n",
              "      <td>0.000000</td>\n",
              "      <td>6.000000</td>\n",
              "      <td>2008.000000</td>\n",
              "      <td>163000.000000</td>\n",
              "    </tr>\n",
              "    <tr>\n",
              "      <th>75%</th>\n",
              "      <td>1095.250000</td>\n",
              "      <td>70.000000</td>\n",
              "      <td>80.000000</td>\n",
              "      <td>11601.500000</td>\n",
              "      <td>7.000000</td>\n",
              "      <td>6.000000</td>\n",
              "      <td>2000.000000</td>\n",
              "      <td>2004.000000</td>\n",
              "      <td>166.000000</td>\n",
              "      <td>712.250000</td>\n",
              "      <td>...</td>\n",
              "      <td>168.000000</td>\n",
              "      <td>68.000000</td>\n",
              "      <td>0.000000</td>\n",
              "      <td>0.000000</td>\n",
              "      <td>0.000000</td>\n",
              "      <td>0.000000</td>\n",
              "      <td>0.000000</td>\n",
              "      <td>8.000000</td>\n",
              "      <td>2009.000000</td>\n",
              "      <td>214000.000000</td>\n",
              "    </tr>\n",
              "    <tr>\n",
              "      <th>max</th>\n",
              "      <td>1460.000000</td>\n",
              "      <td>190.000000</td>\n",
              "      <td>313.000000</td>\n",
              "      <td>215245.000000</td>\n",
              "      <td>10.000000</td>\n",
              "      <td>9.000000</td>\n",
              "      <td>2010.000000</td>\n",
              "      <td>2010.000000</td>\n",
              "      <td>1600.000000</td>\n",
              "      <td>5644.000000</td>\n",
              "      <td>...</td>\n",
              "      <td>857.000000</td>\n",
              "      <td>547.000000</td>\n",
              "      <td>552.000000</td>\n",
              "      <td>508.000000</td>\n",
              "      <td>480.000000</td>\n",
              "      <td>738.000000</td>\n",
              "      <td>15500.000000</td>\n",
              "      <td>12.000000</td>\n",
              "      <td>2010.000000</td>\n",
              "      <td>755000.000000</td>\n",
              "    </tr>\n",
              "  </tbody>\n",
              "</table>\n",
              "<p>8 rows × 38 columns</p>\n",
              "</div>\n",
              "      <button class=\"colab-df-convert\" onclick=\"convertToInteractive('df-db669977-9944-493e-81ca-041da2971c79')\"\n",
              "              title=\"Convert this dataframe to an interactive table.\"\n",
              "              style=\"display:none;\">\n",
              "        \n",
              "  <svg xmlns=\"http://www.w3.org/2000/svg\" height=\"24px\"viewBox=\"0 0 24 24\"\n",
              "       width=\"24px\">\n",
              "    <path d=\"M0 0h24v24H0V0z\" fill=\"none\"/>\n",
              "    <path d=\"M18.56 5.44l.94 2.06.94-2.06 2.06-.94-2.06-.94-.94-2.06-.94 2.06-2.06.94zm-11 1L8.5 8.5l.94-2.06 2.06-.94-2.06-.94L8.5 2.5l-.94 2.06-2.06.94zm10 10l.94 2.06.94-2.06 2.06-.94-2.06-.94-.94-2.06-.94 2.06-2.06.94z\"/><path d=\"M17.41 7.96l-1.37-1.37c-.4-.4-.92-.59-1.43-.59-.52 0-1.04.2-1.43.59L10.3 9.45l-7.72 7.72c-.78.78-.78 2.05 0 2.83L4 21.41c.39.39.9.59 1.41.59.51 0 1.02-.2 1.41-.59l7.78-7.78 2.81-2.81c.8-.78.8-2.07 0-2.86zM5.41 20L4 18.59l7.72-7.72 1.47 1.35L5.41 20z\"/>\n",
              "  </svg>\n",
              "      </button>\n",
              "      \n",
              "  <style>\n",
              "    .colab-df-container {\n",
              "      display:flex;\n",
              "      flex-wrap:wrap;\n",
              "      gap: 12px;\n",
              "    }\n",
              "\n",
              "    .colab-df-convert {\n",
              "      background-color: #E8F0FE;\n",
              "      border: none;\n",
              "      border-radius: 50%;\n",
              "      cursor: pointer;\n",
              "      display: none;\n",
              "      fill: #1967D2;\n",
              "      height: 32px;\n",
              "      padding: 0 0 0 0;\n",
              "      width: 32px;\n",
              "    }\n",
              "\n",
              "    .colab-df-convert:hover {\n",
              "      background-color: #E2EBFA;\n",
              "      box-shadow: 0px 1px 2px rgba(60, 64, 67, 0.3), 0px 1px 3px 1px rgba(60, 64, 67, 0.15);\n",
              "      fill: #174EA6;\n",
              "    }\n",
              "\n",
              "    [theme=dark] .colab-df-convert {\n",
              "      background-color: #3B4455;\n",
              "      fill: #D2E3FC;\n",
              "    }\n",
              "\n",
              "    [theme=dark] .colab-df-convert:hover {\n",
              "      background-color: #434B5C;\n",
              "      box-shadow: 0px 1px 3px 1px rgba(0, 0, 0, 0.15);\n",
              "      filter: drop-shadow(0px 1px 2px rgba(0, 0, 0, 0.3));\n",
              "      fill: #FFFFFF;\n",
              "    }\n",
              "  </style>\n",
              "\n",
              "      <script>\n",
              "        const buttonEl =\n",
              "          document.querySelector('#df-db669977-9944-493e-81ca-041da2971c79 button.colab-df-convert');\n",
              "        buttonEl.style.display =\n",
              "          google.colab.kernel.accessAllowed ? 'block' : 'none';\n",
              "\n",
              "        async function convertToInteractive(key) {\n",
              "          const element = document.querySelector('#df-db669977-9944-493e-81ca-041da2971c79');\n",
              "          const dataTable =\n",
              "            await google.colab.kernel.invokeFunction('convertToInteractive',\n",
              "                                                     [key], {});\n",
              "          if (!dataTable) return;\n",
              "\n",
              "          const docLinkHtml = 'Like what you see? Visit the ' +\n",
              "            '<a target=\"_blank\" href=https://colab.research.google.com/notebooks/data_table.ipynb>data table notebook</a>'\n",
              "            + ' to learn more about interactive tables.';\n",
              "          element.innerHTML = '';\n",
              "          dataTable['output_type'] = 'display_data';\n",
              "          await google.colab.output.renderOutput(dataTable, element);\n",
              "          const docLink = document.createElement('div');\n",
              "          docLink.innerHTML = docLinkHtml;\n",
              "          element.appendChild(docLink);\n",
              "        }\n",
              "      </script>\n",
              "    </div>\n",
              "  </div>\n",
              "  "
            ]
          },
          "metadata": {},
          "execution_count": 5
        }
      ],
      "source": [
        "# provide basic statistics about the dataset\n",
        "housing.describe()"
      ]
    },
    {
      "cell_type": "markdown",
      "source": [
        "### output from housing.info() <br>\n",
        "How big is your dataset?<br> **0.924 MB** <br><br>\n",
        "How many entries does it have?<br> **1460** <br><br>\n",
        "How many features does it have?<br> **81 features, including id (80 features without id)** <br><br>\n",
        "Does it contain any categorical data?<br> **Yes, like [\"Neighborhoods\"].** <br><br>\n",
        "Is there any missing values?<br> **Yes, for example LotFrontage has only 1201 entries (instead of a full 1460).** <br><br>\n",
        "What are some basic statistics you can learn right away about this dataset? <br>\n",
        "**Some basic statistics include:** <br>\n",
        "**The average overall quality of a house is 6.1/10, which may be the best feature to relate to final sale price.** <br>\n",
        "**The average sale price of a house is $180,921.19.** <br>\n",
        "**More statistics can be found above in the housing.describe() results.** <br>\n"
      ],
      "metadata": {
        "id": "ffQEwK2HEGfN"
      }
    },
    {
      "cell_type": "markdown",
      "metadata": {
        "id": "j5cT4JBSYOS6"
      },
      "source": [
        "## Step 3. Discover and visualize the data to gain insights\n"
      ]
    },
    {
      "cell_type": "code",
      "execution_count": null,
      "metadata": {
        "colab": {
          "base_uri": "https://localhost:8080/",
          "height": 879
        },
        "id": "HqfralxMGqCt",
        "outputId": "20fc8c4d-98d4-4c81-cb2d-94d5f9862857"
      },
      "outputs": [
        {
          "output_type": "display_data",
          "data": {
            "text/plain": [
              "<Figure size 1440x1080 with 42 Axes>"
            ],
            "image/png": "[encoded data removed]"
          },
          "metadata": {
            "needs_background": "light"
          }
        }
      ],
      "source": [
        "# 1. plot out features in histograms to visualize the data\n",
        "%matplotlib inline\n",
        "import matplotlib.pyplot as plt\n",
        "housing.hist(bins=50, figsize=(20,15))\n",
        "plt.show()"
      ]
    },
    {
      "cell_type": "code",
      "execution_count": null,
      "metadata": {
        "colab": {
          "base_uri": "https://localhost:8080/",
          "height": 282
        },
        "id": "GWGr2cUMtpLD",
        "outputId": "2dc90ff4-046e-45a5-eafd-4c973ab538c3"
      },
      "outputs": [
        {
          "output_type": "execute_result",
          "data": {
            "text/plain": [
              "<matplotlib.axes._subplots.AxesSubplot at 0x7ff4aa13e750>"
            ]
          },
          "metadata": {},
          "execution_count": 7
        },
        {
          "output_type": "display_data",
          "data": {
            "text/plain": [
              "<Figure size 432x288 with 1 Axes>"
            ],
            "image/png": "[encoded data removed]"
          },
          "metadata": {
            "needs_background": "light"
          }
        }
      ],
      "source": [
        "# let's look at \"1stFlrSF\" due to the similar histograms between \"1stFlrSF\" and \"SalePrice\" (we're just taking a peek right now)\n",
        "housing[\"1stFlrSF\"].hist()"
      ]
    },
    {
      "cell_type": "code",
      "execution_count": null,
      "metadata": {
        "colab": {
          "base_uri": "https://localhost:8080/"
        },
        "id": "f_JOkdxnffNr",
        "outputId": "73beb44c-0080-4ae3-94f3-4d07eb746d60"
      },
      "outputs": [
        {
          "output_type": "stream",
          "name": "stdout",
          "text": [
            "                     Id  MSSubClass  LotFrontage   LotArea  OverallQual  \\\n",
            "Id             1.000000    0.011156    -0.010601 -0.033226    -0.028365   \n",
            "MSSubClass     0.011156    1.000000    -0.386347 -0.139781     0.032628   \n",
            "LotFrontage   -0.010601   -0.386347     1.000000  0.426095     0.251646   \n",
            "LotArea       -0.033226   -0.139781     0.426095  1.000000     0.105806   \n",
            "OverallQual   -0.028365    0.032628     0.251646  0.105806     1.000000   \n",
            "OverallCond    0.012609   -0.059316    -0.059213 -0.005636    -0.091932   \n",
            "YearBuilt     -0.012713    0.027850     0.123349  0.014228     0.572323   \n",
            "YearRemodAdd  -0.021998    0.040581     0.088866  0.013788     0.550684   \n",
            "MasVnrArea    -0.050298    0.022936     0.193458  0.104160     0.411876   \n",
            "BsmtFinSF1    -0.005024   -0.069836     0.233633  0.214103     0.239666   \n",
            "BsmtFinSF2    -0.005968   -0.065649     0.049900  0.111170    -0.059119   \n",
            "BsmtUnfSF     -0.007940   -0.140759     0.132644 -0.002618     0.308159   \n",
            "TotalBsmtSF   -0.015415   -0.238518     0.392075  0.260833     0.537808   \n",
            "1stFlrSF       0.010496   -0.251758     0.457181  0.299475     0.476224   \n",
            "2ndFlrSF       0.005590    0.307886     0.080177  0.050986     0.295493   \n",
            "LowQualFinSF  -0.044230    0.046474     0.038469  0.004779    -0.030429   \n",
            "GrLivArea      0.008273    0.074853     0.402797  0.263116     0.593007   \n",
            "BsmtFullBath   0.002289    0.003491     0.100949  0.158155     0.111098   \n",
            "BsmtHalfBath  -0.020155   -0.002333    -0.007234  0.048046    -0.040150   \n",
            "FullBath       0.005587    0.131608     0.198769  0.126031     0.550600   \n",
            "HalfBath       0.006784    0.177354     0.053532  0.014259     0.273458   \n",
            "BedroomAbvGr   0.037719   -0.023438     0.263170  0.119690     0.101676   \n",
            "KitchenAbvGr   0.002951    0.281721    -0.006069 -0.017784    -0.183882   \n",
            "TotRmsAbvGrd   0.027239    0.040380     0.352096  0.190015     0.427452   \n",
            "Fireplaces    -0.019772   -0.045569     0.266639  0.271364     0.396765   \n",
            "GarageYrBlt    0.000072    0.085072     0.070250 -0.024947     0.547766   \n",
            "GarageCars     0.016570   -0.040110     0.285691  0.154871     0.600671   \n",
            "GarageArea     0.017634   -0.098672     0.344997  0.180403     0.562022   \n",
            "WoodDeckSF    -0.029643   -0.012579     0.088521  0.171698     0.238923   \n",
            "OpenPorchSF   -0.000477   -0.006100     0.151972  0.084774     0.308819   \n",
            "EnclosedPorch  0.002889   -0.012037     0.010700 -0.018340    -0.113937   \n",
            "3SsnPorch     -0.046635   -0.043825     0.070029  0.020423     0.030371   \n",
            "ScreenPorch    0.001330   -0.026030     0.041383  0.043160     0.064886   \n",
            "PoolArea       0.057044    0.008283     0.206167  0.077672     0.065166   \n",
            "MiscVal       -0.006242   -0.007683     0.003368  0.038068    -0.031406   \n",
            "MoSold         0.021172   -0.013585     0.011200  0.001205     0.070815   \n",
            "YrSold         0.000712   -0.021407     0.007450 -0.014261    -0.027347   \n",
            "SalePrice     -0.021917   -0.084284     0.351799  0.263843     0.790982   \n",
            "\n",
            "               OverallCond  YearBuilt  YearRemodAdd  MasVnrArea  BsmtFinSF1  \\\n",
            "Id                0.012609  -0.012713     -0.021998   -0.050298   -0.005024   \n",
            "MSSubClass       -0.059316   0.027850      0.040581    0.022936   -0.069836   \n",
            "LotFrontage      -0.059213   0.123349      0.088866    0.193458    0.233633   \n",
            "LotArea          -0.005636   0.014228      0.013788    0.104160    0.214103   \n",
            "OverallQual      -0.091932   0.572323      0.550684    0.411876    0.239666   \n",
            "OverallCond       1.000000  -0.375983      0.073741   -0.128101   -0.046231   \n",
            "YearBuilt        -0.375983   1.000000      0.592855    0.315707    0.249503   \n",
            "YearRemodAdd      0.073741   0.592855      1.000000    0.179618    0.128451   \n",
            "MasVnrArea       -0.128101   0.315707      0.179618    1.000000    0.264736   \n",
            "BsmtFinSF1       -0.046231   0.249503      0.128451    0.264736    1.000000   \n",
            "BsmtFinSF2        0.040229  -0.049107     -0.067759   -0.072319   -0.050117   \n",
            "BsmtUnfSF        -0.136841   0.149040      0.181133    0.114442   -0.495251   \n",
            "TotalBsmtSF      -0.171098   0.391452      0.291066    0.363936    0.522396   \n",
            "1stFlrSF         -0.144203   0.281986      0.240379    0.344501    0.445863   \n",
            "2ndFlrSF          0.028942   0.010308      0.140024    0.174561   -0.137079   \n",
            "LowQualFinSF      0.025494  -0.183784     -0.062419   -0.069071   -0.064503   \n",
            "GrLivArea        -0.079686   0.199010      0.287389    0.390857    0.208171   \n",
            "BsmtFullBath     -0.054942   0.187599      0.119470    0.085310    0.649212   \n",
            "BsmtHalfBath      0.117821  -0.038162     -0.012337    0.026673    0.067418   \n",
            "FullBath         -0.194149   0.468271      0.439046    0.276833    0.058543   \n",
            "HalfBath         -0.060769   0.242656      0.183331    0.201444    0.004262   \n",
            "BedroomAbvGr      0.012980  -0.070651     -0.040581    0.102821   -0.107355   \n",
            "KitchenAbvGr     -0.087001  -0.174800     -0.149598   -0.037610   -0.081007   \n",
            "TotRmsAbvGrd     -0.057583   0.095589      0.191740    0.280682    0.044316   \n",
            "Fireplaces       -0.023820   0.147716      0.112581    0.249070    0.260011   \n",
            "GarageYrBlt      -0.324297   0.825667      0.642277    0.252691    0.153484   \n",
            "GarageCars       -0.185758   0.537850      0.420622    0.364204    0.224054   \n",
            "GarageArea       -0.151521   0.478954      0.371600    0.373066    0.296970   \n",
            "WoodDeckSF       -0.003334   0.224880      0.205726    0.159718    0.204306   \n",
            "OpenPorchSF      -0.032589   0.188686      0.226298    0.125703    0.111761   \n",
            "EnclosedPorch     0.070356  -0.387268     -0.193919   -0.110204   -0.102303   \n",
            "3SsnPorch         0.025504   0.031355      0.045286    0.018796    0.026451   \n",
            "ScreenPorch       0.054811  -0.050364     -0.038740    0.061466    0.062021   \n",
            "PoolArea         -0.001985   0.004950      0.005829    0.011723    0.140491   \n",
            "MiscVal           0.068777  -0.034383     -0.010286   -0.029815    0.003571   \n",
            "MoSold           -0.003511   0.012398      0.021490   -0.005965   -0.015727   \n",
            "YrSold            0.043950  -0.013618      0.035743   -0.008201    0.014359   \n",
            "SalePrice        -0.077856   0.522897      0.507101    0.477493    0.386420   \n",
            "\n",
            "               ...  WoodDeckSF  OpenPorchSF  EnclosedPorch  3SsnPorch  \\\n",
            "Id             ...   -0.029643    -0.000477       0.002889  -0.046635   \n",
            "MSSubClass     ...   -0.012579    -0.006100      -0.012037  -0.043825   \n",
            "LotFrontage    ...    0.088521     0.151972       0.010700   0.070029   \n",
            "LotArea        ...    0.171698     0.084774      -0.018340   0.020423   \n",
            "OverallQual    ...    0.238923     0.308819      -0.113937   0.030371   \n",
            "OverallCond    ...   -0.003334    -0.032589       0.070356   0.025504   \n",
            "YearBuilt      ...    0.224880     0.188686      -0.387268   0.031355   \n",
            "YearRemodAdd   ...    0.205726     0.226298      -0.193919   0.045286   \n",
            "MasVnrArea     ...    0.159718     0.125703      -0.110204   0.018796   \n",
            "BsmtFinSF1     ...    0.204306     0.111761      -0.102303   0.026451   \n",
            "BsmtFinSF2     ...    0.067898     0.003093       0.036543  -0.029993   \n",
            "BsmtUnfSF      ...   -0.005316     0.129005      -0.002538   0.020764   \n",
            "TotalBsmtSF    ...    0.232019     0.247264      -0.095478   0.037384   \n",
            "1stFlrSF       ...    0.235459     0.211671      -0.065292   0.056104   \n",
            "2ndFlrSF       ...    0.092165     0.208026       0.061989  -0.024358   \n",
            "LowQualFinSF   ...   -0.025444     0.018251       0.061081  -0.004296   \n",
            "GrLivArea      ...    0.247433     0.330224       0.009113   0.020643   \n",
            "BsmtFullBath   ...    0.175315     0.067341      -0.049911  -0.000106   \n",
            "BsmtHalfBath   ...    0.040161    -0.025324      -0.008555   0.035114   \n",
            "FullBath       ...    0.187703     0.259977      -0.115093   0.035353   \n",
            "HalfBath       ...    0.108080     0.199740      -0.095317  -0.004972   \n",
            "BedroomAbvGr   ...    0.046854     0.093810       0.041570  -0.024478   \n",
            "KitchenAbvGr   ...   -0.090130    -0.070091       0.037312  -0.024600   \n",
            "TotRmsAbvGrd   ...    0.165984     0.234192       0.004151  -0.006683   \n",
            "Fireplaces     ...    0.200019     0.169405      -0.024822   0.011257   \n",
            "GarageYrBlt    ...    0.224577     0.228425      -0.297003   0.023544   \n",
            "GarageCars     ...    0.226342     0.213569      -0.151434   0.035765   \n",
            "GarageArea     ...    0.224666     0.241435      -0.121777   0.035087   \n",
            "WoodDeckSF     ...    1.000000     0.058661      -0.125989  -0.032771   \n",
            "OpenPorchSF    ...    0.058661     1.000000      -0.093079  -0.005842   \n",
            "EnclosedPorch  ...   -0.125989    -0.093079       1.000000  -0.037305   \n",
            "3SsnPorch      ...   -0.032771    -0.005842      -0.037305   1.000000   \n",
            "ScreenPorch    ...   -0.074181     0.074304      -0.082864  -0.031436   \n",
            "PoolArea       ...    0.073378     0.060762       0.054203  -0.007992   \n",
            "MiscVal        ...   -0.009551    -0.018584       0.018361   0.000354   \n",
            "MoSold         ...    0.021011     0.071255      -0.028887   0.029474   \n",
            "YrSold         ...    0.022270    -0.057619      -0.009916   0.018645   \n",
            "SalePrice      ...    0.324413     0.315856      -0.128578   0.044584   \n",
            "\n",
            "               ScreenPorch  PoolArea   MiscVal    MoSold    YrSold  SalePrice  \n",
            "Id                0.001330  0.057044 -0.006242  0.021172  0.000712  -0.021917  \n",
            "MSSubClass       -0.026030  0.008283 -0.007683 -0.013585 -0.021407  -0.084284  \n",
            "LotFrontage       0.041383  0.206167  0.003368  0.011200  0.007450   0.351799  \n",
            "LotArea           0.043160  0.077672  0.038068  0.001205 -0.014261   0.263843  \n",
            "OverallQual       0.064886  0.065166 -0.031406  0.070815 -0.027347   0.790982  \n",
            "OverallCond       0.054811 -0.001985  0.068777 -0.003511  0.043950  -0.077856  \n",
            "YearBuilt        -0.050364  0.004950 -0.034383  0.012398 -0.013618   0.522897  \n",
            "YearRemodAdd     -0.038740  0.005829 -0.010286  0.021490  0.035743   0.507101  \n",
            "MasVnrArea        0.061466  0.011723 -0.029815 -0.005965 -0.008201   0.477493  \n",
            "BsmtFinSF1        0.062021  0.140491  0.003571 -0.015727  0.014359   0.386420  \n",
            "BsmtFinSF2        0.088871  0.041709  0.004940 -0.015211  0.031706  -0.011378  \n",
            "BsmtUnfSF        -0.012579 -0.035092 -0.023837  0.034888 -0.041258   0.214479  \n",
            "TotalBsmtSF       0.084489  0.126053 -0.018479  0.013196 -0.014969   0.613581  \n",
            "1stFlrSF          0.088758  0.131525 -0.021096  0.031372 -0.013604   0.605852  \n",
            "2ndFlrSF          0.040606  0.081487  0.016197  0.035164 -0.028700   0.319334  \n",
            "LowQualFinSF      0.026799  0.062157 -0.003793 -0.022174 -0.028921  -0.025606  \n",
            "GrLivArea         0.101510  0.170205 -0.002416  0.050240 -0.036526   0.708624  \n",
            "BsmtFullBath      0.023148  0.067616 -0.023047 -0.025361  0.067049   0.227122  \n",
            "BsmtHalfBath      0.032121  0.020025 -0.007367  0.032873 -0.046524  -0.016844  \n",
            "FullBath         -0.008106  0.049604 -0.014290  0.055872 -0.019669   0.560664  \n",
            "HalfBath          0.072426  0.022381  0.001290 -0.009050 -0.010269   0.284108  \n",
            "BedroomAbvGr      0.044300  0.070703  0.007767  0.046544 -0.036014   0.168213  \n",
            "KitchenAbvGr     -0.051613 -0.014525  0.062341  0.026589  0.031687  -0.135907  \n",
            "TotRmsAbvGrd      0.059383  0.083757  0.024763  0.036907 -0.034516   0.533723  \n",
            "Fireplaces        0.184530  0.095074  0.001409  0.046357 -0.024096   0.466929  \n",
            "GarageYrBlt      -0.075418 -0.014501 -0.032417  0.005337 -0.001014   0.486362  \n",
            "GarageCars        0.050494  0.020934 -0.043080  0.040522 -0.039117   0.640409  \n",
            "GarageArea        0.051412  0.061047 -0.027400  0.027974 -0.027378   0.623431  \n",
            "WoodDeckSF       -0.074181  0.073378 -0.009551  0.021011  0.022270   0.324413  \n",
            "OpenPorchSF       0.074304  0.060762 -0.018584  0.071255 -0.057619   0.315856  \n",
            "EnclosedPorch    -0.082864  0.054203  0.018361 -0.028887 -0.009916  -0.128578  \n",
            "3SsnPorch        -0.031436 -0.007992  0.000354  0.029474  0.018645   0.044584  \n",
            "ScreenPorch       1.000000  0.051307  0.031946  0.023217  0.010694   0.111447  \n",
            "PoolArea          0.051307  1.000000  0.029669 -0.033737 -0.059689   0.092404  \n",
            "MiscVal           0.031946  0.029669  1.000000 -0.006495  0.004906  -0.021190  \n",
            "MoSold            0.023217 -0.033737 -0.006495  1.000000 -0.145721   0.046432  \n",
            "YrSold            0.010694 -0.059689  0.004906 -0.145721  1.000000  -0.028923  \n",
            "SalePrice         0.111447  0.092404 -0.021190  0.046432 -0.028923   1.000000  \n",
            "\n",
            "[38 rows x 38 columns]\n"
          ]
        }
      ],
      "source": [
        "# let's examine correlations (pearson (standard correlation coefficient)) and see what pops out\n",
        "correlations = housing.corr()\n",
        "correlations.shape\n",
        "print(correlations)"
      ]
    },
    {
      "cell_type": "code",
      "execution_count": null,
      "metadata": {
        "colab": {
          "base_uri": "https://localhost:8080/"
        },
        "id": "1huA3YlbgR1C",
        "outputId": "f787f319-15c8-4725-c7bd-35dccfaf8632"
      },
      "outputs": [
        {
          "output_type": "execute_result",
          "data": {
            "text/plain": [
              "SalePrice        1.000000\n",
              "OverallQual      0.790982\n",
              "GrLivArea        0.708624\n",
              "GarageCars       0.640409\n",
              "GarageArea       0.623431\n",
              "TotalBsmtSF      0.613581\n",
              "1stFlrSF         0.605852\n",
              "FullBath         0.560664\n",
              "TotRmsAbvGrd     0.533723\n",
              "YearBuilt        0.522897\n",
              "YearRemodAdd     0.507101\n",
              "GarageYrBlt      0.486362\n",
              "MasVnrArea       0.477493\n",
              "Fireplaces       0.466929\n",
              "BsmtFinSF1       0.386420\n",
              "LotFrontage      0.351799\n",
              "WoodDeckSF       0.324413\n",
              "2ndFlrSF         0.319334\n",
              "OpenPorchSF      0.315856\n",
              "HalfBath         0.284108\n",
              "LotArea          0.263843\n",
              "BsmtFullBath     0.227122\n",
              "BsmtUnfSF        0.214479\n",
              "BedroomAbvGr     0.168213\n",
              "ScreenPorch      0.111447\n",
              "PoolArea         0.092404\n",
              "MoSold           0.046432\n",
              "3SsnPorch        0.044584\n",
              "BsmtFinSF2      -0.011378\n",
              "BsmtHalfBath    -0.016844\n",
              "MiscVal         -0.021190\n",
              "Id              -0.021917\n",
              "LowQualFinSF    -0.025606\n",
              "YrSold          -0.028923\n",
              "OverallCond     -0.077856\n",
              "MSSubClass      -0.084284\n",
              "EnclosedPorch   -0.128578\n",
              "KitchenAbvGr    -0.135907\n",
              "Name: SalePrice, dtype: float64"
            ]
          },
          "metadata": {},
          "execution_count": 9
        }
      ],
      "source": [
        "# clearly, there are a lot of correlations to examine. let's zoom on correlations between features and SalePrice\n",
        "correlations[\"SalePrice\"].sort_values(ascending=False)"
      ]
    },
    {
      "cell_type": "code",
      "execution_count": null,
      "metadata": {
        "colab": {
          "base_uri": "https://localhost:8080/"
        },
        "id": "nyLBvj1DgiPj",
        "outputId": "c7fd2e5f-7bbf-4dc0-e79e-970de1e00856"
      },
      "outputs": [
        {
          "output_type": "execute_result",
          "data": {
            "text/plain": [
              "array([[<matplotlib.axes._subplots.AxesSubplot object at 0x7ff4a9099450>,\n",
              "        <matplotlib.axes._subplots.AxesSubplot object at 0x7ff4a851ca50>,\n",
              "        <matplotlib.axes._subplots.AxesSubplot object at 0x7ff4a8497390>,\n",
              "        <matplotlib.axes._subplots.AxesSubplot object at 0x7ff4a855cf50>,\n",
              "        <matplotlib.axes._subplots.AxesSubplot object at 0x7ff4a8551990>,\n",
              "        <matplotlib.axes._subplots.AxesSubplot object at 0x7ff4a8472e90>,\n",
              "        <matplotlib.axes._subplots.AxesSubplot object at 0x7ff4a6c1a450>],\n",
              "       [<matplotlib.axes._subplots.AxesSubplot object at 0x7ff4a6c45890>,\n",
              "        <matplotlib.axes._subplots.AxesSubplot object at 0x7ff4a6c458d0>,\n",
              "        <matplotlib.axes._subplots.AxesSubplot object at 0x7ff4a6bf7ed0>,\n",
              "        <matplotlib.axes._subplots.AxesSubplot object at 0x7ff4a6b72810>,\n",
              "        <matplotlib.axes._subplots.AxesSubplot object at 0x7ff4a6b26d10>,\n",
              "        <matplotlib.axes._subplots.AxesSubplot object at 0x7ff4a6aea250>,\n",
              "        <matplotlib.axes._subplots.AxesSubplot object at 0x7ff4a6aa3750>],\n",
              "       [<matplotlib.axes._subplots.AxesSubplot object at 0x7ff4a6a59c50>,\n",
              "        <matplotlib.axes._subplots.AxesSubplot object at 0x7ff4a6a1d110>,\n",
              "        <matplotlib.axes._subplots.AxesSubplot object at 0x7ff4a69d35d0>,\n",
              "        <matplotlib.axes._subplots.AxesSubplot object at 0x7ff4a698aad0>,\n",
              "        <matplotlib.axes._subplots.AxesSubplot object at 0x7ff4a69b5b10>,\n",
              "        <matplotlib.axes._subplots.AxesSubplot object at 0x7ff4a6985510>,\n",
              "        <matplotlib.axes._subplots.AxesSubplot object at 0x7ff4a693aa10>],\n",
              "       [<matplotlib.axes._subplots.AxesSubplot object at 0x7ff4a68f0f10>,\n",
              "        <matplotlib.axes._subplots.AxesSubplot object at 0x7ff4a68b4450>,\n",
              "        <matplotlib.axes._subplots.AxesSubplot object at 0x7ff4a686b950>,\n",
              "        <matplotlib.axes._subplots.AxesSubplot object at 0x7ff4a6822e50>,\n",
              "        <matplotlib.axes._subplots.AxesSubplot object at 0x7ff4a67e7390>,\n",
              "        <matplotlib.axes._subplots.AxesSubplot object at 0x7ff4a679c890>,\n",
              "        <matplotlib.axes._subplots.AxesSubplot object at 0x7ff4a6752d90>],\n",
              "       [<matplotlib.axes._subplots.AxesSubplot object at 0x7ff4a67152d0>,\n",
              "        <matplotlib.axes._subplots.AxesSubplot object at 0x7ff4a66cd7d0>,\n",
              "        <matplotlib.axes._subplots.AxesSubplot object at 0x7ff4a6704cd0>,\n",
              "        <matplotlib.axes._subplots.AxesSubplot object at 0x7ff4a6649210>,\n",
              "        <matplotlib.axes._subplots.AxesSubplot object at 0x7ff4a667f710>,\n",
              "        <matplotlib.axes._subplots.AxesSubplot object at 0x7ff4a6634c10>,\n",
              "        <matplotlib.axes._subplots.AxesSubplot object at 0x7ff4a65f8150>],\n",
              "       [<matplotlib.axes._subplots.AxesSubplot object at 0x7ff4a65af650>,\n",
              "        <matplotlib.axes._subplots.AxesSubplot object at 0x7ff4a6565b50>,\n",
              "        <matplotlib.axes._subplots.AxesSubplot object at 0x7ff4a6512b90>,\n",
              "        <matplotlib.axes._subplots.AxesSubplot object at 0x7ff4a64df590>,\n",
              "        <matplotlib.axes._subplots.AxesSubplot object at 0x7ff4a6496a90>,\n",
              "        <matplotlib.axes._subplots.AxesSubplot object at 0x7ff4a644ef90>,\n",
              "        <matplotlib.axes._subplots.AxesSubplot object at 0x7ff4a64104d0>],\n",
              "       [<matplotlib.axes._subplots.AxesSubplot object at 0x7ff4a64479d0>,\n",
              "        <matplotlib.axes._subplots.AxesSubplot object at 0x7ff4a8802810>,\n",
              "        <matplotlib.axes._subplots.AxesSubplot object at 0x7ff4a9d0e6d0>,\n",
              "        <matplotlib.axes._subplots.AxesSubplot object at 0x7ff4aa06a9d0>,\n",
              "        <matplotlib.axes._subplots.AxesSubplot object at 0x7ff4a92f2b90>,\n",
              "        <matplotlib.axes._subplots.AxesSubplot object at 0x7ff4a921e310>,\n",
              "        <matplotlib.axes._subplots.AxesSubplot object at 0x7ff4aa0eea50>]],\n",
              "      dtype=object)"
            ]
          },
          "metadata": {},
          "execution_count": 10
        },
        {
          "output_type": "display_data",
          "data": {
            "text/plain": [
              "<Figure size 864x576 with 49 Axes>"
            ],
            "image/png": "[encoded data removed]"
          },
          "metadata": {
            "needs_background": "light"
          }
        }
      ],
      "source": [
        "# ah ha, now we're getting somewhere. a correlation of 1 descibes a strong position correlation, while a correlation of -1 indicates a strong negative correlation. \n",
        "# for example, \"SalePrice\" seems to rise as \"OverallQual\" (0.790982) rises while \"SalePrice\" decreases as \"KitchenAbvGr\" increases (-0.135907)\n",
        "# let's scatter the top 6 positively-correlated plots for some ~ visualization ~\n",
        "from pandas.plotting import scatter_matrix\n",
        "\n",
        "attributes = [\"SalePrice\", \"OverallQual\", \"GrLivArea\", \"GarageCars\", \"GarageArea\", \"TotalBsmtSF\", \"1stFlrSF\"]\n",
        "scatter_matrix(housing[attributes], figsize=(12,8))"
      ]
    },
    {
      "cell_type": "code",
      "execution_count": null,
      "metadata": {
        "colab": {
          "base_uri": "https://localhost:8080/"
        },
        "id": "ElWEak_miC9L",
        "outputId": "c606ae56-f44e-44d7-9b5b-780bdc603f82"
      },
      "outputs": [
        {
          "output_type": "execute_result",
          "data": {
            "text/plain": [
              "<matplotlib.axes._subplots.AxesSubplot at 0x7ff4a9b0b410>"
            ]
          },
          "metadata": {},
          "execution_count": 11
        },
        {
          "output_type": "display_data",
          "data": {
            "text/plain": [
              "<Figure size 432x288 with 2 Axes>"
            ],
            "image/png": "[encoded data removed]"
          },
          "metadata": {
            "needs_background": "light"
          }
        }
      ],
      "source": [
        "# let's get a tad fancier thanks to some skills i picked up in my computational research project (bme benefits)\n",
        "import seaborn as sns\n",
        "sns.heatmap(correlations)"
      ]
    },
    {
      "cell_type": "markdown",
      "metadata": {
        "id": "Hr8UHps5Z0cF"
      },
      "source": [
        "##  Step 4: Data Preparation and Cleaning"
      ]
    },
    {
      "cell_type": "code",
      "execution_count": null,
      "metadata": {
        "colab": {
          "base_uri": "https://localhost:8080/"
        },
        "id": "_Y9PFoSBrAFQ",
        "outputId": "5c48db26-497b-425f-faf1-6f6ecd3f944e"
      },
      "outputs": [
        {
          "output_type": "stream",
          "name": "stdout",
          "text": [
            "training set (1168, 81)\n",
            "testing set (292, 81)\n",
            "training set (1168, 81)\n",
            "validation set (292, 81)\n"
          ]
        }
      ],
      "source": [
        "# step 0. we will split the housing data into training set (80%) and testing set (20%)\n",
        "from sklearn.model_selection import train_test_split\n",
        "train_set, test_set = train_test_split(housing, test_size=0.2, random_state=42)\n",
        "print('training set', train_set.shape)\n",
        "print('testing set', test_set.shape)\n",
        "\n",
        "# and again for training and validation\n",
        "train_set, valid_set = train_test_split(housing, test_size=0.2, random_state=42)\n",
        "print('training set', train_set.shape)\n",
        "print('validation set', valid_set.shape)"
      ]
    },
    {
      "cell_type": "code",
      "execution_count": null,
      "metadata": {
        "colab": {
          "base_uri": "https://localhost:8080/",
          "height": 436
        },
        "id": "3HRkgV6zm04J",
        "outputId": "80161859-52fb-45b5-d34d-6e0767673c69"
      },
      "outputs": [
        {
          "output_type": "execute_result",
          "data": {
            "text/plain": [
              "        Id  MSSubClass MSZoning  LotFrontage  LotArea Street Alley LotShape  \\\n",
              "254    255          20       RL         70.0     8400   Pave   NaN      Reg   \n",
              "1066  1067          60       RL         59.0     7837   Pave   NaN      IR1   \n",
              "638    639          30       RL         67.0     8777   Pave   NaN      Reg   \n",
              "799    800          50       RL         60.0     7200   Pave   NaN      Reg   \n",
              "380    381          50       RL         50.0     5000   Pave  Pave      Reg   \n",
              "303    304          20       RL         70.0     9800   Pave   NaN      Reg   \n",
              "86      87          60       RL        122.0    11911   Pave   NaN      IR2   \n",
              "1385  1386          50       RM         40.0     5436   Pave   NaN      Reg   \n",
              "265    266          20       RL         78.0    12090   Pave   NaN      IR1   \n",
              "793    794          20       RL         76.0     9158   Pave   NaN      Reg   \n",
              "\n",
              "     LandContour Utilities  ... PoolArea PoolQC  Fence MiscFeature MiscVal  \\\n",
              "254          Lvl    AllPub  ...        0    NaN    NaN         NaN       0   \n",
              "1066         Lvl    AllPub  ...        0    NaN    NaN         NaN       0   \n",
              "638          Lvl    AllPub  ...        0    NaN  MnPrv         NaN       0   \n",
              "799          Lvl    AllPub  ...        0    NaN  MnPrv         NaN       0   \n",
              "380          Lvl    AllPub  ...        0    NaN    NaN         NaN       0   \n",
              "303          Lvl    AllPub  ...        0    NaN   GdWo         NaN       0   \n",
              "86           Lvl    AllPub  ...        0    NaN    NaN         NaN       0   \n",
              "1385         Lvl    AllPub  ...        0    NaN  MnPrv         NaN       0   \n",
              "265          Lvl    AllPub  ...        0    NaN  GdPrv         NaN       0   \n",
              "793          Lvl    AllPub  ...        0    NaN    NaN         NaN       0   \n",
              "\n",
              "     MoSold YrSold  SaleType  SaleCondition  SalePrice  \n",
              "254       6   2010        WD         Normal     145000  \n",
              "1066      5   2009        WD         Normal     178000  \n",
              "638       5   2008        WD         Normal      85000  \n",
              "799       6   2007        WD         Normal     175000  \n",
              "380       5   2010        WD         Normal     127000  \n",
              "303       7   2006        WD        Abnorml     149900  \n",
              "86        3   2009        WD         Normal     174000  \n",
              "1385      5   2010        WD         Normal     125500  \n",
              "265       6   2008        WD         Normal     175500  \n",
              "793       6   2007       New        Partial     225000  \n",
              "\n",
              "[10 rows x 81 columns]"
            ],
            "text/html": [
              "\n",
              "  <div id=\"df-8ec02242-82b4-420d-9dba-8a00e8b79002\">\n",
              "    <div class=\"colab-df-container\">\n",
              "      <div>\n",
              "<style scoped>\n",
              "    .dataframe tbody tr th:only-of-type {\n",
              "        vertical-align: middle;\n",
              "    }\n",
              "\n",
              "    .dataframe tbody tr th {\n",
              "        vertical-align: top;\n",
              "    }\n",
              "\n",
              "    .dataframe thead th {\n",
              "        text-align: right;\n",
              "    }\n",
              "</style>\n",
              "<table border=\"1\" class=\"dataframe\">\n",
              "  <thead>\n",
              "    <tr style=\"text-align: right;\">\n",
              "      <th></th>\n",
              "      <th>Id</th>\n",
              "      <th>MSSubClass</th>\n",
              "      <th>MSZoning</th>\n",
              "      <th>LotFrontage</th>\n",
              "      <th>LotArea</th>\n",
              "      <th>Street</th>\n",
              "      <th>Alley</th>\n",
              "      <th>LotShape</th>\n",
              "      <th>LandContour</th>\n",
              "      <th>Utilities</th>\n",
              "      <th>...</th>\n",
              "      <th>PoolArea</th>\n",
              "      <th>PoolQC</th>\n",
              "      <th>Fence</th>\n",
              "      <th>MiscFeature</th>\n",
              "      <th>MiscVal</th>\n",
              "      <th>MoSold</th>\n",
              "      <th>YrSold</th>\n",
              "      <th>SaleType</th>\n",
              "      <th>SaleCondition</th>\n",
              "      <th>SalePrice</th>\n",
              "    </tr>\n",
              "  </thead>\n",
              "  <tbody>\n",
              "    <tr>\n",
              "      <th>254</th>\n",
              "      <td>255</td>\n",
              "      <td>20</td>\n",
              "      <td>RL</td>\n",
              "      <td>70.0</td>\n",
              "      <td>8400</td>\n",
              "      <td>Pave</td>\n",
              "      <td>NaN</td>\n",
              "      <td>Reg</td>\n",
              "      <td>Lvl</td>\n",
              "      <td>AllPub</td>\n",
              "      <td>...</td>\n",
              "      <td>0</td>\n",
              "      <td>NaN</td>\n",
              "      <td>NaN</td>\n",
              "      <td>NaN</td>\n",
              "      <td>0</td>\n",
              "      <td>6</td>\n",
              "      <td>2010</td>\n",
              "      <td>WD</td>\n",
              "      <td>Normal</td>\n",
              "      <td>145000</td>\n",
              "    </tr>\n",
              "    <tr>\n",
              "      <th>1066</th>\n",
              "      <td>1067</td>\n",
              "      <td>60</td>\n",
              "      <td>RL</td>\n",
              "      <td>59.0</td>\n",
              "      <td>7837</td>\n",
              "      <td>Pave</td>\n",
              "      <td>NaN</td>\n",
              "      <td>IR1</td>\n",
              "      <td>Lvl</td>\n",
              "      <td>AllPub</td>\n",
              "      <td>...</td>\n",
              "      <td>0</td>\n",
              "      <td>NaN</td>\n",
              "      <td>NaN</td>\n",
              "      <td>NaN</td>\n",
              "      <td>0</td>\n",
              "      <td>5</td>\n",
              "      <td>2009</td>\n",
              "      <td>WD</td>\n",
              "      <td>Normal</td>\n",
              "      <td>178000</td>\n",
              "    </tr>\n",
              "    <tr>\n",
              "      <th>638</th>\n",
              "      <td>639</td>\n",
              "      <td>30</td>\n",
              "      <td>RL</td>\n",
              "      <td>67.0</td>\n",
              "      <td>8777</td>\n",
              "      <td>Pave</td>\n",
              "      <td>NaN</td>\n",
              "      <td>Reg</td>\n",
              "      <td>Lvl</td>\n",
              "      <td>AllPub</td>\n",
              "      <td>...</td>\n",
              "      <td>0</td>\n",
              "      <td>NaN</td>\n",
              "      <td>MnPrv</td>\n",
              "      <td>NaN</td>\n",
              "      <td>0</td>\n",
              "      <td>5</td>\n",
              "      <td>2008</td>\n",
              "      <td>WD</td>\n",
              "      <td>Normal</td>\n",
              "      <td>85000</td>\n",
              "    </tr>\n",
              "    <tr>\n",
              "      <th>799</th>\n",
              "      <td>800</td>\n",
              "      <td>50</td>\n",
              "      <td>RL</td>\n",
              "      <td>60.0</td>\n",
              "      <td>7200</td>\n",
              "      <td>Pave</td>\n",
              "      <td>NaN</td>\n",
              "      <td>Reg</td>\n",
              "      <td>Lvl</td>\n",
              "      <td>AllPub</td>\n",
              "      <td>...</td>\n",
              "      <td>0</td>\n",
              "      <td>NaN</td>\n",
              "      <td>MnPrv</td>\n",
              "      <td>NaN</td>\n",
              "      <td>0</td>\n",
              "      <td>6</td>\n",
              "      <td>2007</td>\n",
              "      <td>WD</td>\n",
              "      <td>Normal</td>\n",
              "      <td>175000</td>\n",
              "    </tr>\n",
              "    <tr>\n",
              "      <th>380</th>\n",
              "      <td>381</td>\n",
              "      <td>50</td>\n",
              "      <td>RL</td>\n",
              "      <td>50.0</td>\n",
              "      <td>5000</td>\n",
              "      <td>Pave</td>\n",
              "      <td>Pave</td>\n",
              "      <td>Reg</td>\n",
              "      <td>Lvl</td>\n",
              "      <td>AllPub</td>\n",
              "      <td>...</td>\n",
              "      <td>0</td>\n",
              "      <td>NaN</td>\n",
              "      <td>NaN</td>\n",
              "      <td>NaN</td>\n",
              "      <td>0</td>\n",
              "      <td>5</td>\n",
              "      <td>2010</td>\n",
              "      <td>WD</td>\n",
              "      <td>Normal</td>\n",
              "      <td>127000</td>\n",
              "    </tr>\n",
              "    <tr>\n",
              "      <th>303</th>\n",
              "      <td>304</td>\n",
              "      <td>20</td>\n",
              "      <td>RL</td>\n",
              "      <td>70.0</td>\n",
              "      <td>9800</td>\n",
              "      <td>Pave</td>\n",
              "      <td>NaN</td>\n",
              "      <td>Reg</td>\n",
              "      <td>Lvl</td>\n",
              "      <td>AllPub</td>\n",
              "      <td>...</td>\n",
              "      <td>0</td>\n",
              "      <td>NaN</td>\n",
              "      <td>GdWo</td>\n",
              "      <td>NaN</td>\n",
              "      <td>0</td>\n",
              "      <td>7</td>\n",
              "      <td>2006</td>\n",
              "      <td>WD</td>\n",
              "      <td>Abnorml</td>\n",
              "      <td>149900</td>\n",
              "    </tr>\n",
              "    <tr>\n",
              "      <th>86</th>\n",
              "      <td>87</td>\n",
              "      <td>60</td>\n",
              "      <td>RL</td>\n",
              "      <td>122.0</td>\n",
              "      <td>11911</td>\n",
              "      <td>Pave</td>\n",
              "      <td>NaN</td>\n",
              "      <td>IR2</td>\n",
              "      <td>Lvl</td>\n",
              "      <td>AllPub</td>\n",
              "      <td>...</td>\n",
              "      <td>0</td>\n",
              "      <td>NaN</td>\n",
              "      <td>NaN</td>\n",
              "      <td>NaN</td>\n",
              "      <td>0</td>\n",
              "      <td>3</td>\n",
              "      <td>2009</td>\n",
              "      <td>WD</td>\n",
              "      <td>Normal</td>\n",
              "      <td>174000</td>\n",
              "    </tr>\n",
              "    <tr>\n",
              "      <th>1385</th>\n",
              "      <td>1386</td>\n",
              "      <td>50</td>\n",
              "      <td>RM</td>\n",
              "      <td>40.0</td>\n",
              "      <td>5436</td>\n",
              "      <td>Pave</td>\n",
              "      <td>NaN</td>\n",
              "      <td>Reg</td>\n",
              "      <td>Lvl</td>\n",
              "      <td>AllPub</td>\n",
              "      <td>...</td>\n",
              "      <td>0</td>\n",
              "      <td>NaN</td>\n",
              "      <td>MnPrv</td>\n",
              "      <td>NaN</td>\n",
              "      <td>0</td>\n",
              "      <td>5</td>\n",
              "      <td>2010</td>\n",
              "      <td>WD</td>\n",
              "      <td>Normal</td>\n",
              "      <td>125500</td>\n",
              "    </tr>\n",
              "    <tr>\n",
              "      <th>265</th>\n",
              "      <td>266</td>\n",
              "      <td>20</td>\n",
              "      <td>RL</td>\n",
              "      <td>78.0</td>\n",
              "      <td>12090</td>\n",
              "      <td>Pave</td>\n",
              "      <td>NaN</td>\n",
              "      <td>IR1</td>\n",
              "      <td>Lvl</td>\n",
              "      <td>AllPub</td>\n",
              "      <td>...</td>\n",
              "      <td>0</td>\n",
              "      <td>NaN</td>\n",
              "      <td>GdPrv</td>\n",
              "      <td>NaN</td>\n",
              "      <td>0</td>\n",
              "      <td>6</td>\n",
              "      <td>2008</td>\n",
              "      <td>WD</td>\n",
              "      <td>Normal</td>\n",
              "      <td>175500</td>\n",
              "    </tr>\n",
              "    <tr>\n",
              "      <th>793</th>\n",
              "      <td>794</td>\n",
              "      <td>20</td>\n",
              "      <td>RL</td>\n",
              "      <td>76.0</td>\n",
              "      <td>9158</td>\n",
              "      <td>Pave</td>\n",
              "      <td>NaN</td>\n",
              "      <td>Reg</td>\n",
              "      <td>Lvl</td>\n",
              "      <td>AllPub</td>\n",
              "      <td>...</td>\n",
              "      <td>0</td>\n",
              "      <td>NaN</td>\n",
              "      <td>NaN</td>\n",
              "      <td>NaN</td>\n",
              "      <td>0</td>\n",
              "      <td>6</td>\n",
              "      <td>2007</td>\n",
              "      <td>New</td>\n",
              "      <td>Partial</td>\n",
              "      <td>225000</td>\n",
              "    </tr>\n",
              "  </tbody>\n",
              "</table>\n",
              "<p>10 rows × 81 columns</p>\n",
              "</div>\n",
              "      <button class=\"colab-df-convert\" onclick=\"convertToInteractive('df-8ec02242-82b4-420d-9dba-8a00e8b79002')\"\n",
              "              title=\"Convert this dataframe to an interactive table.\"\n",
              "              style=\"display:none;\">\n",
              "        \n",
              "  <svg xmlns=\"http://www.w3.org/2000/svg\" height=\"24px\"viewBox=\"0 0 24 24\"\n",
              "       width=\"24px\">\n",
              "    <path d=\"M0 0h24v24H0V0z\" fill=\"none\"/>\n",
              "    <path d=\"M18.56 5.44l.94 2.06.94-2.06 2.06-.94-2.06-.94-.94-2.06-.94 2.06-2.06.94zm-11 1L8.5 8.5l.94-2.06 2.06-.94-2.06-.94L8.5 2.5l-.94 2.06-2.06.94zm10 10l.94 2.06.94-2.06 2.06-.94-2.06-.94-.94-2.06-.94 2.06-2.06.94z\"/><path d=\"M17.41 7.96l-1.37-1.37c-.4-.4-.92-.59-1.43-.59-.52 0-1.04.2-1.43.59L10.3 9.45l-7.72 7.72c-.78.78-.78 2.05 0 2.83L4 21.41c.39.39.9.59 1.41.59.51 0 1.02-.2 1.41-.59l7.78-7.78 2.81-2.81c.8-.78.8-2.07 0-2.86zM5.41 20L4 18.59l7.72-7.72 1.47 1.35L5.41 20z\"/>\n",
              "  </svg>\n",
              "      </button>\n",
              "      \n",
              "  <style>\n",
              "    .colab-df-container {\n",
              "      display:flex;\n",
              "      flex-wrap:wrap;\n",
              "      gap: 12px;\n",
              "    }\n",
              "\n",
              "    .colab-df-convert {\n",
              "      background-color: #E8F0FE;\n",
              "      border: none;\n",
              "      border-radius: 50%;\n",
              "      cursor: pointer;\n",
              "      display: none;\n",
              "      fill: #1967D2;\n",
              "      height: 32px;\n",
              "      padding: 0 0 0 0;\n",
              "      width: 32px;\n",
              "    }\n",
              "\n",
              "    .colab-df-convert:hover {\n",
              "      background-color: #E2EBFA;\n",
              "      box-shadow: 0px 1px 2px rgba(60, 64, 67, 0.3), 0px 1px 3px 1px rgba(60, 64, 67, 0.15);\n",
              "      fill: #174EA6;\n",
              "    }\n",
              "\n",
              "    [theme=dark] .colab-df-convert {\n",
              "      background-color: #3B4455;\n",
              "      fill: #D2E3FC;\n",
              "    }\n",
              "\n",
              "    [theme=dark] .colab-df-convert:hover {\n",
              "      background-color: #434B5C;\n",
              "      box-shadow: 0px 1px 3px 1px rgba(0, 0, 0, 0.15);\n",
              "      filter: drop-shadow(0px 1px 2px rgba(0, 0, 0, 0.3));\n",
              "      fill: #FFFFFF;\n",
              "    }\n",
              "  </style>\n",
              "\n",
              "      <script>\n",
              "        const buttonEl =\n",
              "          document.querySelector('#df-8ec02242-82b4-420d-9dba-8a00e8b79002 button.colab-df-convert');\n",
              "        buttonEl.style.display =\n",
              "          google.colab.kernel.accessAllowed ? 'block' : 'none';\n",
              "\n",
              "        async function convertToInteractive(key) {\n",
              "          const element = document.querySelector('#df-8ec02242-82b4-420d-9dba-8a00e8b79002');\n",
              "          const dataTable =\n",
              "            await google.colab.kernel.invokeFunction('convertToInteractive',\n",
              "                                                     [key], {});\n",
              "          if (!dataTable) return;\n",
              "\n",
              "          const docLinkHtml = 'Like what you see? Visit the ' +\n",
              "            '<a target=\"_blank\" href=https://colab.research.google.com/notebooks/data_table.ipynb>data table notebook</a>'\n",
              "            + ' to learn more about interactive tables.';\n",
              "          element.innerHTML = '';\n",
              "          dataTable['output_type'] = 'display_data';\n",
              "          await google.colab.output.renderOutput(dataTable, element);\n",
              "          const docLink = document.createElement('div');\n",
              "          docLink.innerHTML = docLinkHtml;\n",
              "          element.appendChild(docLink);\n",
              "        }\n",
              "      </script>\n",
              "    </div>\n",
              "  </div>\n",
              "  "
            ]
          },
          "metadata": {},
          "execution_count": 13
        }
      ],
      "source": [
        "train_set.head(10)"
      ]
    },
    {
      "cell_type": "code",
      "execution_count": null,
      "metadata": {
        "id": "10t6XyUAamOq"
      },
      "outputs": [],
      "source": [
        "# step 0a. create the features and labels for training\n",
        "housing = train_set.drop(\"SalePrice\", axis=1)\n",
        "housing_labels = train_set[\"SalePrice\"].copy()"
      ]
    },
    {
      "cell_type": "code",
      "execution_count": null,
      "metadata": {
        "colab": {
          "base_uri": "https://localhost:8080/"
        },
        "id": "ju-kzr0LaFb_",
        "outputId": "f6b6d310-9d33-4b61-d2fd-a39f16db3e6a"
      },
      "outputs": [
        {
          "output_type": "stream",
          "name": "stdout",
          "text": [
            "        Id  MSSubClass MSZoning  LotFrontage  LotArea Street Alley LotShape  \\\n",
            "254    255          20       RL         70.0     8400   Pave   NaN      Reg   \n",
            "1066  1067          60       RL         59.0     7837   Pave   NaN      IR1   \n",
            "638    639          30       RL         67.0     8777   Pave   NaN      Reg   \n",
            "799    800          50       RL         60.0     7200   Pave   NaN      Reg   \n",
            "380    381          50       RL         50.0     5000   Pave  Pave      Reg   \n",
            "\n",
            "     LandContour Utilities  ... ScreenPorch PoolArea PoolQC  Fence  \\\n",
            "254          Lvl    AllPub  ...           0        0    NaN    NaN   \n",
            "1066         Lvl    AllPub  ...           0        0    NaN    NaN   \n",
            "638          Lvl    AllPub  ...           0        0    NaN  MnPrv   \n",
            "799          Lvl    AllPub  ...           0        0    NaN  MnPrv   \n",
            "380          Lvl    AllPub  ...           0        0    NaN    NaN   \n",
            "\n",
            "     MiscFeature MiscVal MoSold  YrSold  SaleType  SaleCondition  \n",
            "254          NaN       0      6    2010        WD         Normal  \n",
            "1066         NaN       0      5    2009        WD         Normal  \n",
            "638          NaN       0      5    2008        WD         Normal  \n",
            "799          NaN       0      6    2007        WD         Normal  \n",
            "380          NaN       0      5    2010        WD         Normal  \n",
            "\n",
            "[5 rows x 80 columns]\n"
          ]
        }
      ],
      "source": [
        "from pickle import TRUE\n",
        "# Your code check for missing values, feature scaling, and put all transformation into a pipeline here\n",
        "# step 1. data cleaning: check if there are missing values\n",
        "from sklearn.impute import SimpleImputer\n",
        "\n",
        "incomplete = housing[housing.isnull().any(axis=1)].head()\n",
        "print(incomplete)"
      ]
    },
    {
      "cell_type": "code",
      "execution_count": null,
      "metadata": {
        "colab": {
          "base_uri": "https://localhost:8080/"
        },
        "id": "wngnmgN4jeOs",
        "outputId": "b03ccf9c-f348-407c-9d95-0be3bffe2f83"
      },
      "outputs": [
        {
          "output_type": "execute_result",
          "data": {
            "text/plain": [
              "SimpleImputer()"
            ]
          },
          "metadata": {},
          "execution_count": 16
        }
      ],
      "source": [
        "# out of 1460 rows of data, 5 are incomplete (0.34% of the training data). let's replace all numerical values with the mean across each column so that we are not over or under estimating certain features \n",
        "from sklearn.impute import SimpleImputer\n",
        "imputer = SimpleImputer(strategy='mean')\n",
        "\n",
        "# for the attributes that are strings, we're going to drop those attributes because again 0.34% of the data should not rely heavily on the string-based categories\n",
        "housing_numbers = housing.select_dtypes(include=[np.number])\n",
        "\n",
        "imputer.fit(housing_numbers)"
      ]
    },
    {
      "cell_type": "code",
      "execution_count": null,
      "metadata": {
        "colab": {
          "base_uri": "https://localhost:8080/"
        },
        "id": "xVXoykgHBRfs",
        "outputId": "7c160dc7-255a-4c57-b848-02e2c92a938b"
      },
      "outputs": [
        {
          "output_type": "execute_result",
          "data": {
            "text/plain": [
              "array([7.30904966e+02, 5.68493151e+01, 7.03438486e+01, 1.06896421e+04,\n",
              "       6.12157534e+00, 5.58476027e+00, 1.97096575e+03, 1.98489726e+03,\n",
              "       1.03771945e+02, 4.46023973e+02, 4.51523973e+01, 5.70595034e+02,\n",
              "       1.06177140e+03, 1.16935445e+03, 3.52351027e+02, 5.69606164e+00,\n",
              "       1.52740154e+03, 4.25513699e-01, 5.73630137e-02, 1.57705479e+00,\n",
              "       3.81849315e-01, 2.89041096e+00, 1.04794521e+00, 6.56164384e+00,\n",
              "       6.18150685e-01, 1.97866214e+03, 1.78167808e+00, 4.76273973e+02,\n",
              "       9.59469178e+01, 4.95787671e+01, 2.18390411e+01, 3.81250000e+00,\n",
              "       1.54075342e+01, 2.95547945e+00, 5.12671233e+01, 6.35616438e+00,\n",
              "       2.00781849e+03])"
            ]
          },
          "metadata": {},
          "execution_count": 17
        }
      ],
      "source": [
        "# we're going to view the imputer's results as a check-in\n",
        "imputer.statistics_"
      ]
    },
    {
      "cell_type": "code",
      "execution_count": null,
      "metadata": {
        "colab": {
          "base_uri": "https://localhost:8080/"
        },
        "id": "Y3VMh-BJlh1p",
        "outputId": "995f8dea-c35c-4814-8807-5e2dd3e594cb"
      },
      "outputs": [
        {
          "output_type": "execute_result",
          "data": {
            "text/plain": [
              "array([7.30904966e+02, 5.68493151e+01, 7.03438486e+01, 1.06896421e+04,\n",
              "       6.12157534e+00, 5.58476027e+00, 1.97096575e+03, 1.98489726e+03,\n",
              "       1.03771945e+02, 4.46023973e+02, 4.51523973e+01, 5.70595034e+02,\n",
              "       1.06177140e+03, 1.16935445e+03, 3.52351027e+02, 5.69606164e+00,\n",
              "       1.52740154e+03, 4.25513699e-01, 5.73630137e-02, 1.57705479e+00,\n",
              "       3.81849315e-01, 2.89041096e+00, 1.04794521e+00, 6.56164384e+00,\n",
              "       6.18150685e-01, 1.97866214e+03, 1.78167808e+00, 4.76273973e+02,\n",
              "       9.59469178e+01, 4.95787671e+01, 2.18390411e+01, 3.81250000e+00,\n",
              "       1.54075342e+01, 2.95547945e+00, 5.12671233e+01, 6.35616438e+00,\n",
              "       2.00781849e+03])"
            ]
          },
          "metadata": {},
          "execution_count": 18
        }
      ],
      "source": [
        "# let's check the stats to ensure that the imputer means and calculated means are equal\n",
        "housing_numbers.mean().values"
      ]
    },
    {
      "cell_type": "code",
      "execution_count": null,
      "metadata": {
        "colab": {
          "base_uri": "https://localhost:8080/"
        },
        "id": "tyLAi24dBXKm",
        "outputId": "fc8a1ceb-a919-49b4-b729-f13a601e02f1"
      },
      "outputs": [
        {
          "output_type": "stream",
          "name": "stdout",
          "text": [
            "[[ 255.   20.   70. ...    0.    6. 2010.]\n",
            " [1067.   60.   59. ...    0.    5. 2009.]\n",
            " [ 639.   30.   67. ...    0.    5. 2008.]\n",
            " ...\n",
            " [1295.   20.   60. ...    0.    4. 2006.]\n",
            " [ 861.   50.   55. ...    0.    6. 2007.]\n",
            " [1127.  120.   53. ...    0.    6. 2009.]]\n"
          ]
        }
      ],
      "source": [
        "# the Imputer mean and our calculated means are the same! check!\n",
        "# now, we can transform the training set to include the missing numerical values and removed string values\n",
        "x = imputer.transform(housing_numbers)\n",
        "print(x)\n"
      ]
    },
    {
      "cell_type": "code",
      "execution_count": null,
      "metadata": {
        "colab": {
          "base_uri": "https://localhost:8080/",
          "height": 299
        },
        "id": "WxOa09mNlkrx",
        "outputId": "7e77aaf1-6d4d-4a0d-d8bb-7ae9c9326e3c"
      },
      "outputs": [
        {
          "output_type": "execute_result",
          "data": {
            "text/plain": [
              "          Id  MSSubClass  LotFrontage  LotArea  OverallQual  OverallCond  \\\n",
              "254    255.0        20.0         70.0   8400.0          5.0          6.0   \n",
              "1066  1067.0        60.0         59.0   7837.0          6.0          7.0   \n",
              "638    639.0        30.0         67.0   8777.0          5.0          7.0   \n",
              "799    800.0        50.0         60.0   7200.0          5.0          7.0   \n",
              "380    381.0        50.0         50.0   5000.0          5.0          6.0   \n",
              "\n",
              "      YearBuilt  YearRemodAdd  MasVnrArea  BsmtFinSF1  ...  GarageArea  \\\n",
              "254      1957.0        1957.0         0.0       922.0  ...       294.0   \n",
              "1066     1993.0        1994.0         0.0         0.0  ...       380.0   \n",
              "638      1910.0        1950.0         0.0         0.0  ...         0.0   \n",
              "799      1937.0        1950.0       252.0       569.0  ...       240.0   \n",
              "380      1924.0        1950.0         0.0       218.0  ...       308.0   \n",
              "\n",
              "      WoodDeckSF  OpenPorchSF  EnclosedPorch  3SsnPorch  ScreenPorch  \\\n",
              "254        250.0          0.0            0.0        0.0          0.0   \n",
              "1066         0.0         40.0            0.0        0.0          0.0   \n",
              "638        328.0          0.0          164.0        0.0          0.0   \n",
              "799          0.0          0.0          264.0        0.0          0.0   \n",
              "380          0.0          0.0          242.0        0.0          0.0   \n",
              "\n",
              "      PoolArea  MiscVal  MoSold  YrSold  \n",
              "254        0.0      0.0     6.0  2010.0  \n",
              "1066       0.0      0.0     5.0  2009.0  \n",
              "638        0.0      0.0     5.0  2008.0  \n",
              "799        0.0      0.0     6.0  2007.0  \n",
              "380        0.0      0.0     5.0  2010.0  \n",
              "\n",
              "[5 rows x 37 columns]"
            ],
            "text/html": [
              "\n",
              "  <div id=\"df-9154450e-7154-4458-8ce3-33547cb10e69\">\n",
              "    <div class=\"colab-df-container\">\n",
              "      <div>\n",
              "<style scoped>\n",
              "    .dataframe tbody tr th:only-of-type {\n",
              "        vertical-align: middle;\n",
              "    }\n",
              "\n",
              "    .dataframe tbody tr th {\n",
              "        vertical-align: top;\n",
              "    }\n",
              "\n",
              "    .dataframe thead th {\n",
              "        text-align: right;\n",
              "    }\n",
              "</style>\n",
              "<table border=\"1\" class=\"dataframe\">\n",
              "  <thead>\n",
              "    <tr style=\"text-align: right;\">\n",
              "      <th></th>\n",
              "      <th>Id</th>\n",
              "      <th>MSSubClass</th>\n",
              "      <th>LotFrontage</th>\n",
              "      <th>LotArea</th>\n",
              "      <th>OverallQual</th>\n",
              "      <th>OverallCond</th>\n",
              "      <th>YearBuilt</th>\n",
              "      <th>YearRemodAdd</th>\n",
              "      <th>MasVnrArea</th>\n",
              "      <th>BsmtFinSF1</th>\n",
              "      <th>...</th>\n",
              "      <th>GarageArea</th>\n",
              "      <th>WoodDeckSF</th>\n",
              "      <th>OpenPorchSF</th>\n",
              "      <th>EnclosedPorch</th>\n",
              "      <th>3SsnPorch</th>\n",
              "      <th>ScreenPorch</th>\n",
              "      <th>PoolArea</th>\n",
              "      <th>MiscVal</th>\n",
              "      <th>MoSold</th>\n",
              "      <th>YrSold</th>\n",
              "    </tr>\n",
              "  </thead>\n",
              "  <tbody>\n",
              "    <tr>\n",
              "      <th>254</th>\n",
              "      <td>255.0</td>\n",
              "      <td>20.0</td>\n",
              "      <td>70.0</td>\n",
              "      <td>8400.0</td>\n",
              "      <td>5.0</td>\n",
              "      <td>6.0</td>\n",
              "      <td>1957.0</td>\n",
              "      <td>1957.0</td>\n",
              "      <td>0.0</td>\n",
              "      <td>922.0</td>\n",
              "      <td>...</td>\n",
              "      <td>294.0</td>\n",
              "      <td>250.0</td>\n",
              "      <td>0.0</td>\n",
              "      <td>0.0</td>\n",
              "      <td>0.0</td>\n",
              "      <td>0.0</td>\n",
              "      <td>0.0</td>\n",
              "      <td>0.0</td>\n",
              "      <td>6.0</td>\n",
              "      <td>2010.0</td>\n",
              "    </tr>\n",
              "    <tr>\n",
              "      <th>1066</th>\n",
              "      <td>1067.0</td>\n",
              "      <td>60.0</td>\n",
              "      <td>59.0</td>\n",
              "      <td>7837.0</td>\n",
              "      <td>6.0</td>\n",
              "      <td>7.0</td>\n",
              "      <td>1993.0</td>\n",
              "      <td>1994.0</td>\n",
              "      <td>0.0</td>\n",
              "      <td>0.0</td>\n",
              "      <td>...</td>\n",
              "      <td>380.0</td>\n",
              "      <td>0.0</td>\n",
              "      <td>40.0</td>\n",
              "      <td>0.0</td>\n",
              "      <td>0.0</td>\n",
              "      <td>0.0</td>\n",
              "      <td>0.0</td>\n",
              "      <td>0.0</td>\n",
              "      <td>5.0</td>\n",
              "      <td>2009.0</td>\n",
              "    </tr>\n",
              "    <tr>\n",
              "      <th>638</th>\n",
              "      <td>639.0</td>\n",
              "      <td>30.0</td>\n",
              "      <td>67.0</td>\n",
              "      <td>8777.0</td>\n",
              "      <td>5.0</td>\n",
              "      <td>7.0</td>\n",
              "      <td>1910.0</td>\n",
              "      <td>1950.0</td>\n",
              "      <td>0.0</td>\n",
              "      <td>0.0</td>\n",
              "      <td>...</td>\n",
              "      <td>0.0</td>\n",
              "      <td>328.0</td>\n",
              "      <td>0.0</td>\n",
              "      <td>164.0</td>\n",
              "      <td>0.0</td>\n",
              "      <td>0.0</td>\n",
              "      <td>0.0</td>\n",
              "      <td>0.0</td>\n",
              "      <td>5.0</td>\n",
              "      <td>2008.0</td>\n",
              "    </tr>\n",
              "    <tr>\n",
              "      <th>799</th>\n",
              "      <td>800.0</td>\n",
              "      <td>50.0</td>\n",
              "      <td>60.0</td>\n",
              "      <td>7200.0</td>\n",
              "      <td>5.0</td>\n",
              "      <td>7.0</td>\n",
              "      <td>1937.0</td>\n",
              "      <td>1950.0</td>\n",
              "      <td>252.0</td>\n",
              "      <td>569.0</td>\n",
              "      <td>...</td>\n",
              "      <td>240.0</td>\n",
              "      <td>0.0</td>\n",
              "      <td>0.0</td>\n",
              "      <td>264.0</td>\n",
              "      <td>0.0</td>\n",
              "      <td>0.0</td>\n",
              "      <td>0.0</td>\n",
              "      <td>0.0</td>\n",
              "      <td>6.0</td>\n",
              "      <td>2007.0</td>\n",
              "    </tr>\n",
              "    <tr>\n",
              "      <th>380</th>\n",
              "      <td>381.0</td>\n",
              "      <td>50.0</td>\n",
              "      <td>50.0</td>\n",
              "      <td>5000.0</td>\n",
              "      <td>5.0</td>\n",
              "      <td>6.0</td>\n",
              "      <td>1924.0</td>\n",
              "      <td>1950.0</td>\n",
              "      <td>0.0</td>\n",
              "      <td>218.0</td>\n",
              "      <td>...</td>\n",
              "      <td>308.0</td>\n",
              "      <td>0.0</td>\n",
              "      <td>0.0</td>\n",
              "      <td>242.0</td>\n",
              "      <td>0.0</td>\n",
              "      <td>0.0</td>\n",
              "      <td>0.0</td>\n",
              "      <td>0.0</td>\n",
              "      <td>5.0</td>\n",
              "      <td>2010.0</td>\n",
              "    </tr>\n",
              "  </tbody>\n",
              "</table>\n",
              "<p>5 rows × 37 columns</p>\n",
              "</div>\n",
              "      <button class=\"colab-df-convert\" onclick=\"convertToInteractive('df-9154450e-7154-4458-8ce3-33547cb10e69')\"\n",
              "              title=\"Convert this dataframe to an interactive table.\"\n",
              "              style=\"display:none;\">\n",
              "        \n",
              "  <svg xmlns=\"http://www.w3.org/2000/svg\" height=\"24px\"viewBox=\"0 0 24 24\"\n",
              "       width=\"24px\">\n",
              "    <path d=\"M0 0h24v24H0V0z\" fill=\"none\"/>\n",
              "    <path d=\"M18.56 5.44l.94 2.06.94-2.06 2.06-.94-2.06-.94-.94-2.06-.94 2.06-2.06.94zm-11 1L8.5 8.5l.94-2.06 2.06-.94-2.06-.94L8.5 2.5l-.94 2.06-2.06.94zm10 10l.94 2.06.94-2.06 2.06-.94-2.06-.94-.94-2.06-.94 2.06-2.06.94z\"/><path d=\"M17.41 7.96l-1.37-1.37c-.4-.4-.92-.59-1.43-.59-.52 0-1.04.2-1.43.59L10.3 9.45l-7.72 7.72c-.78.78-.78 2.05 0 2.83L4 21.41c.39.39.9.59 1.41.59.51 0 1.02-.2 1.41-.59l7.78-7.78 2.81-2.81c.8-.78.8-2.07 0-2.86zM5.41 20L4 18.59l7.72-7.72 1.47 1.35L5.41 20z\"/>\n",
              "  </svg>\n",
              "      </button>\n",
              "      \n",
              "  <style>\n",
              "    .colab-df-container {\n",
              "      display:flex;\n",
              "      flex-wrap:wrap;\n",
              "      gap: 12px;\n",
              "    }\n",
              "\n",
              "    .colab-df-convert {\n",
              "      background-color: #E8F0FE;\n",
              "      border: none;\n",
              "      border-radius: 50%;\n",
              "      cursor: pointer;\n",
              "      display: none;\n",
              "      fill: #1967D2;\n",
              "      height: 32px;\n",
              "      padding: 0 0 0 0;\n",
              "      width: 32px;\n",
              "    }\n",
              "\n",
              "    .colab-df-convert:hover {\n",
              "      background-color: #E2EBFA;\n",
              "      box-shadow: 0px 1px 2px rgba(60, 64, 67, 0.3), 0px 1px 3px 1px rgba(60, 64, 67, 0.15);\n",
              "      fill: #174EA6;\n",
              "    }\n",
              "\n",
              "    [theme=dark] .colab-df-convert {\n",
              "      background-color: #3B4455;\n",
              "      fill: #D2E3FC;\n",
              "    }\n",
              "\n",
              "    [theme=dark] .colab-df-convert:hover {\n",
              "      background-color: #434B5C;\n",
              "      box-shadow: 0px 1px 3px 1px rgba(0, 0, 0, 0.15);\n",
              "      filter: drop-shadow(0px 1px 2px rgba(0, 0, 0, 0.3));\n",
              "      fill: #FFFFFF;\n",
              "    }\n",
              "  </style>\n",
              "\n",
              "      <script>\n",
              "        const buttonEl =\n",
              "          document.querySelector('#df-9154450e-7154-4458-8ce3-33547cb10e69 button.colab-df-convert');\n",
              "        buttonEl.style.display =\n",
              "          google.colab.kernel.accessAllowed ? 'block' : 'none';\n",
              "\n",
              "        async function convertToInteractive(key) {\n",
              "          const element = document.querySelector('#df-9154450e-7154-4458-8ce3-33547cb10e69');\n",
              "          const dataTable =\n",
              "            await google.colab.kernel.invokeFunction('convertToInteractive',\n",
              "                                                     [key], {});\n",
              "          if (!dataTable) return;\n",
              "\n",
              "          const docLinkHtml = 'Like what you see? Visit the ' +\n",
              "            '<a target=\"_blank\" href=https://colab.research.google.com/notebooks/data_table.ipynb>data table notebook</a>'\n",
              "            + ' to learn more about interactive tables.';\n",
              "          element.innerHTML = '';\n",
              "          dataTable['output_type'] = 'display_data';\n",
              "          await google.colab.output.renderOutput(dataTable, element);\n",
              "          const docLink = document.createElement('div');\n",
              "          docLink.innerHTML = docLinkHtml;\n",
              "          element.appendChild(docLink);\n",
              "        }\n",
              "      </script>\n",
              "    </div>\n",
              "  </div>\n",
              "  "
            ]
          },
          "metadata": {},
          "execution_count": 20
        }
      ],
      "source": [
        "# let's place the result into a DataFrame with the features labelled\n",
        "housing_training = pd.DataFrame(x, columns=housing_numbers.columns, index=housing.index)\n",
        "housing_training.loc[incomplete.index.values]"
      ]
    },
    {
      "cell_type": "code",
      "execution_count": null,
      "metadata": {
        "colab": {
          "base_uri": "https://localhost:8080/",
          "height": 35
        },
        "id": "VuS8pUbwERHF",
        "outputId": "fe9d1fd6-7846-404a-9680-91b7a31ad573"
      },
      "outputs": [
        {
          "output_type": "execute_result",
          "data": {
            "text/plain": [
              "'mean'"
            ],
            "application/vnd.google.colaboratory.intrinsic+json": {
              "type": "string"
            }
          },
          "metadata": {},
          "execution_count": 21
        }
      ],
      "source": [
        "# check that the Imputer strategy is 'mean'\n",
        "imputer.strategy"
      ]
    },
    {
      "cell_type": "code",
      "execution_count": null,
      "metadata": {
        "id": "RcczF3ggHivN"
      },
      "outputs": [],
      "source": [
        "housing_training = pd.DataFrame(x, columns=housing_numbers.columns, index=housing_numbers.index)"
      ]
    },
    {
      "cell_type": "code",
      "execution_count": null,
      "metadata": {
        "colab": {
          "base_uri": "https://localhost:8080/",
          "height": 456
        },
        "id": "JB_d9kgnHtMa",
        "outputId": "e4560626-05dc-400b-f2c0-03d5c08aa7f2"
      },
      "outputs": [
        {
          "output_type": "execute_result",
          "data": {
            "text/plain": [
              "          Id  MSSubClass  LotFrontage  LotArea  OverallQual  OverallCond  \\\n",
              "254    255.0        20.0         70.0   8400.0          5.0          6.0   \n",
              "1066  1067.0        60.0         59.0   7837.0          6.0          7.0   \n",
              "638    639.0        30.0         67.0   8777.0          5.0          7.0   \n",
              "799    800.0        50.0         60.0   7200.0          5.0          7.0   \n",
              "380    381.0        50.0         50.0   5000.0          5.0          6.0   \n",
              "303    304.0        20.0         70.0   9800.0          5.0          7.0   \n",
              "86      87.0        60.0        122.0  11911.0          6.0          5.0   \n",
              "1385  1386.0        50.0         40.0   5436.0          4.0          8.0   \n",
              "265    266.0        20.0         78.0  12090.0          6.0          6.0   \n",
              "793    794.0        20.0         76.0   9158.0          8.0          5.0   \n",
              "\n",
              "      YearBuilt  YearRemodAdd  MasVnrArea  BsmtFinSF1  ...  GarageArea  \\\n",
              "254      1957.0        1957.0         0.0       922.0  ...       294.0   \n",
              "1066     1993.0        1994.0         0.0         0.0  ...       380.0   \n",
              "638      1910.0        1950.0         0.0         0.0  ...         0.0   \n",
              "799      1937.0        1950.0       252.0       569.0  ...       240.0   \n",
              "380      1924.0        1950.0         0.0       218.0  ...       308.0   \n",
              "303      1972.0        1972.0         0.0       894.0  ...       552.0   \n",
              "86       2005.0        2005.0         0.0         0.0  ...       400.0   \n",
              "1385     1922.0        2007.0         0.0       735.0  ...       240.0   \n",
              "265      1981.0        1981.0       210.0       588.0  ...       576.0   \n",
              "793      2007.0        2007.0       140.0         0.0  ...       474.0   \n",
              "\n",
              "      WoodDeckSF  OpenPorchSF  EnclosedPorch  3SsnPorch  ScreenPorch  \\\n",
              "254        250.0          0.0            0.0        0.0          0.0   \n",
              "1066         0.0         40.0            0.0        0.0          0.0   \n",
              "638        328.0          0.0          164.0        0.0          0.0   \n",
              "799          0.0          0.0          264.0        0.0          0.0   \n",
              "380          0.0          0.0          242.0        0.0          0.0   \n",
              "303        256.0          0.0            0.0        0.0          0.0   \n",
              "86         100.0         38.0            0.0        0.0          0.0   \n",
              "1385         0.0         96.0            0.0        0.0          0.0   \n",
              "265        276.0          0.0            0.0        0.0          0.0   \n",
              "793        168.0        130.0            0.0        0.0          0.0   \n",
              "\n",
              "      PoolArea  MiscVal  MoSold  YrSold  \n",
              "254        0.0      0.0     6.0  2010.0  \n",
              "1066       0.0      0.0     5.0  2009.0  \n",
              "638        0.0      0.0     5.0  2008.0  \n",
              "799        0.0      0.0     6.0  2007.0  \n",
              "380        0.0      0.0     5.0  2010.0  \n",
              "303        0.0      0.0     7.0  2006.0  \n",
              "86         0.0      0.0     3.0  2009.0  \n",
              "1385       0.0      0.0     5.0  2010.0  \n",
              "265        0.0      0.0     6.0  2008.0  \n",
              "793        0.0      0.0     6.0  2007.0  \n",
              "\n",
              "[10 rows x 37 columns]"
            ],
            "text/html": [
              "\n",
              "  <div id=\"df-7db983b3-0701-4f8e-b465-190d3e67c753\">\n",
              "    <div class=\"colab-df-container\">\n",
              "      <div>\n",
              "<style scoped>\n",
              "    .dataframe tbody tr th:only-of-type {\n",
              "        vertical-align: middle;\n",
              "    }\n",
              "\n",
              "    .dataframe tbody tr th {\n",
              "        vertical-align: top;\n",
              "    }\n",
              "\n",
              "    .dataframe thead th {\n",
              "        text-align: right;\n",
              "    }\n",
              "</style>\n",
              "<table border=\"1\" class=\"dataframe\">\n",
              "  <thead>\n",
              "    <tr style=\"text-align: right;\">\n",
              "      <th></th>\n",
              "      <th>Id</th>\n",
              "      <th>MSSubClass</th>\n",
              "      <th>LotFrontage</th>\n",
              "      <th>LotArea</th>\n",
              "      <th>OverallQual</th>\n",
              "      <th>OverallCond</th>\n",
              "      <th>YearBuilt</th>\n",
              "      <th>YearRemodAdd</th>\n",
              "      <th>MasVnrArea</th>\n",
              "      <th>BsmtFinSF1</th>\n",
              "      <th>...</th>\n",
              "      <th>GarageArea</th>\n",
              "      <th>WoodDeckSF</th>\n",
              "      <th>OpenPorchSF</th>\n",
              "      <th>EnclosedPorch</th>\n",
              "      <th>3SsnPorch</th>\n",
              "      <th>ScreenPorch</th>\n",
              "      <th>PoolArea</th>\n",
              "      <th>MiscVal</th>\n",
              "      <th>MoSold</th>\n",
              "      <th>YrSold</th>\n",
              "    </tr>\n",
              "  </thead>\n",
              "  <tbody>\n",
              "    <tr>\n",
              "      <th>254</th>\n",
              "      <td>255.0</td>\n",
              "      <td>20.0</td>\n",
              "      <td>70.0</td>\n",
              "      <td>8400.0</td>\n",
              "      <td>5.0</td>\n",
              "      <td>6.0</td>\n",
              "      <td>1957.0</td>\n",
              "      <td>1957.0</td>\n",
              "      <td>0.0</td>\n",
              "      <td>922.0</td>\n",
              "      <td>...</td>\n",
              "      <td>294.0</td>\n",
              "      <td>250.0</td>\n",
              "      <td>0.0</td>\n",
              "      <td>0.0</td>\n",
              "      <td>0.0</td>\n",
              "      <td>0.0</td>\n",
              "      <td>0.0</td>\n",
              "      <td>0.0</td>\n",
              "      <td>6.0</td>\n",
              "      <td>2010.0</td>\n",
              "    </tr>\n",
              "    <tr>\n",
              "      <th>1066</th>\n",
              "      <td>1067.0</td>\n",
              "      <td>60.0</td>\n",
              "      <td>59.0</td>\n",
              "      <td>7837.0</td>\n",
              "      <td>6.0</td>\n",
              "      <td>7.0</td>\n",
              "      <td>1993.0</td>\n",
              "      <td>1994.0</td>\n",
              "      <td>0.0</td>\n",
              "      <td>0.0</td>\n",
              "      <td>...</td>\n",
              "      <td>380.0</td>\n",
              "      <td>0.0</td>\n",
              "      <td>40.0</td>\n",
              "      <td>0.0</td>\n",
              "      <td>0.0</td>\n",
              "      <td>0.0</td>\n",
              "      <td>0.0</td>\n",
              "      <td>0.0</td>\n",
              "      <td>5.0</td>\n",
              "      <td>2009.0</td>\n",
              "    </tr>\n",
              "    <tr>\n",
              "      <th>638</th>\n",
              "      <td>639.0</td>\n",
              "      <td>30.0</td>\n",
              "      <td>67.0</td>\n",
              "      <td>8777.0</td>\n",
              "      <td>5.0</td>\n",
              "      <td>7.0</td>\n",
              "      <td>1910.0</td>\n",
              "      <td>1950.0</td>\n",
              "      <td>0.0</td>\n",
              "      <td>0.0</td>\n",
              "      <td>...</td>\n",
              "      <td>0.0</td>\n",
              "      <td>328.0</td>\n",
              "      <td>0.0</td>\n",
              "      <td>164.0</td>\n",
              "      <td>0.0</td>\n",
              "      <td>0.0</td>\n",
              "      <td>0.0</td>\n",
              "      <td>0.0</td>\n",
              "      <td>5.0</td>\n",
              "      <td>2008.0</td>\n",
              "    </tr>\n",
              "    <tr>\n",
              "      <th>799</th>\n",
              "      <td>800.0</td>\n",
              "      <td>50.0</td>\n",
              "      <td>60.0</td>\n",
              "      <td>7200.0</td>\n",
              "      <td>5.0</td>\n",
              "      <td>7.0</td>\n",
              "      <td>1937.0</td>\n",
              "      <td>1950.0</td>\n",
              "      <td>252.0</td>\n",
              "      <td>569.0</td>\n",
              "      <td>...</td>\n",
              "      <td>240.0</td>\n",
              "      <td>0.0</td>\n",
              "      <td>0.0</td>\n",
              "      <td>264.0</td>\n",
              "      <td>0.0</td>\n",
              "      <td>0.0</td>\n",
              "      <td>0.0</td>\n",
              "      <td>0.0</td>\n",
              "      <td>6.0</td>\n",
              "      <td>2007.0</td>\n",
              "    </tr>\n",
              "    <tr>\n",
              "      <th>380</th>\n",
              "      <td>381.0</td>\n",
              "      <td>50.0</td>\n",
              "      <td>50.0</td>\n",
              "      <td>5000.0</td>\n",
              "      <td>5.0</td>\n",
              "      <td>6.0</td>\n",
              "      <td>1924.0</td>\n",
              "      <td>1950.0</td>\n",
              "      <td>0.0</td>\n",
              "      <td>218.0</td>\n",
              "      <td>...</td>\n",
              "      <td>308.0</td>\n",
              "      <td>0.0</td>\n",
              "      <td>0.0</td>\n",
              "      <td>242.0</td>\n",
              "      <td>0.0</td>\n",
              "      <td>0.0</td>\n",
              "      <td>0.0</td>\n",
              "      <td>0.0</td>\n",
              "      <td>5.0</td>\n",
              "      <td>2010.0</td>\n",
              "    </tr>\n",
              "    <tr>\n",
              "      <th>303</th>\n",
              "      <td>304.0</td>\n",
              "      <td>20.0</td>\n",
              "      <td>70.0</td>\n",
              "      <td>9800.0</td>\n",
              "      <td>5.0</td>\n",
              "      <td>7.0</td>\n",
              "      <td>1972.0</td>\n",
              "      <td>1972.0</td>\n",
              "      <td>0.0</td>\n",
              "      <td>894.0</td>\n",
              "      <td>...</td>\n",
              "      <td>552.0</td>\n",
              "      <td>256.0</td>\n",
              "      <td>0.0</td>\n",
              "      <td>0.0</td>\n",
              "      <td>0.0</td>\n",
              "      <td>0.0</td>\n",
              "      <td>0.0</td>\n",
              "      <td>0.0</td>\n",
              "      <td>7.0</td>\n",
              "      <td>2006.0</td>\n",
              "    </tr>\n",
              "    <tr>\n",
              "      <th>86</th>\n",
              "      <td>87.0</td>\n",
              "      <td>60.0</td>\n",
              "      <td>122.0</td>\n",
              "      <td>11911.0</td>\n",
              "      <td>6.0</td>\n",
              "      <td>5.0</td>\n",
              "      <td>2005.0</td>\n",
              "      <td>2005.0</td>\n",
              "      <td>0.0</td>\n",
              "      <td>0.0</td>\n",
              "      <td>...</td>\n",
              "      <td>400.0</td>\n",
              "      <td>100.0</td>\n",
              "      <td>38.0</td>\n",
              "      <td>0.0</td>\n",
              "      <td>0.0</td>\n",
              "      <td>0.0</td>\n",
              "      <td>0.0</td>\n",
              "      <td>0.0</td>\n",
              "      <td>3.0</td>\n",
              "      <td>2009.0</td>\n",
              "    </tr>\n",
              "    <tr>\n",
              "      <th>1385</th>\n",
              "      <td>1386.0</td>\n",
              "      <td>50.0</td>\n",
              "      <td>40.0</td>\n",
              "      <td>5436.0</td>\n",
              "      <td>4.0</td>\n",
              "      <td>8.0</td>\n",
              "      <td>1922.0</td>\n",
              "      <td>2007.0</td>\n",
              "      <td>0.0</td>\n",
              "      <td>735.0</td>\n",
              "      <td>...</td>\n",
              "      <td>240.0</td>\n",
              "      <td>0.0</td>\n",
              "      <td>96.0</td>\n",
              "      <td>0.0</td>\n",
              "      <td>0.0</td>\n",
              "      <td>0.0</td>\n",
              "      <td>0.0</td>\n",
              "      <td>0.0</td>\n",
              "      <td>5.0</td>\n",
              "      <td>2010.0</td>\n",
              "    </tr>\n",
              "    <tr>\n",
              "      <th>265</th>\n",
              "      <td>266.0</td>\n",
              "      <td>20.0</td>\n",
              "      <td>78.0</td>\n",
              "      <td>12090.0</td>\n",
              "      <td>6.0</td>\n",
              "      <td>6.0</td>\n",
              "      <td>1981.0</td>\n",
              "      <td>1981.0</td>\n",
              "      <td>210.0</td>\n",
              "      <td>588.0</td>\n",
              "      <td>...</td>\n",
              "      <td>576.0</td>\n",
              "      <td>276.0</td>\n",
              "      <td>0.0</td>\n",
              "      <td>0.0</td>\n",
              "      <td>0.0</td>\n",
              "      <td>0.0</td>\n",
              "      <td>0.0</td>\n",
              "      <td>0.0</td>\n",
              "      <td>6.0</td>\n",
              "      <td>2008.0</td>\n",
              "    </tr>\n",
              "    <tr>\n",
              "      <th>793</th>\n",
              "      <td>794.0</td>\n",
              "      <td>20.0</td>\n",
              "      <td>76.0</td>\n",
              "      <td>9158.0</td>\n",
              "      <td>8.0</td>\n",
              "      <td>5.0</td>\n",
              "      <td>2007.0</td>\n",
              "      <td>2007.0</td>\n",
              "      <td>140.0</td>\n",
              "      <td>0.0</td>\n",
              "      <td>...</td>\n",
              "      <td>474.0</td>\n",
              "      <td>168.0</td>\n",
              "      <td>130.0</td>\n",
              "      <td>0.0</td>\n",
              "      <td>0.0</td>\n",
              "      <td>0.0</td>\n",
              "      <td>0.0</td>\n",
              "      <td>0.0</td>\n",
              "      <td>6.0</td>\n",
              "      <td>2007.0</td>\n",
              "    </tr>\n",
              "  </tbody>\n",
              "</table>\n",
              "<p>10 rows × 37 columns</p>\n",
              "</div>\n",
              "      <button class=\"colab-df-convert\" onclick=\"convertToInteractive('df-7db983b3-0701-4f8e-b465-190d3e67c753')\"\n",
              "              title=\"Convert this dataframe to an interactive table.\"\n",
              "              style=\"display:none;\">\n",
              "        \n",
              "  <svg xmlns=\"http://www.w3.org/2000/svg\" height=\"24px\"viewBox=\"0 0 24 24\"\n",
              "       width=\"24px\">\n",
              "    <path d=\"M0 0h24v24H0V0z\" fill=\"none\"/>\n",
              "    <path d=\"M18.56 5.44l.94 2.06.94-2.06 2.06-.94-2.06-.94-.94-2.06-.94 2.06-2.06.94zm-11 1L8.5 8.5l.94-2.06 2.06-.94-2.06-.94L8.5 2.5l-.94 2.06-2.06.94zm10 10l.94 2.06.94-2.06 2.06-.94-2.06-.94-.94-2.06-.94 2.06-2.06.94z\"/><path d=\"M17.41 7.96l-1.37-1.37c-.4-.4-.92-.59-1.43-.59-.52 0-1.04.2-1.43.59L10.3 9.45l-7.72 7.72c-.78.78-.78 2.05 0 2.83L4 21.41c.39.39.9.59 1.41.59.51 0 1.02-.2 1.41-.59l7.78-7.78 2.81-2.81c.8-.78.8-2.07 0-2.86zM5.41 20L4 18.59l7.72-7.72 1.47 1.35L5.41 20z\"/>\n",
              "  </svg>\n",
              "      </button>\n",
              "      \n",
              "  <style>\n",
              "    .colab-df-container {\n",
              "      display:flex;\n",
              "      flex-wrap:wrap;\n",
              "      gap: 12px;\n",
              "    }\n",
              "\n",
              "    .colab-df-convert {\n",
              "      background-color: #E8F0FE;\n",
              "      border: none;\n",
              "      border-radius: 50%;\n",
              "      cursor: pointer;\n",
              "      display: none;\n",
              "      fill: #1967D2;\n",
              "      height: 32px;\n",
              "      padding: 0 0 0 0;\n",
              "      width: 32px;\n",
              "    }\n",
              "\n",
              "    .colab-df-convert:hover {\n",
              "      background-color: #E2EBFA;\n",
              "      box-shadow: 0px 1px 2px rgba(60, 64, 67, 0.3), 0px 1px 3px 1px rgba(60, 64, 67, 0.15);\n",
              "      fill: #174EA6;\n",
              "    }\n",
              "\n",
              "    [theme=dark] .colab-df-convert {\n",
              "      background-color: #3B4455;\n",
              "      fill: #D2E3FC;\n",
              "    }\n",
              "\n",
              "    [theme=dark] .colab-df-convert:hover {\n",
              "      background-color: #434B5C;\n",
              "      box-shadow: 0px 1px 3px 1px rgba(0, 0, 0, 0.15);\n",
              "      filter: drop-shadow(0px 1px 2px rgba(0, 0, 0, 0.3));\n",
              "      fill: #FFFFFF;\n",
              "    }\n",
              "  </style>\n",
              "\n",
              "      <script>\n",
              "        const buttonEl =\n",
              "          document.querySelector('#df-7db983b3-0701-4f8e-b465-190d3e67c753 button.colab-df-convert');\n",
              "        buttonEl.style.display =\n",
              "          google.colab.kernel.accessAllowed ? 'block' : 'none';\n",
              "\n",
              "        async function convertToInteractive(key) {\n",
              "          const element = document.querySelector('#df-7db983b3-0701-4f8e-b465-190d3e67c753');\n",
              "          const dataTable =\n",
              "            await google.colab.kernel.invokeFunction('convertToInteractive',\n",
              "                                                     [key], {});\n",
              "          if (!dataTable) return;\n",
              "\n",
              "          const docLinkHtml = 'Like what you see? Visit the ' +\n",
              "            '<a target=\"_blank\" href=https://colab.research.google.com/notebooks/data_table.ipynb>data table notebook</a>'\n",
              "            + ' to learn more about interactive tables.';\n",
              "          element.innerHTML = '';\n",
              "          dataTable['output_type'] = 'display_data';\n",
              "          await google.colab.output.renderOutput(dataTable, element);\n",
              "          const docLink = document.createElement('div');\n",
              "          docLink.innerHTML = docLinkHtml;\n",
              "          element.appendChild(docLink);\n",
              "        }\n",
              "      </script>\n",
              "    </div>\n",
              "  </div>\n",
              "  "
            ]
          },
          "metadata": {},
          "execution_count": 23
        }
      ],
      "source": [
        "housing_training.head(10)"
      ]
    },
    {
      "cell_type": "code",
      "execution_count": null,
      "metadata": {
        "colab": {
          "base_uri": "https://localhost:8080/",
          "height": 363
        },
        "id": "lJ3ARIQKbRLe",
        "outputId": "cb6d04b8-3956-4d22-fa7b-fbd6d90ad77c"
      },
      "outputs": [
        {
          "output_type": "execute_result",
          "data": {
            "text/plain": [
              "     HouseStyle\n",
              "254      1Story\n",
              "1066     2Story\n",
              "638      1Story\n",
              "799      1.5Fin\n",
              "380      1.5Fin\n",
              "303      1Story\n",
              "86       2Story\n",
              "1385     1.5Fin\n",
              "265      1Story\n",
              "793      1Story"
            ],
            "text/html": [
              "\n",
              "  <div id=\"df-62afc15f-2113-4f5e-bf8e-e5fa9bb77709\">\n",
              "    <div class=\"colab-df-container\">\n",
              "      <div>\n",
              "<style scoped>\n",
              "    .dataframe tbody tr th:only-of-type {\n",
              "        vertical-align: middle;\n",
              "    }\n",
              "\n",
              "    .dataframe tbody tr th {\n",
              "        vertical-align: top;\n",
              "    }\n",
              "\n",
              "    .dataframe thead th {\n",
              "        text-align: right;\n",
              "    }\n",
              "</style>\n",
              "<table border=\"1\" class=\"dataframe\">\n",
              "  <thead>\n",
              "    <tr style=\"text-align: right;\">\n",
              "      <th></th>\n",
              "      <th>HouseStyle</th>\n",
              "    </tr>\n",
              "  </thead>\n",
              "  <tbody>\n",
              "    <tr>\n",
              "      <th>254</th>\n",
              "      <td>1Story</td>\n",
              "    </tr>\n",
              "    <tr>\n",
              "      <th>1066</th>\n",
              "      <td>2Story</td>\n",
              "    </tr>\n",
              "    <tr>\n",
              "      <th>638</th>\n",
              "      <td>1Story</td>\n",
              "    </tr>\n",
              "    <tr>\n",
              "      <th>799</th>\n",
              "      <td>1.5Fin</td>\n",
              "    </tr>\n",
              "    <tr>\n",
              "      <th>380</th>\n",
              "      <td>1.5Fin</td>\n",
              "    </tr>\n",
              "    <tr>\n",
              "      <th>303</th>\n",
              "      <td>1Story</td>\n",
              "    </tr>\n",
              "    <tr>\n",
              "      <th>86</th>\n",
              "      <td>2Story</td>\n",
              "    </tr>\n",
              "    <tr>\n",
              "      <th>1385</th>\n",
              "      <td>1.5Fin</td>\n",
              "    </tr>\n",
              "    <tr>\n",
              "      <th>265</th>\n",
              "      <td>1Story</td>\n",
              "    </tr>\n",
              "    <tr>\n",
              "      <th>793</th>\n",
              "      <td>1Story</td>\n",
              "    </tr>\n",
              "  </tbody>\n",
              "</table>\n",
              "</div>\n",
              "      <button class=\"colab-df-convert\" onclick=\"convertToInteractive('df-62afc15f-2113-4f5e-bf8e-e5fa9bb77709')\"\n",
              "              title=\"Convert this dataframe to an interactive table.\"\n",
              "              style=\"display:none;\">\n",
              "        \n",
              "  <svg xmlns=\"http://www.w3.org/2000/svg\" height=\"24px\"viewBox=\"0 0 24 24\"\n",
              "       width=\"24px\">\n",
              "    <path d=\"M0 0h24v24H0V0z\" fill=\"none\"/>\n",
              "    <path d=\"M18.56 5.44l.94 2.06.94-2.06 2.06-.94-2.06-.94-.94-2.06-.94 2.06-2.06.94zm-11 1L8.5 8.5l.94-2.06 2.06-.94-2.06-.94L8.5 2.5l-.94 2.06-2.06.94zm10 10l.94 2.06.94-2.06 2.06-.94-2.06-.94-.94-2.06-.94 2.06-2.06.94z\"/><path d=\"M17.41 7.96l-1.37-1.37c-.4-.4-.92-.59-1.43-.59-.52 0-1.04.2-1.43.59L10.3 9.45l-7.72 7.72c-.78.78-.78 2.05 0 2.83L4 21.41c.39.39.9.59 1.41.59.51 0 1.02-.2 1.41-.59l7.78-7.78 2.81-2.81c.8-.78.8-2.07 0-2.86zM5.41 20L4 18.59l7.72-7.72 1.47 1.35L5.41 20z\"/>\n",
              "  </svg>\n",
              "      </button>\n",
              "      \n",
              "  <style>\n",
              "    .colab-df-container {\n",
              "      display:flex;\n",
              "      flex-wrap:wrap;\n",
              "      gap: 12px;\n",
              "    }\n",
              "\n",
              "    .colab-df-convert {\n",
              "      background-color: #E8F0FE;\n",
              "      border: none;\n",
              "      border-radius: 50%;\n",
              "      cursor: pointer;\n",
              "      display: none;\n",
              "      fill: #1967D2;\n",
              "      height: 32px;\n",
              "      padding: 0 0 0 0;\n",
              "      width: 32px;\n",
              "    }\n",
              "\n",
              "    .colab-df-convert:hover {\n",
              "      background-color: #E2EBFA;\n",
              "      box-shadow: 0px 1px 2px rgba(60, 64, 67, 0.3), 0px 1px 3px 1px rgba(60, 64, 67, 0.15);\n",
              "      fill: #174EA6;\n",
              "    }\n",
              "\n",
              "    [theme=dark] .colab-df-convert {\n",
              "      background-color: #3B4455;\n",
              "      fill: #D2E3FC;\n",
              "    }\n",
              "\n",
              "    [theme=dark] .colab-df-convert:hover {\n",
              "      background-color: #434B5C;\n",
              "      box-shadow: 0px 1px 3px 1px rgba(0, 0, 0, 0.15);\n",
              "      filter: drop-shadow(0px 1px 2px rgba(0, 0, 0, 0.3));\n",
              "      fill: #FFFFFF;\n",
              "    }\n",
              "  </style>\n",
              "\n",
              "      <script>\n",
              "        const buttonEl =\n",
              "          document.querySelector('#df-62afc15f-2113-4f5e-bf8e-e5fa9bb77709 button.colab-df-convert');\n",
              "        buttonEl.style.display =\n",
              "          google.colab.kernel.accessAllowed ? 'block' : 'none';\n",
              "\n",
              "        async function convertToInteractive(key) {\n",
              "          const element = document.querySelector('#df-62afc15f-2113-4f5e-bf8e-e5fa9bb77709');\n",
              "          const dataTable =\n",
              "            await google.colab.kernel.invokeFunction('convertToInteractive',\n",
              "                                                     [key], {});\n",
              "          if (!dataTable) return;\n",
              "\n",
              "          const docLinkHtml = 'Like what you see? Visit the ' +\n",
              "            '<a target=\"_blank\" href=https://colab.research.google.com/notebooks/data_table.ipynb>data table notebook</a>'\n",
              "            + ' to learn more about interactive tables.';\n",
              "          element.innerHTML = '';\n",
              "          dataTable['output_type'] = 'display_data';\n",
              "          await google.colab.output.renderOutput(dataTable, element);\n",
              "          const docLink = document.createElement('div');\n",
              "          docLink.innerHTML = docLinkHtml;\n",
              "          element.appendChild(docLink);\n",
              "        }\n",
              "      </script>\n",
              "    </div>\n",
              "  </div>\n",
              "  "
            ]
          },
          "metadata": {},
          "execution_count": 24
        }
      ],
      "source": [
        "# step 1a. but wait! what about those categorical values? there are a lot so let's focus on two\n",
        "# specifically, \"HouseStyle\"\n",
        "house_style = housing[[\"HouseStyle\"]]\n",
        "house_style.head(10)"
      ]
    },
    {
      "cell_type": "code",
      "execution_count": null,
      "metadata": {
        "colab": {
          "base_uri": "https://localhost:8080/"
        },
        "id": "PeefxZoUntp_",
        "outputId": "703d8b6d-4b65-4aa2-d7c5-4b581662187d"
      },
      "outputs": [
        {
          "output_type": "execute_result",
          "data": {
            "text/plain": [
              "array([[0., 0., 1., ..., 0., 0., 0.],\n",
              "       [0., 0., 0., ..., 1., 0., 0.],\n",
              "       [0., 0., 1., ..., 0., 0., 0.],\n",
              "       ...,\n",
              "       [0., 0., 1., ..., 0., 0., 0.],\n",
              "       [1., 0., 0., ..., 0., 0., 0.],\n",
              "       [0., 0., 1., ..., 0., 0., 0.]])"
            ]
          },
          "metadata": {},
          "execution_count": 25
        }
      ],
      "source": [
        "from sklearn.preprocessing import OneHotEncoder\n",
        "category_encoder = OneHotEncoder(sparse=False)\n",
        "housing_category_style = category_encoder.fit_transform(house_style)\n",
        "housing_category_style"
      ]
    },
    {
      "cell_type": "code",
      "execution_count": null,
      "metadata": {
        "colab": {
          "base_uri": "https://localhost:8080/"
        },
        "id": "dDS3nMwrpR_s",
        "outputId": "ee20bc89-ecab-4468-a80b-2cb7756a87dd"
      },
      "outputs": [
        {
          "output_type": "execute_result",
          "data": {
            "text/plain": [
              "[array(['1.5Fin', '1.5Unf', '1Story', '2.5Fin', '2.5Unf', '2Story',\n",
              "        'SFoyer', 'SLvl'], dtype=object)]"
            ]
          },
          "metadata": {},
          "execution_count": 26
        }
      ],
      "source": [
        "# let's view those house styles! \n",
        "category_encoder.categories_"
      ]
    },
    {
      "cell_type": "code",
      "execution_count": null,
      "metadata": {
        "colab": {
          "base_uri": "https://localhost:8080/"
        },
        "id": "6S_uK71L5oMF",
        "outputId": "c7beb94e-f188-4c67-cd25-e2bd1bcb3a74"
      },
      "outputs": [
        {
          "output_type": "execute_result",
          "data": {
            "text/plain": [
              "StandardScaler()"
            ]
          },
          "metadata": {},
          "execution_count": 27
        }
      ],
      "source": [
        "# step 2. feature scaling: call StandardScaler to normalize all the data AND\n",
        "from sklearn.preprocessing import StandardScaler\n",
        "scaler = StandardScaler()\n",
        "scaler.fit(housing_training)"
      ]
    },
    {
      "cell_type": "code",
      "execution_count": null,
      "metadata": {
        "id": "_euBFcMDCzHB"
      },
      "outputs": [],
      "source": [
        "# step 3. transformation pipeline: data transformation in the Right Order\n",
        "from sklearn.pipeline import Pipeline\n",
        "numbers_pipeline = Pipeline([\n",
        "        ('imputer', SimpleImputer(strategy='mean')),\n",
        "        ('std_scaler', StandardScaler()),\n",
        "      ])\n",
        "\n",
        "housing_numbers_train = numbers_pipeline.fit_transform(housing_numbers)"
      ]
    },
    {
      "cell_type": "code",
      "execution_count": null,
      "metadata": {
        "colab": {
          "base_uri": "https://localhost:8080/"
        },
        "id": "C4oWJj-VqQ7h",
        "outputId": "796cb52d-2278-4971-a15c-02bfaf7a50b8"
      },
      "outputs": [
        {
          "output_type": "execute_result",
          "data": {
            "text/plain": [
              "array([[-1.11928402, -0.8667643 , -0.01531368, ..., -0.09274033,\n",
              "        -0.13341669,  1.65006527],\n",
              "       [ 0.79046412,  0.07410996, -0.50521084, ..., -0.09274033,\n",
              "        -0.5080097 ,  0.89367742],\n",
              "       [-0.21615189, -0.63154574, -0.14892199, ..., -0.09274033,\n",
              "        -0.5080097 ,  0.13728958],\n",
              "       ...,\n",
              "       [ 1.32669882, -0.8667643 , -0.46067473, ..., -0.09274033,\n",
              "        -0.88260272, -1.37548612],\n",
              "       [ 0.30597137, -0.16110861, -0.68335526, ..., -0.09274033,\n",
              "        -0.13341669, -0.61909827],\n",
              "       [ 0.93157852,  1.48542135, -0.77242747, ..., -0.09274033,\n",
              "        -0.13341669,  0.89367742]])"
            ]
          },
          "metadata": {},
          "execution_count": 29
        }
      ],
      "source": [
        "# let's view the output of the housing numerical pipeline\n",
        "housing_numbers_train"
      ]
    },
    {
      "cell_type": "code",
      "execution_count": null,
      "metadata": {
        "id": "gEFsRPOUqat1"
      },
      "outputs": [],
      "source": [
        "# alright, that's cool and all but let's make a pipeline that affects all attributes (numerical and categorical)\n",
        "from sklearn.compose import ColumnTransformer\n",
        "\n",
        "numerical_attributes = list(housing_numbers)\n",
        "categorical_attributes = [\"HouseStyle\", \"SaleCondition\"]\n",
        "\n",
        "full_pipeline = ColumnTransformer([\n",
        "    (\"numerical\", numbers_pipeline, numerical_attributes),\n",
        "    (\"categorical\", OneHotEncoder(), categorical_attributes),\n",
        "])\n",
        "\n",
        "housing_prepared = full_pipeline.fit_transform(housing)"
      ]
    },
    {
      "cell_type": "code",
      "execution_count": null,
      "metadata": {
        "colab": {
          "base_uri": "https://localhost:8080/"
        },
        "id": "5JMLkWa3rL_H",
        "outputId": "0d22c6b1-435f-4e5c-eb82-7d53516a7ca5"
      },
      "outputs": [
        {
          "output_type": "stream",
          "name": "stdout",
          "text": [
            "housing DataFrame shape: (1168, 80)\n",
            "prepared housing DataFrame shape: (1168, 51)\n"
          ]
        }
      ],
      "source": [
        "# let's view the prepared housing DataFrame shape\n",
        "print(\"housing DataFrame shape:\", housing.shape)\n",
        "print(\"prepared housing DataFrame shape:\", housing_prepared.shape)"
      ]
    },
    {
      "cell_type": "code",
      "execution_count": null,
      "metadata": {
        "colab": {
          "base_uri": "https://localhost:8080/"
        },
        "id": "VlNL7YgYrv6C",
        "outputId": "5ac7a744-dd7b-4295-e289-33e04a1019da"
      },
      "outputs": [
        {
          "output_type": "execute_result",
          "data": {
            "text/plain": [
              "array([[-1.11928402, -0.8667643 , -0.01531368, ...,  0.        ,\n",
              "         1.        ,  0.        ],\n",
              "       [ 0.79046412,  0.07410996, -0.50521084, ...,  0.        ,\n",
              "         1.        ,  0.        ],\n",
              "       [-0.21615189, -0.63154574, -0.14892199, ...,  0.        ,\n",
              "         1.        ,  0.        ],\n",
              "       ...,\n",
              "       [ 1.32669882, -0.8667643 , -0.46067473, ...,  0.        ,\n",
              "         1.        ,  0.        ],\n",
              "       [ 0.30597137, -0.16110861, -0.68335526, ...,  0.        ,\n",
              "         1.        ,  0.        ],\n",
              "       [ 0.93157852,  1.48542135, -0.77242747, ...,  0.        ,\n",
              "         1.        ,  0.        ]])"
            ]
          },
          "metadata": {},
          "execution_count": 32
        }
      ],
      "source": [
        "# let's view the prepared housing DataFrame\n",
        "housing_prepared"
      ]
    },
    {
      "cell_type": "code",
      "source": [
        "# let's place the test and validation sets into the pipeline\n",
        "housing_test_prep = full_pipeline.transform(test_set)\n",
        "housing_valid_prep = full_pipeline.transform(valid_set)\n",
        "print(housing_test_prep)\n",
        "print(housing_valid_prep)"
      ],
      "metadata": {
        "colab": {
          "base_uri": "https://localhost:8080/"
        },
        "id": "ydZfG7CaJRQo",
        "outputId": "ac6ebd0a-bcdf-4b57-c6d6-8f770d00b706"
      },
      "execution_count": null,
      "outputs": [
        {
          "output_type": "stream",
          "name": "stdout",
          "text": [
            "[[ 0.38123238 -0.8667643  -0.01531368 ...  0.          1.\n",
            "   0.        ]\n",
            " [ 0.88218848  0.07410996  1.23169728 ...  0.          1.\n",
            "   0.        ]\n",
            " [-0.74533088 -0.63154574 -0.63881915 ...  0.          1.\n",
            "   0.        ]\n",
            " ...\n",
            " [ 0.16956079  0.07410996 -0.32706642 ...  0.          1.\n",
            "   0.        ]\n",
            " [-0.18557711  0.30932853 -0.46067473 ...  0.          1.\n",
            "   0.        ]\n",
            " [-0.01859174 -0.8667643  -0.01531368 ...  0.          1.\n",
            "   0.        ]]\n",
            "[[ 0.38123238 -0.8667643  -0.01531368 ...  0.          1.\n",
            "   0.        ]\n",
            " [ 0.88218848  0.07410996  1.23169728 ...  0.          1.\n",
            "   0.        ]\n",
            " [-0.74533088 -0.63154574 -0.63881915 ...  0.          1.\n",
            "   0.        ]\n",
            " ...\n",
            " [ 0.16956079  0.07410996 -0.32706642 ...  0.          1.\n",
            "   0.        ]\n",
            " [-0.18557711  0.30932853 -0.46067473 ...  0.          1.\n",
            "   0.        ]\n",
            " [-0.01859174 -0.8667643  -0.01531368 ...  0.          1.\n",
            "   0.        ]]\n"
          ]
        }
      ]
    },
    {
      "cell_type": "markdown",
      "metadata": {
        "id": "8ExMZjJgaZ7j"
      },
      "source": [
        "## Step 5: Model Selection\n",
        "\n"
      ]
    },
    {
      "cell_type": "code",
      "execution_count": null,
      "metadata": {
        "colab": {
          "base_uri": "https://localhost:8080/"
        },
        "id": "waI2JEldacQF",
        "outputId": "7f25181c-f222-40b2-8d31-754832176352"
      },
      "outputs": [
        {
          "output_type": "execute_result",
          "data": {
            "text/plain": [
              "LinearRegression()"
            ]
          },
          "metadata": {},
          "execution_count": 34
        }
      ],
      "source": [
        "# 1. linear regression\n",
        "from sklearn.linear_model import LinearRegression\n",
        "\n",
        "lr = LinearRegression()\n",
        "lr.fit(housing_prepared, housing_labels)"
      ]
    },
    {
      "cell_type": "code",
      "execution_count": null,
      "metadata": {
        "colab": {
          "base_uri": "https://localhost:8080/"
        },
        "id": "0Lx3ozcOFk4F",
        "outputId": "b45f7a9f-8d66-4225-96e7-e9283d37ae1b"
      },
      "outputs": [
        {
          "output_type": "stream",
          "name": "stdout",
          "text": [
            "linear regression predictions [143051.14869693 179607.86529702  89703.52551977 173015.22772619\n",
            " 131449.8303005 ]\n"
          ]
        }
      ],
      "source": [
        "# 1a. let's try the preprocessing pipeline on linear regression\n",
        "test_data = housing.iloc[:5]\n",
        "test_labels = housing_labels.iloc[:5]\n",
        "test_data_prepped = full_pipeline.transform(test_data)\n",
        "\n",
        "print('linear regression predictions', lr.predict(test_data_prepped))"
      ]
    },
    {
      "cell_type": "code",
      "execution_count": null,
      "metadata": {
        "colab": {
          "base_uri": "https://localhost:8080/"
        },
        "id": "UXZSVhHkM7ac",
        "outputId": "cbec48b4-f42d-478e-fe69-967677c48628"
      },
      "outputs": [
        {
          "output_type": "stream",
          "name": "stdout",
          "text": [
            "labels:  [145000, 178000, 85000, 175000, 127000]\n"
          ]
        }
      ],
      "source": [
        "# compare against actual values\n",
        "print(\"labels: \", list(test_labels))"
      ]
    },
    {
      "cell_type": "code",
      "execution_count": null,
      "metadata": {
        "colab": {
          "base_uri": "https://localhost:8080/"
        },
        "id": "wyhdQui46AAC",
        "outputId": "5f58f6b2-84ee-4061-da03-c1c12c8b2f25"
      },
      "outputs": [
        {
          "output_type": "stream",
          "name": "stdout",
          "text": [
            "LinearRegression rmse: 32984.58142240706\n"
          ]
        }
      ],
      "source": [
        "# we're actually aligning the predictions with the labels pretty well!\n",
        "# evauluate the performance of the model(s) with rmse\n",
        "from sklearn.metrics import mean_squared_error\n",
        "lr_housing_predictions = lr.predict(housing_prepared)\n",
        "lr_mse = mean_squared_error(housing_labels, lr_housing_predictions)\n",
        "lr_rmse = np.sqrt(lr_mse)\n",
        "print(\"LinearRegression rmse:\", lr_rmse)"
      ]
    },
    {
      "cell_type": "code",
      "execution_count": null,
      "metadata": {
        "colab": {
          "base_uri": "https://localhost:8080/"
        },
        "id": "3w69Bi0VN4p1",
        "outputId": "5d7b3be2-bdab-43cb-e11c-310a60d4972e"
      },
      "outputs": [
        {
          "output_type": "execute_result",
          "data": {
            "text/plain": [
              "DecisionTreeRegressor(random_state=42)"
            ]
          },
          "metadata": {},
          "execution_count": 38
        }
      ],
      "source": [
        "# okay! so this is not super great because the error is $32,984 which is fairly large for house prices\n",
        "# 2. let's train a DecisionTreeRegressor (better at finding more complex nonlinear relationships)\n",
        "from sklearn.tree import DecisionTreeRegressor\n",
        "\n",
        "tree_regressor = DecisionTreeRegressor(random_state=42)\n",
        "tree_regressor.fit(housing_prepared, housing_labels)"
      ]
    },
    {
      "cell_type": "code",
      "execution_count": null,
      "metadata": {
        "colab": {
          "base_uri": "https://localhost:8080/"
        },
        "id": "RCjn7gw9RJFp",
        "outputId": "c837d5a3-7b25-4f5a-bce8-0ef91ed2670a"
      },
      "outputs": [
        {
          "output_type": "stream",
          "name": "stdout",
          "text": [
            "DecisionTree regression predictions [145000. 178000.  85000. 175000. 127000.]\n"
          ]
        }
      ],
      "source": [
        "# 2a. let's try the preprocessing pipline with a DecisionTreeRegressor\n",
        "print('DecisionTree regression predictions', tree_regressor.predict(test_data_prepped))"
      ]
    },
    {
      "cell_type": "code",
      "execution_count": null,
      "metadata": {
        "colab": {
          "base_uri": "https://localhost:8080/"
        },
        "id": "5gg01oqGylrw",
        "outputId": "ad1a2554-932d-4398-d93d-f4a0451dbb1e"
      },
      "outputs": [
        {
          "output_type": "stream",
          "name": "stdout",
          "text": [
            "labels:  [145000, 178000, 85000, 175000, 127000]\n"
          ]
        }
      ],
      "source": [
        "# compare against actual values\n",
        "print(\"labels: \", list(test_labels))"
      ]
    },
    {
      "cell_type": "code",
      "execution_count": null,
      "metadata": {
        "colab": {
          "base_uri": "https://localhost:8080/"
        },
        "id": "Q1DF_7E_yPIi",
        "outputId": "c6f8fc4c-dc15-4b53-9035-90d0374e4e79"
      },
      "outputs": [
        {
          "output_type": "stream",
          "name": "stdout",
          "text": [
            "DecisionTreeRegressor rmse: 0.0\n"
          ]
        }
      ],
      "source": [
        "tree_housing_predictions = tree_regressor.predict(housing_prepared)\n",
        "tree_mse = mean_squared_error(housing_labels, tree_housing_predictions)\n",
        "tree_rmse = np.sqrt(tree_mse)\n",
        "print(\"DecisionTreeRegressor rmse:\", tree_rmse)"
      ]
    },
    {
      "cell_type": "code",
      "execution_count": null,
      "metadata": {
        "colab": {
          "base_uri": "https://localhost:8080/"
        },
        "id": "29_jELRv6_BV",
        "outputId": "a621189d-fb0f-4c53-c4ef-b622dc807c65"
      },
      "outputs": [
        {
          "output_type": "execute_result",
          "data": {
            "text/plain": [
              "RandomForestRegressor()"
            ]
          },
          "metadata": {},
          "execution_count": 42
        }
      ],
      "source": [
        "# looks like the DecisionTreeRegressor is overfitting the data\n",
        "# 3. let's try RandomForestRegressor\n",
        "from sklearn.ensemble import RandomForestRegressor\n",
        "\n",
        "rfr = RandomForestRegressor()\n",
        "rfr.fit(housing_prepared,housing_labels)"
      ]
    },
    {
      "cell_type": "code",
      "execution_count": null,
      "metadata": {
        "colab": {
          "base_uri": "https://localhost:8080/"
        },
        "id": "z3cxDXuA8Dm0",
        "outputId": "191bb9c2-f137-463c-8bb6-6a00bf478214"
      },
      "outputs": [
        {
          "output_type": "stream",
          "name": "stdout",
          "text": [
            "RandomForestRegressor regression predictions [145433.   174732.97  89933.   162846.87 132917.34]\n"
          ]
        }
      ],
      "source": [
        "# 3a. let's try the preprocessing pipline with a RandomForestRegressor\n",
        "print('RandomForestRegressor regression predictions', rfr.predict(test_data_prepped))"
      ]
    },
    {
      "cell_type": "code",
      "execution_count": null,
      "metadata": {
        "colab": {
          "base_uri": "https://localhost:8080/"
        },
        "id": "wvU2cGyv8ZW2",
        "outputId": "930094af-1524-4b4d-b49d-a0a195e51c21"
      },
      "outputs": [
        {
          "output_type": "stream",
          "name": "stdout",
          "text": [
            "labels:  [145000, 178000, 85000, 175000, 127000]\n"
          ]
        }
      ],
      "source": [
        "# compare against actual values\n",
        "print(\"labels: \", list(test_labels))"
      ]
    },
    {
      "cell_type": "code",
      "execution_count": null,
      "metadata": {
        "colab": {
          "base_uri": "https://localhost:8080/"
        },
        "id": "rIQy94g-8byf",
        "outputId": "8cf3cc04-9945-43d1-9979-554df91fc3e0"
      },
      "outputs": [
        {
          "output_type": "stream",
          "name": "stdout",
          "text": [
            "RandomForestRegressor rmse: 11177.961021498379\n"
          ]
        }
      ],
      "source": [
        "rfr_housing_predictions = rfr.predict(housing_prepared)\n",
        "rfr_mse = mean_squared_error(housing_labels, rfr_housing_predictions)\n",
        "rfr_rmse = np.sqrt(rfr_mse)\n",
        "print(\"RandomForestRegressor rmse:\", rfr_rmse)"
      ]
    },
    {
      "cell_type": "code",
      "execution_count": null,
      "metadata": {
        "colab": {
          "base_uri": "https://localhost:8080/",
          "height": 35
        },
        "id": "5lGP9KI6uAuq",
        "outputId": "deeee498-466a-4a1f-b34a-588fef794b7c"
      },
      "outputs": [
        {
          "output_type": "execute_result",
          "data": {
            "text/plain": [
              "'from sklearn.neural_network import MLPRegressor\\n\\nmlp = MLPRegressor(max_iter=1000000)\\nmlp.fit(housing_prepared, housing_labels)'"
            ],
            "application/vnd.google.colaboratory.intrinsic+json": {
              "type": "string"
            }
          },
          "metadata": {},
          "execution_count": 46
        }
      ],
      "source": [
        "# extra! let's try some neutral networks (update it takes forever so uncomment at your own risk)\n",
        "'''from sklearn.neural_network import MLPRegressor\n",
        "\n",
        "mlp = MLPRegressor(max_iter=1000000)\n",
        "mlp.fit(housing_prepared, housing_labels)'''"
      ]
    },
    {
      "cell_type": "code",
      "execution_count": null,
      "metadata": {
        "id": "JmRud15Y5L1j"
      },
      "outputs": [],
      "source": [
        "# extra(a). let's try the preprocessing pipline with a Multi-layer Preceptron regressor\n",
        "# print('Multi-layer Perceptron regression predictions', mlp.predict(test_data_prepped))"
      ]
    },
    {
      "cell_type": "code",
      "execution_count": null,
      "metadata": {
        "id": "RlqQX-M97XhG"
      },
      "outputs": [],
      "source": [
        "# compare against actual values\n",
        "# print(\"labels: \", list(test_labels))"
      ]
    },
    {
      "cell_type": "code",
      "execution_count": null,
      "metadata": {
        "colab": {
          "base_uri": "https://localhost:8080/",
          "height": 52
        },
        "id": "-uFpGxol9tFW",
        "outputId": "abee4288-48af-46d2-d325-57b98f9efcc8"
      },
      "outputs": [
        {
          "output_type": "execute_result",
          "data": {
            "text/plain": [
              "'mlp_housing_predictions = mlp.predict(housing_prepared)\\nmlp_mse = mean_squared_error(housing_labels, mlp_housing_predictions)\\nmlp_rmse = np.sqrt(mlp_mse)\\nprint(\"Multi-layerPreceptronRegressor rmse:\", mlp_rmse)'"
            ],
            "application/vnd.google.colaboratory.intrinsic+json": {
              "type": "string"
            }
          },
          "metadata": {},
          "execution_count": 49
        }
      ],
      "source": [
        "# let's calculate the rmse of the MLP regressor\n",
        "'''mlp_housing_predictions = mlp.predict(housing_prepared)\n",
        "mlp_mse = mean_squared_error(housing_labels, mlp_housing_predictions)\n",
        "mlp_rmse = np.sqrt(mlp_mse)\n",
        "print(\"Multi-layerPreceptronRegressor rmse:\", mlp_rmse)'''"
      ]
    },
    {
      "cell_type": "code",
      "source": [
        "# let's use 5-fold CV on all models to evaluate the performance\n",
        "from sklearn.model_selection import cross_val_score\n",
        "\n",
        "lr_scores = cross_val_score(lr, housing_prepared, housing_labels, \n",
        "                            scoring=\"neg_mean_squared_error\", cv=5)\n",
        "lr_rmse_scores = np.sqrt(-lr_scores)"
      ],
      "metadata": {
        "id": "m_ypmofysKrV"
      },
      "execution_count": null,
      "outputs": []
    },
    {
      "cell_type": "code",
      "source": [
        "tree_scores = cross_val_score(tree_regressor, housing_prepared, housing_labels, \n",
        "                            scoring=\"neg_mean_squared_error\", cv=5)\n",
        "tree_rmse_scores = np.sqrt(-tree_scores)"
      ],
      "metadata": {
        "id": "JttzwzM9_VsN"
      },
      "execution_count": null,
      "outputs": []
    },
    {
      "cell_type": "code",
      "source": [
        "rfr_scores = cross_val_score(rfr, housing_prepared, housing_labels, \n",
        "                            scoring=\"neg_mean_squared_error\", cv=5)\n",
        "rfr_rmse_scores = np.sqrt(-rfr_scores)"
      ],
      "metadata": {
        "id": "yKxaIeQl_1We"
      },
      "execution_count": null,
      "outputs": []
    },
    {
      "cell_type": "code",
      "source": [
        "'''mlp_scores = cross_val_score(mlp, housing_prepared, housing_labels, \n",
        "                            scoring=\"neg_mean_squared_error\", cv=5)\n",
        "mlp_rmse_scores = np.sqrt(-mlp_scores)'''"
      ],
      "metadata": {
        "id": "6UdfkOz7Apzh",
        "colab": {
          "base_uri": "https://localhost:8080/",
          "height": 35
        },
        "outputId": "43807ae1-cbb5-482d-ec00-9c595ec31ea0"
      },
      "execution_count": null,
      "outputs": [
        {
          "output_type": "execute_result",
          "data": {
            "text/plain": [
              "'mlp_scores = cross_val_score(mlp, housing_prepared, housing_labels, \\n                            scoring=\"neg_mean_squared_error\", cv=5)\\nmlp_rmse_scores = np.sqrt(-mlp_scores)'"
            ],
            "application/vnd.google.colaboratory.intrinsic+json": {
              "type": "string"
            }
          },
          "metadata": {},
          "execution_count": 53
        }
      ]
    },
    {
      "cell_type": "code",
      "source": [
        "def display_scores(scores):\n",
        "  print(\"cross valadation:\", scores)\n",
        "  print(\"mean:\", scores.mean())\n",
        "  print(\"standard deviation:\", scores.std())\n",
        "  print(\"\\n\")\n",
        "\n",
        "print(\"linear regression scores:\\n\")\n",
        "display_scores(lr_scores)\n",
        "print(\"DecisionTreeRegressor scores:\\n\")\n",
        "display_scores(tree_scores)\n",
        "print(\"RandomForestRegressor scores:\\n\")\n",
        "display_scores(rfr_scores)\n",
        "print(\"\\n\")\n",
        "#print(\"Multi-layerPreceptronRegressor scores:\", display_scores(mlp_scores))"
      ],
      "metadata": {
        "colab": {
          "base_uri": "https://localhost:8080/"
        },
        "id": "4afo4D5U7YIh",
        "outputId": "4a219665-35c4-4828-f02d-07c35af5b39c"
      },
      "execution_count": null,
      "outputs": [
        {
          "output_type": "stream",
          "name": "stdout",
          "text": [
            "linear regression scores:\n",
            "\n",
            "cross valadation: [-1.68481961e+09 -1.55716262e+09 -2.89001470e+09 -6.79793363e+08\n",
            " -6.96560608e+08]\n",
            "mean: -1501670178.1738906\n",
            "standard deviation: 810901540.6001867\n",
            "\n",
            "\n",
            "DecisionTreeRegressor scores:\n",
            "\n",
            "cross valadation: [-2.00945325e+09 -2.20494301e+09 -2.14934391e+09 -1.36645451e+09\n",
            " -1.22865844e+09]\n",
            "mean: -1791770622.919537\n",
            "standard deviation: 410839367.2738907\n",
            "\n",
            "\n",
            "RandomForestRegressor scores:\n",
            "\n",
            "cross valadation: [-8.86647537e+08 -1.23898579e+09 -1.42178046e+09 -6.62141676e+08\n",
            " -6.74952073e+08]\n",
            "mean: -976901506.4837983\n",
            "standard deviation: 304958502.59686255\n",
            "\n",
            "\n",
            "\n",
            "\n"
          ]
        }
      ]
    },
    {
      "cell_type": "markdown",
      "metadata": {
        "id": "FFiwPfmZeK2i"
      },
      "source": [
        "## Step 6: Model Tuning"
      ]
    },
    {
      "cell_type": "code",
      "execution_count": null,
      "metadata": {
        "colab": {
          "base_uri": "https://localhost:8080/"
        },
        "id": "ai_Wdc42MLKp",
        "outputId": "406161c4-d26d-4933-e5a8-3b233dfafd7f"
      },
      "outputs": [
        {
          "output_type": "execute_result",
          "data": {
            "text/plain": [
              "GridSearchCV(cv=5, estimator=RandomForestRegressor(random_state=42),\n",
              "             param_grid=[{'max_features': [2, 4, 6, 8],\n",
              "                          'n_estimators': [3, 10, 30]},\n",
              "                         {'bootstrap': [False], 'max_features': [2, 3, 4],\n",
              "                          'n_estimators': [3, 10]}],\n",
              "             return_train_score=True, scoring='neg_mean_squared_error')"
            ]
          },
          "metadata": {},
          "execution_count": 55
        }
      ],
      "source": [
        "# let's start with GridSearchCV to get starting on the fine \n",
        "# tuning of the RandomForestRegressor\n",
        "from sklearn.model_selection import GridSearchCV\n",
        "\n",
        "param_grid = [\n",
        "    # let's try 12 (3x4) combinations of hyperparameters\n",
        "    {'n_estimators': [3, 10, 30],\n",
        "      'max_features': [2, 4, 6, 8]},\n",
        "    # then we'll try 6 (2x3) combinations with bootstrap set as False\n",
        "    {'bootstrap': [False], 'n_estimators': [3, 10], 'max_features': [2, 3, 4]},\n",
        "]\n",
        "\n",
        "forest_regress = RandomForestRegressor(random_state=42)\n",
        "# we're going to train across 5 folds (90 rounds of training)\n",
        "grid_search = GridSearchCV(forest_regress, param_grid, cv=5, \n",
        "                           scoring='neg_mean_squared_error',\n",
        "                           return_train_score=True)\n",
        "grid_search.fit(housing_prepared, housing_labels)"
      ]
    },
    {
      "cell_type": "code",
      "execution_count": null,
      "metadata": {
        "colab": {
          "base_uri": "https://localhost:8080/"
        },
        "id": "W4fcb_6WS8y6",
        "outputId": "66a2269c-6f2c-485a-8b8d-9a75573b3bcf"
      },
      "outputs": [
        {
          "output_type": "execute_result",
          "data": {
            "text/plain": [
              "{'max_features': 6, 'n_estimators': 30}"
            ]
          },
          "metadata": {},
          "execution_count": 56
        }
      ],
      "source": [
        "# we can find the best hyperparameter combination with: \n",
        "grid_search.best_params_"
      ]
    },
    {
      "cell_type": "code",
      "execution_count": null,
      "metadata": {
        "colab": {
          "base_uri": "https://localhost:8080/"
        },
        "id": "PmXcQhKKWfeP",
        "outputId": "32cc03a2-26b9-4c32-eaf5-f01181293a9e"
      },
      "outputs": [
        {
          "output_type": "execute_result",
          "data": {
            "text/plain": [
              "RandomForestRegressor(max_features=6, n_estimators=30, random_state=42)"
            ]
          },
          "metadata": {},
          "execution_count": 57
        }
      ],
      "source": [
        "grid_search.best_estimator_"
      ]
    },
    {
      "cell_type": "code",
      "execution_count": null,
      "metadata": {
        "colab": {
          "base_uri": "https://localhost:8080/"
        },
        "id": "yombAsnTXCm2",
        "outputId": "cf022049-d7bb-4b15-8e6b-6bc7a19e2dab"
      },
      "outputs": [
        {
          "output_type": "stream",
          "name": "stdout",
          "text": [
            "44088.879750432236 {'max_features': 2, 'n_estimators': 3}\n",
            "36962.44794112442 {'max_features': 2, 'n_estimators': 10}\n",
            "34254.46884780377 {'max_features': 2, 'n_estimators': 30}\n",
            "40544.64240133501 {'max_features': 4, 'n_estimators': 3}\n",
            "35427.27982733838 {'max_features': 4, 'n_estimators': 10}\n",
            "32281.599281464692 {'max_features': 4, 'n_estimators': 30}\n",
            "40096.12584659163 {'max_features': 6, 'n_estimators': 3}\n",
            "33924.581123835815 {'max_features': 6, 'n_estimators': 10}\n",
            "32213.591232326187 {'max_features': 6, 'n_estimators': 30}\n",
            "39928.46327863732 {'max_features': 8, 'n_estimators': 3}\n",
            "34638.65826586293 {'max_features': 8, 'n_estimators': 10}\n",
            "32257.360586256804 {'max_features': 8, 'n_estimators': 30}\n",
            "40199.84687604827 {'bootstrap': False, 'max_features': 2, 'n_estimators': 3}\n",
            "35552.29009506104 {'bootstrap': False, 'max_features': 2, 'n_estimators': 10}\n",
            "39053.98119076304 {'bootstrap': False, 'max_features': 3, 'n_estimators': 3}\n",
            "34861.9103084158 {'bootstrap': False, 'max_features': 3, 'n_estimators': 10}\n",
            "42305.04286940982 {'bootstrap': False, 'max_features': 4, 'n_estimators': 3}\n",
            "33561.03842866397 {'bootstrap': False, 'max_features': 4, 'n_estimators': 10}\n"
          ]
        }
      ],
      "source": [
        "# we're going to look at the score of each hyperparameter combination tested in GridSearchCV\n",
        "cvres = grid_search.cv_results_\n",
        "# we're using zip() to combine the \"mean_test_score\" column with the \"params\"\n",
        "for mean_score, params in zip(cvres[\"mean_test_score\"], cvres[\"params\"]):\n",
        "  print(np.sqrt(-mean_score), params)\n"
      ]
    },
    {
      "cell_type": "code",
      "execution_count": null,
      "metadata": {
        "colab": {
          "base_uri": "https://localhost:8080/",
          "height": 1000
        },
        "id": "H6xWTIaQZWds",
        "outputId": "4229a394-b813-40ed-92ac-15a6cd430748"
      },
      "outputs": [
        {
          "output_type": "execute_result",
          "data": {
            "text/plain": [
              "    mean_fit_time  std_fit_time  mean_score_time  std_score_time  \\\n",
              "0        0.010305      0.006582         0.001189        0.000082   \n",
              "1        0.020613      0.001312         0.002086        0.000014   \n",
              "2        0.062195      0.004710         0.004854        0.000618   \n",
              "3        0.008529      0.000212         0.001203        0.000035   \n",
              "4        0.024365      0.000200         0.002174        0.000028   \n",
              "5        0.071660      0.003018         0.004500        0.000084   \n",
              "6        0.009561      0.000164         0.001216        0.000046   \n",
              "7        0.028082      0.000432         0.002121        0.000031   \n",
              "8        0.082773      0.001500         0.004894        0.000775   \n",
              "9        0.011191      0.001421         0.001207        0.000055   \n",
              "10       0.031176      0.000595         0.002099        0.000024   \n",
              "11       0.097732      0.006406         0.004686        0.000184   \n",
              "12       0.007781      0.000203         0.001205        0.000057   \n",
              "13       0.022655      0.001896         0.002360        0.000082   \n",
              "14       0.009399      0.001839         0.001224        0.000054   \n",
              "15       0.024440      0.000210         0.002342        0.000101   \n",
              "16       0.009439      0.000150         0.001233        0.000026   \n",
              "17       0.027568      0.000222         0.002328        0.000020   \n",
              "\n",
              "   param_max_features param_n_estimators param_bootstrap  \\\n",
              "0                   2                  3             NaN   \n",
              "1                   2                 10             NaN   \n",
              "2                   2                 30             NaN   \n",
              "3                   4                  3             NaN   \n",
              "4                   4                 10             NaN   \n",
              "5                   4                 30             NaN   \n",
              "6                   6                  3             NaN   \n",
              "7                   6                 10             NaN   \n",
              "8                   6                 30             NaN   \n",
              "9                   8                  3             NaN   \n",
              "10                  8                 10             NaN   \n",
              "11                  8                 30             NaN   \n",
              "12                  2                  3           False   \n",
              "13                  2                 10           False   \n",
              "14                  3                  3           False   \n",
              "15                  3                 10           False   \n",
              "16                  4                  3           False   \n",
              "17                  4                 10           False   \n",
              "\n",
              "                                               params  split0_test_score  \\\n",
              "0              {'max_features': 2, 'n_estimators': 3}      -2.117465e+09   \n",
              "1             {'max_features': 2, 'n_estimators': 10}      -1.379329e+09   \n",
              "2             {'max_features': 2, 'n_estimators': 30}      -1.259011e+09   \n",
              "3              {'max_features': 4, 'n_estimators': 3}      -1.632236e+09   \n",
              "4             {'max_features': 4, 'n_estimators': 10}      -1.519289e+09   \n",
              "5             {'max_features': 4, 'n_estimators': 30}      -1.032269e+09   \n",
              "6              {'max_features': 6, 'n_estimators': 3}      -2.000259e+09   \n",
              "7             {'max_features': 6, 'n_estimators': 10}      -1.396510e+09   \n",
              "8             {'max_features': 6, 'n_estimators': 30}      -1.042933e+09   \n",
              "9              {'max_features': 8, 'n_estimators': 3}      -1.103153e+09   \n",
              "10            {'max_features': 8, 'n_estimators': 10}      -8.185131e+08   \n",
              "11            {'max_features': 8, 'n_estimators': 30}      -8.263297e+08   \n",
              "12  {'bootstrap': False, 'max_features': 2, 'n_est...      -2.230555e+09   \n",
              "13  {'bootstrap': False, 'max_features': 2, 'n_est...      -1.525466e+09   \n",
              "14  {'bootstrap': False, 'max_features': 3, 'n_est...      -1.785714e+09   \n",
              "15  {'bootstrap': False, 'max_features': 3, 'n_est...      -1.293012e+09   \n",
              "16  {'bootstrap': False, 'max_features': 4, 'n_est...      -1.698510e+09   \n",
              "17  {'bootstrap': False, 'max_features': 4, 'n_est...      -1.041880e+09   \n",
              "\n",
              "    split1_test_score  ...  mean_test_score  std_test_score  rank_test_score  \\\n",
              "0       -2.173943e+09  ...    -1.943829e+09    5.185840e+08               18   \n",
              "1       -1.540894e+09  ...    -1.366223e+09    4.415086e+08               11   \n",
              "2       -1.286908e+09  ...    -1.173369e+09    3.715199e+08                6   \n",
              "3       -2.040303e+09  ...    -1.643868e+09    3.018841e+08               16   \n",
              "4       -1.567477e+09  ...    -1.255092e+09    3.829395e+08                9   \n",
              "5       -1.225225e+09  ...    -1.042102e+09    3.463516e+08                3   \n",
              "6       -1.814869e+09  ...    -1.607699e+09    4.075882e+08               14   \n",
              "7       -1.276144e+09  ...    -1.150877e+09    3.033605e+08                5   \n",
              "8       -1.347918e+09  ...    -1.037715e+09    3.392393e+08                1   \n",
              "9       -2.197239e+09  ...    -1.594282e+09    6.185087e+08               13   \n",
              "10      -1.747399e+09  ...    -1.199837e+09    5.072042e+08                7   \n",
              "11      -1.386774e+09  ...    -1.040537e+09    4.173313e+08                2   \n",
              "12      -1.661150e+09  ...    -1.616028e+09    4.719493e+08               15   \n",
              "13      -1.419401e+09  ...    -1.263965e+09    3.314209e+08               10   \n",
              "14      -1.594630e+09  ...    -1.525213e+09    3.972894e+08               12   \n",
              "15      -1.360984e+09  ...    -1.215353e+09    3.952642e+08                8   \n",
              "16      -1.873967e+09  ...    -1.789717e+09    4.511181e+08               17   \n",
              "17      -1.523880e+09  ...    -1.126343e+09    3.807046e+08                4   \n",
              "\n",
              "    split0_train_score  split1_train_score  split2_train_score  \\\n",
              "0        -4.477157e+08       -5.013119e+08       -4.783959e+08   \n",
              "1        -2.529075e+08       -2.320448e+08       -1.997266e+08   \n",
              "2        -1.812668e+08       -1.805721e+08       -1.448995e+08   \n",
              "3        -4.592149e+08       -3.783346e+08       -3.818018e+08   \n",
              "4        -2.548290e+08       -1.888954e+08       -1.709963e+08   \n",
              "5        -1.631821e+08       -1.456135e+08       -1.192144e+08   \n",
              "6        -4.182693e+08       -3.510707e+08       -4.099515e+08   \n",
              "7        -2.095212e+08       -2.085699e+08       -1.674423e+08   \n",
              "8        -1.569215e+08       -1.487764e+08       -1.239785e+08   \n",
              "9        -4.127458e+08       -3.214884e+08       -3.930441e+08   \n",
              "10       -1.990953e+08       -1.699004e+08       -1.462570e+08   \n",
              "11       -1.531104e+08       -1.428758e+08       -1.241752e+08   \n",
              "12       -0.000000e+00       -1.487033e+03       -7.221033e+04   \n",
              "13       -0.000000e+00       -4.330835e+03       -1.179336e+04   \n",
              "14       -0.000000e+00       -0.000000e+00       -0.000000e+00   \n",
              "15       -5.353319e+02       -0.000000e+00       -0.000000e+00   \n",
              "16       -0.000000e+00       -5.948132e+03       -9.998810e+04   \n",
              "17       -0.000000e+00       -8.779443e+02       -8.998929e+03   \n",
              "\n",
              "    split3_train_score  split4_train_score  mean_train_score  std_train_score  \n",
              "0        -4.229272e+08       -5.263155e+08     -4.753333e+08     3.685805e+07  \n",
              "1        -2.208814e+08       -2.136294e+08     -2.238379e+08     1.792598e+07  \n",
              "2        -1.723592e+08       -1.827651e+08     -1.723725e+08     1.420643e+07  \n",
              "3        -4.433704e+08       -4.378787e+08     -4.201201e+08     3.346243e+07  \n",
              "4        -2.156128e+08       -2.085720e+08     -2.077811e+08     2.823208e+07  \n",
              "5        -1.727790e+08       -1.881370e+08     -1.577852e+08     2.371087e+07  \n",
              "6        -4.075611e+08       -4.707636e+08     -4.115232e+08     3.802001e+07  \n",
              "7        -2.065891e+08       -1.868750e+08     -1.957995e+08     1.644118e+07  \n",
              "8        -1.641590e+08       -1.553344e+08     -1.498340e+08     1.382258e+07  \n",
              "9        -4.135176e+08       -3.498790e+08     -3.781350e+08     3.654958e+07  \n",
              "10       -1.940591e+08       -1.694459e+08     -1.757515e+08     1.909988e+07  \n",
              "11       -1.588922e+08       -1.543987e+08     -1.466904e+08     1.241773e+07  \n",
              "12       -0.000000e+00       -0.000000e+00     -1.473947e+04     2.874120e+04  \n",
              "13       -0.000000e+00       -0.000000e+00     -3.224839e+03     4.600904e+03  \n",
              "14       -0.000000e+00       -0.000000e+00      0.000000e+00     0.000000e+00  \n",
              "15       -0.000000e+00       -0.000000e+00     -1.070664e+02     2.141328e+02  \n",
              "16       -1.521093e+04       -0.000000e+00     -2.422943e+04     3.828589e+04  \n",
              "17       -1.368984e+03       -1.770053e+03     -2.603182e+03     3.251951e+03  \n",
              "\n",
              "[18 rows x 23 columns]"
            ],
            "text/html": [
              "\n",
              "  <div id=\"df-62a471ce-2aa0-4338-a1ff-8d96bee7a475\">\n",
              "    <div class=\"colab-df-container\">\n",
              "      <div>\n",
              "<style scoped>\n",
              "    .dataframe tbody tr th:only-of-type {\n",
              "        vertical-align: middle;\n",
              "    }\n",
              "\n",
              "    .dataframe tbody tr th {\n",
              "        vertical-align: top;\n",
              "    }\n",
              "\n",
              "    .dataframe thead th {\n",
              "        text-align: right;\n",
              "    }\n",
              "</style>\n",
              "<table border=\"1\" class=\"dataframe\">\n",
              "  <thead>\n",
              "    <tr style=\"text-align: right;\">\n",
              "      <th></th>\n",
              "      <th>mean_fit_time</th>\n",
              "      <th>std_fit_time</th>\n",
              "      <th>mean_score_time</th>\n",
              "      <th>std_score_time</th>\n",
              "      <th>param_max_features</th>\n",
              "      <th>param_n_estimators</th>\n",
              "      <th>param_bootstrap</th>\n",
              "      <th>params</th>\n",
              "      <th>split0_test_score</th>\n",
              "      <th>split1_test_score</th>\n",
              "      <th>...</th>\n",
              "      <th>mean_test_score</th>\n",
              "      <th>std_test_score</th>\n",
              "      <th>rank_test_score</th>\n",
              "      <th>split0_train_score</th>\n",
              "      <th>split1_train_score</th>\n",
              "      <th>split2_train_score</th>\n",
              "      <th>split3_train_score</th>\n",
              "      <th>split4_train_score</th>\n",
              "      <th>mean_train_score</th>\n",
              "      <th>std_train_score</th>\n",
              "    </tr>\n",
              "  </thead>\n",
              "  <tbody>\n",
              "    <tr>\n",
              "      <th>0</th>\n",
              "      <td>0.010305</td>\n",
              "      <td>0.006582</td>\n",
              "      <td>0.001189</td>\n",
              "      <td>0.000082</td>\n",
              "      <td>2</td>\n",
              "      <td>3</td>\n",
              "      <td>NaN</td>\n",
              "      <td>{'max_features': 2, 'n_estimators': 3}</td>\n",
              "      <td>-2.117465e+09</td>\n",
              "      <td>-2.173943e+09</td>\n",
              "      <td>...</td>\n",
              "      <td>-1.943829e+09</td>\n",
              "      <td>5.185840e+08</td>\n",
              "      <td>18</td>\n",
              "      <td>-4.477157e+08</td>\n",
              "      <td>-5.013119e+08</td>\n",
              "      <td>-4.783959e+08</td>\n",
              "      <td>-4.229272e+08</td>\n",
              "      <td>-5.263155e+08</td>\n",
              "      <td>-4.753333e+08</td>\n",
              "      <td>3.685805e+07</td>\n",
              "    </tr>\n",
              "    <tr>\n",
              "      <th>1</th>\n",
              "      <td>0.020613</td>\n",
              "      <td>0.001312</td>\n",
              "      <td>0.002086</td>\n",
              "      <td>0.000014</td>\n",
              "      <td>2</td>\n",
              "      <td>10</td>\n",
              "      <td>NaN</td>\n",
              "      <td>{'max_features': 2, 'n_estimators': 10}</td>\n",
              "      <td>-1.379329e+09</td>\n",
              "      <td>-1.540894e+09</td>\n",
              "      <td>...</td>\n",
              "      <td>-1.366223e+09</td>\n",
              "      <td>4.415086e+08</td>\n",
              "      <td>11</td>\n",
              "      <td>-2.529075e+08</td>\n",
              "      <td>-2.320448e+08</td>\n",
              "      <td>-1.997266e+08</td>\n",
              "      <td>-2.208814e+08</td>\n",
              "      <td>-2.136294e+08</td>\n",
              "      <td>-2.238379e+08</td>\n",
              "      <td>1.792598e+07</td>\n",
              "    </tr>\n",
              "    <tr>\n",
              "      <th>2</th>\n",
              "      <td>0.062195</td>\n",
              "      <td>0.004710</td>\n",
              "      <td>0.004854</td>\n",
              "      <td>0.000618</td>\n",
              "      <td>2</td>\n",
              "      <td>30</td>\n",
              "      <td>NaN</td>\n",
              "      <td>{'max_features': 2, 'n_estimators': 30}</td>\n",
              "      <td>-1.259011e+09</td>\n",
              "      <td>-1.286908e+09</td>\n",
              "      <td>...</td>\n",
              "      <td>-1.173369e+09</td>\n",
              "      <td>3.715199e+08</td>\n",
              "      <td>6</td>\n",
              "      <td>-1.812668e+08</td>\n",
              "      <td>-1.805721e+08</td>\n",
              "      <td>-1.448995e+08</td>\n",
              "      <td>-1.723592e+08</td>\n",
              "      <td>-1.827651e+08</td>\n",
              "      <td>-1.723725e+08</td>\n",
              "      <td>1.420643e+07</td>\n",
              "    </tr>\n",
              "    <tr>\n",
              "      <th>3</th>\n",
              "      <td>0.008529</td>\n",
              "      <td>0.000212</td>\n",
              "      <td>0.001203</td>\n",
              "      <td>0.000035</td>\n",
              "      <td>4</td>\n",
              "      <td>3</td>\n",
              "      <td>NaN</td>\n",
              "      <td>{'max_features': 4, 'n_estimators': 3}</td>\n",
              "      <td>-1.632236e+09</td>\n",
              "      <td>-2.040303e+09</td>\n",
              "      <td>...</td>\n",
              "      <td>-1.643868e+09</td>\n",
              "      <td>3.018841e+08</td>\n",
              "      <td>16</td>\n",
              "      <td>-4.592149e+08</td>\n",
              "      <td>-3.783346e+08</td>\n",
              "      <td>-3.818018e+08</td>\n",
              "      <td>-4.433704e+08</td>\n",
              "      <td>-4.378787e+08</td>\n",
              "      <td>-4.201201e+08</td>\n",
              "      <td>3.346243e+07</td>\n",
              "    </tr>\n",
              "    <tr>\n",
              "      <th>4</th>\n",
              "      <td>0.024365</td>\n",
              "      <td>0.000200</td>\n",
              "      <td>0.002174</td>\n",
              "      <td>0.000028</td>\n",
              "      <td>4</td>\n",
              "      <td>10</td>\n",
              "      <td>NaN</td>\n",
              "      <td>{'max_features': 4, 'n_estimators': 10}</td>\n",
              "      <td>-1.519289e+09</td>\n",
              "      <td>-1.567477e+09</td>\n",
              "      <td>...</td>\n",
              "      <td>-1.255092e+09</td>\n",
              "      <td>3.829395e+08</td>\n",
              "      <td>9</td>\n",
              "      <td>-2.548290e+08</td>\n",
              "      <td>-1.888954e+08</td>\n",
              "      <td>-1.709963e+08</td>\n",
              "      <td>-2.156128e+08</td>\n",
              "      <td>-2.085720e+08</td>\n",
              "      <td>-2.077811e+08</td>\n",
              "      <td>2.823208e+07</td>\n",
              "    </tr>\n",
              "    <tr>\n",
              "      <th>5</th>\n",
              "      <td>0.071660</td>\n",
              "      <td>0.003018</td>\n",
              "      <td>0.004500</td>\n",
              "      <td>0.000084</td>\n",
              "      <td>4</td>\n",
              "      <td>30</td>\n",
              "      <td>NaN</td>\n",
              "      <td>{'max_features': 4, 'n_estimators': 30}</td>\n",
              "      <td>-1.032269e+09</td>\n",
              "      <td>-1.225225e+09</td>\n",
              "      <td>...</td>\n",
              "      <td>-1.042102e+09</td>\n",
              "      <td>3.463516e+08</td>\n",
              "      <td>3</td>\n",
              "      <td>-1.631821e+08</td>\n",
              "      <td>-1.456135e+08</td>\n",
              "      <td>-1.192144e+08</td>\n",
              "      <td>-1.727790e+08</td>\n",
              "      <td>-1.881370e+08</td>\n",
              "      <td>-1.577852e+08</td>\n",
              "      <td>2.371087e+07</td>\n",
              "    </tr>\n",
              "    <tr>\n",
              "      <th>6</th>\n",
              "      <td>0.009561</td>\n",
              "      <td>0.000164</td>\n",
              "      <td>0.001216</td>\n",
              "      <td>0.000046</td>\n",
              "      <td>6</td>\n",
              "      <td>3</td>\n",
              "      <td>NaN</td>\n",
              "      <td>{'max_features': 6, 'n_estimators': 3}</td>\n",
              "      <td>-2.000259e+09</td>\n",
              "      <td>-1.814869e+09</td>\n",
              "      <td>...</td>\n",
              "      <td>-1.607699e+09</td>\n",
              "      <td>4.075882e+08</td>\n",
              "      <td>14</td>\n",
              "      <td>-4.182693e+08</td>\n",
              "      <td>-3.510707e+08</td>\n",
              "      <td>-4.099515e+08</td>\n",
              "      <td>-4.075611e+08</td>\n",
              "      <td>-4.707636e+08</td>\n",
              "      <td>-4.115232e+08</td>\n",
              "      <td>3.802001e+07</td>\n",
              "    </tr>\n",
              "    <tr>\n",
              "      <th>7</th>\n",
              "      <td>0.028082</td>\n",
              "      <td>0.000432</td>\n",
              "      <td>0.002121</td>\n",
              "      <td>0.000031</td>\n",
              "      <td>6</td>\n",
              "      <td>10</td>\n",
              "      <td>NaN</td>\n",
              "      <td>{'max_features': 6, 'n_estimators': 10}</td>\n",
              "      <td>-1.396510e+09</td>\n",
              "      <td>-1.276144e+09</td>\n",
              "      <td>...</td>\n",
              "      <td>-1.150877e+09</td>\n",
              "      <td>3.033605e+08</td>\n",
              "      <td>5</td>\n",
              "      <td>-2.095212e+08</td>\n",
              "      <td>-2.085699e+08</td>\n",
              "      <td>-1.674423e+08</td>\n",
              "      <td>-2.065891e+08</td>\n",
              "      <td>-1.868750e+08</td>\n",
              "      <td>-1.957995e+08</td>\n",
              "      <td>1.644118e+07</td>\n",
              "    </tr>\n",
              "    <tr>\n",
              "      <th>8</th>\n",
              "      <td>0.082773</td>\n",
              "      <td>0.001500</td>\n",
              "      <td>0.004894</td>\n",
              "      <td>0.000775</td>\n",
              "      <td>6</td>\n",
              "      <td>30</td>\n",
              "      <td>NaN</td>\n",
              "      <td>{'max_features': 6, 'n_estimators': 30}</td>\n",
              "      <td>-1.042933e+09</td>\n",
              "      <td>-1.347918e+09</td>\n",
              "      <td>...</td>\n",
              "      <td>-1.037715e+09</td>\n",
              "      <td>3.392393e+08</td>\n",
              "      <td>1</td>\n",
              "      <td>-1.569215e+08</td>\n",
              "      <td>-1.487764e+08</td>\n",
              "      <td>-1.239785e+08</td>\n",
              "      <td>-1.641590e+08</td>\n",
              "      <td>-1.553344e+08</td>\n",
              "      <td>-1.498340e+08</td>\n",
              "      <td>1.382258e+07</td>\n",
              "    </tr>\n",
              "    <tr>\n",
              "      <th>9</th>\n",
              "      <td>0.011191</td>\n",
              "      <td>0.001421</td>\n",
              "      <td>0.001207</td>\n",
              "      <td>0.000055</td>\n",
              "      <td>8</td>\n",
              "      <td>3</td>\n",
              "      <td>NaN</td>\n",
              "      <td>{'max_features': 8, 'n_estimators': 3}</td>\n",
              "      <td>-1.103153e+09</td>\n",
              "      <td>-2.197239e+09</td>\n",
              "      <td>...</td>\n",
              "      <td>-1.594282e+09</td>\n",
              "      <td>6.185087e+08</td>\n",
              "      <td>13</td>\n",
              "      <td>-4.127458e+08</td>\n",
              "      <td>-3.214884e+08</td>\n",
              "      <td>-3.930441e+08</td>\n",
              "      <td>-4.135176e+08</td>\n",
              "      <td>-3.498790e+08</td>\n",
              "      <td>-3.781350e+08</td>\n",
              "      <td>3.654958e+07</td>\n",
              "    </tr>\n",
              "    <tr>\n",
              "      <th>10</th>\n",
              "      <td>0.031176</td>\n",
              "      <td>0.000595</td>\n",
              "      <td>0.002099</td>\n",
              "      <td>0.000024</td>\n",
              "      <td>8</td>\n",
              "      <td>10</td>\n",
              "      <td>NaN</td>\n",
              "      <td>{'max_features': 8, 'n_estimators': 10}</td>\n",
              "      <td>-8.185131e+08</td>\n",
              "      <td>-1.747399e+09</td>\n",
              "      <td>...</td>\n",
              "      <td>-1.199837e+09</td>\n",
              "      <td>5.072042e+08</td>\n",
              "      <td>7</td>\n",
              "      <td>-1.990953e+08</td>\n",
              "      <td>-1.699004e+08</td>\n",
              "      <td>-1.462570e+08</td>\n",
              "      <td>-1.940591e+08</td>\n",
              "      <td>-1.694459e+08</td>\n",
              "      <td>-1.757515e+08</td>\n",
              "      <td>1.909988e+07</td>\n",
              "    </tr>\n",
              "    <tr>\n",
              "      <th>11</th>\n",
              "      <td>0.097732</td>\n",
              "      <td>0.006406</td>\n",
              "      <td>0.004686</td>\n",
              "      <td>0.000184</td>\n",
              "      <td>8</td>\n",
              "      <td>30</td>\n",
              "      <td>NaN</td>\n",
              "      <td>{'max_features': 8, 'n_estimators': 30}</td>\n",
              "      <td>-8.263297e+08</td>\n",
              "      <td>-1.386774e+09</td>\n",
              "      <td>...</td>\n",
              "      <td>-1.040537e+09</td>\n",
              "      <td>4.173313e+08</td>\n",
              "      <td>2</td>\n",
              "      <td>-1.531104e+08</td>\n",
              "      <td>-1.428758e+08</td>\n",
              "      <td>-1.241752e+08</td>\n",
              "      <td>-1.588922e+08</td>\n",
              "      <td>-1.543987e+08</td>\n",
              "      <td>-1.466904e+08</td>\n",
              "      <td>1.241773e+07</td>\n",
              "    </tr>\n",
              "    <tr>\n",
              "      <th>12</th>\n",
              "      <td>0.007781</td>\n",
              "      <td>0.000203</td>\n",
              "      <td>0.001205</td>\n",
              "      <td>0.000057</td>\n",
              "      <td>2</td>\n",
              "      <td>3</td>\n",
              "      <td>False</td>\n",
              "      <td>{'bootstrap': False, 'max_features': 2, 'n_est...</td>\n",
              "      <td>-2.230555e+09</td>\n",
              "      <td>-1.661150e+09</td>\n",
              "      <td>...</td>\n",
              "      <td>-1.616028e+09</td>\n",
              "      <td>4.719493e+08</td>\n",
              "      <td>15</td>\n",
              "      <td>-0.000000e+00</td>\n",
              "      <td>-1.487033e+03</td>\n",
              "      <td>-7.221033e+04</td>\n",
              "      <td>-0.000000e+00</td>\n",
              "      <td>-0.000000e+00</td>\n",
              "      <td>-1.473947e+04</td>\n",
              "      <td>2.874120e+04</td>\n",
              "    </tr>\n",
              "    <tr>\n",
              "      <th>13</th>\n",
              "      <td>0.022655</td>\n",
              "      <td>0.001896</td>\n",
              "      <td>0.002360</td>\n",
              "      <td>0.000082</td>\n",
              "      <td>2</td>\n",
              "      <td>10</td>\n",
              "      <td>False</td>\n",
              "      <td>{'bootstrap': False, 'max_features': 2, 'n_est...</td>\n",
              "      <td>-1.525466e+09</td>\n",
              "      <td>-1.419401e+09</td>\n",
              "      <td>...</td>\n",
              "      <td>-1.263965e+09</td>\n",
              "      <td>3.314209e+08</td>\n",
              "      <td>10</td>\n",
              "      <td>-0.000000e+00</td>\n",
              "      <td>-4.330835e+03</td>\n",
              "      <td>-1.179336e+04</td>\n",
              "      <td>-0.000000e+00</td>\n",
              "      <td>-0.000000e+00</td>\n",
              "      <td>-3.224839e+03</td>\n",
              "      <td>4.600904e+03</td>\n",
              "    </tr>\n",
              "    <tr>\n",
              "      <th>14</th>\n",
              "      <td>0.009399</td>\n",
              "      <td>0.001839</td>\n",
              "      <td>0.001224</td>\n",
              "      <td>0.000054</td>\n",
              "      <td>3</td>\n",
              "      <td>3</td>\n",
              "      <td>False</td>\n",
              "      <td>{'bootstrap': False, 'max_features': 3, 'n_est...</td>\n",
              "      <td>-1.785714e+09</td>\n",
              "      <td>-1.594630e+09</td>\n",
              "      <td>...</td>\n",
              "      <td>-1.525213e+09</td>\n",
              "      <td>3.972894e+08</td>\n",
              "      <td>12</td>\n",
              "      <td>-0.000000e+00</td>\n",
              "      <td>-0.000000e+00</td>\n",
              "      <td>-0.000000e+00</td>\n",
              "      <td>-0.000000e+00</td>\n",
              "      <td>-0.000000e+00</td>\n",
              "      <td>0.000000e+00</td>\n",
              "      <td>0.000000e+00</td>\n",
              "    </tr>\n",
              "    <tr>\n",
              "      <th>15</th>\n",
              "      <td>0.024440</td>\n",
              "      <td>0.000210</td>\n",
              "      <td>0.002342</td>\n",
              "      <td>0.000101</td>\n",
              "      <td>3</td>\n",
              "      <td>10</td>\n",
              "      <td>False</td>\n",
              "      <td>{'bootstrap': False, 'max_features': 3, 'n_est...</td>\n",
              "      <td>-1.293012e+09</td>\n",
              "      <td>-1.360984e+09</td>\n",
              "      <td>...</td>\n",
              "      <td>-1.215353e+09</td>\n",
              "      <td>3.952642e+08</td>\n",
              "      <td>8</td>\n",
              "      <td>-5.353319e+02</td>\n",
              "      <td>-0.000000e+00</td>\n",
              "      <td>-0.000000e+00</td>\n",
              "      <td>-0.000000e+00</td>\n",
              "      <td>-0.000000e+00</td>\n",
              "      <td>-1.070664e+02</td>\n",
              "      <td>2.141328e+02</td>\n",
              "    </tr>\n",
              "    <tr>\n",
              "      <th>16</th>\n",
              "      <td>0.009439</td>\n",
              "      <td>0.000150</td>\n",
              "      <td>0.001233</td>\n",
              "      <td>0.000026</td>\n",
              "      <td>4</td>\n",
              "      <td>3</td>\n",
              "      <td>False</td>\n",
              "      <td>{'bootstrap': False, 'max_features': 4, 'n_est...</td>\n",
              "      <td>-1.698510e+09</td>\n",
              "      <td>-1.873967e+09</td>\n",
              "      <td>...</td>\n",
              "      <td>-1.789717e+09</td>\n",
              "      <td>4.511181e+08</td>\n",
              "      <td>17</td>\n",
              "      <td>-0.000000e+00</td>\n",
              "      <td>-5.948132e+03</td>\n",
              "      <td>-9.998810e+04</td>\n",
              "      <td>-1.521093e+04</td>\n",
              "      <td>-0.000000e+00</td>\n",
              "      <td>-2.422943e+04</td>\n",
              "      <td>3.828589e+04</td>\n",
              "    </tr>\n",
              "    <tr>\n",
              "      <th>17</th>\n",
              "      <td>0.027568</td>\n",
              "      <td>0.000222</td>\n",
              "      <td>0.002328</td>\n",
              "      <td>0.000020</td>\n",
              "      <td>4</td>\n",
              "      <td>10</td>\n",
              "      <td>False</td>\n",
              "      <td>{'bootstrap': False, 'max_features': 4, 'n_est...</td>\n",
              "      <td>-1.041880e+09</td>\n",
              "      <td>-1.523880e+09</td>\n",
              "      <td>...</td>\n",
              "      <td>-1.126343e+09</td>\n",
              "      <td>3.807046e+08</td>\n",
              "      <td>4</td>\n",
              "      <td>-0.000000e+00</td>\n",
              "      <td>-8.779443e+02</td>\n",
              "      <td>-8.998929e+03</td>\n",
              "      <td>-1.368984e+03</td>\n",
              "      <td>-1.770053e+03</td>\n",
              "      <td>-2.603182e+03</td>\n",
              "      <td>3.251951e+03</td>\n",
              "    </tr>\n",
              "  </tbody>\n",
              "</table>\n",
              "<p>18 rows × 23 columns</p>\n",
              "</div>\n",
              "      <button class=\"colab-df-convert\" onclick=\"convertToInteractive('df-62a471ce-2aa0-4338-a1ff-8d96bee7a475')\"\n",
              "              title=\"Convert this dataframe to an interactive table.\"\n",
              "              style=\"display:none;\">\n",
              "        \n",
              "  <svg xmlns=\"http://www.w3.org/2000/svg\" height=\"24px\"viewBox=\"0 0 24 24\"\n",
              "       width=\"24px\">\n",
              "    <path d=\"M0 0h24v24H0V0z\" fill=\"none\"/>\n",
              "    <path d=\"M18.56 5.44l.94 2.06.94-2.06 2.06-.94-2.06-.94-.94-2.06-.94 2.06-2.06.94zm-11 1L8.5 8.5l.94-2.06 2.06-.94-2.06-.94L8.5 2.5l-.94 2.06-2.06.94zm10 10l.94 2.06.94-2.06 2.06-.94-2.06-.94-.94-2.06-.94 2.06-2.06.94z\"/><path d=\"M17.41 7.96l-1.37-1.37c-.4-.4-.92-.59-1.43-.59-.52 0-1.04.2-1.43.59L10.3 9.45l-7.72 7.72c-.78.78-.78 2.05 0 2.83L4 21.41c.39.39.9.59 1.41.59.51 0 1.02-.2 1.41-.59l7.78-7.78 2.81-2.81c.8-.78.8-2.07 0-2.86zM5.41 20L4 18.59l7.72-7.72 1.47 1.35L5.41 20z\"/>\n",
              "  </svg>\n",
              "      </button>\n",
              "      \n",
              "  <style>\n",
              "    .colab-df-container {\n",
              "      display:flex;\n",
              "      flex-wrap:wrap;\n",
              "      gap: 12px;\n",
              "    }\n",
              "\n",
              "    .colab-df-convert {\n",
              "      background-color: #E8F0FE;\n",
              "      border: none;\n",
              "      border-radius: 50%;\n",
              "      cursor: pointer;\n",
              "      display: none;\n",
              "      fill: #1967D2;\n",
              "      height: 32px;\n",
              "      padding: 0 0 0 0;\n",
              "      width: 32px;\n",
              "    }\n",
              "\n",
              "    .colab-df-convert:hover {\n",
              "      background-color: #E2EBFA;\n",
              "      box-shadow: 0px 1px 2px rgba(60, 64, 67, 0.3), 0px 1px 3px 1px rgba(60, 64, 67, 0.15);\n",
              "      fill: #174EA6;\n",
              "    }\n",
              "\n",
              "    [theme=dark] .colab-df-convert {\n",
              "      background-color: #3B4455;\n",
              "      fill: #D2E3FC;\n",
              "    }\n",
              "\n",
              "    [theme=dark] .colab-df-convert:hover {\n",
              "      background-color: #434B5C;\n",
              "      box-shadow: 0px 1px 3px 1px rgba(0, 0, 0, 0.15);\n",
              "      filter: drop-shadow(0px 1px 2px rgba(0, 0, 0, 0.3));\n",
              "      fill: #FFFFFF;\n",
              "    }\n",
              "  </style>\n",
              "\n",
              "      <script>\n",
              "        const buttonEl =\n",
              "          document.querySelector('#df-62a471ce-2aa0-4338-a1ff-8d96bee7a475 button.colab-df-convert');\n",
              "        buttonEl.style.display =\n",
              "          google.colab.kernel.accessAllowed ? 'block' : 'none';\n",
              "\n",
              "        async function convertToInteractive(key) {\n",
              "          const element = document.querySelector('#df-62a471ce-2aa0-4338-a1ff-8d96bee7a475');\n",
              "          const dataTable =\n",
              "            await google.colab.kernel.invokeFunction('convertToInteractive',\n",
              "                                                     [key], {});\n",
              "          if (!dataTable) return;\n",
              "\n",
              "          const docLinkHtml = 'Like what you see? Visit the ' +\n",
              "            '<a target=\"_blank\" href=https://colab.research.google.com/notebooks/data_table.ipynb>data table notebook</a>'\n",
              "            + ' to learn more about interactive tables.';\n",
              "          element.innerHTML = '';\n",
              "          dataTable['output_type'] = 'display_data';\n",
              "          await google.colab.output.renderOutput(dataTable, element);\n",
              "          const docLink = document.createElement('div');\n",
              "          docLink.innerHTML = docLinkHtml;\n",
              "          element.appendChild(docLink);\n",
              "        }\n",
              "      </script>\n",
              "    </div>\n",
              "  </div>\n",
              "  "
            ]
          },
          "metadata": {},
          "execution_count": 59
        }
      ],
      "source": [
        "# let's view the results in table format\n",
        "pd.DataFrame(grid_search.cv_results_)"
      ]
    },
    {
      "cell_type": "code",
      "execution_count": null,
      "metadata": {
        "colab": {
          "base_uri": "https://localhost:8080/"
        },
        "id": "xmXB7iTPdIuu",
        "outputId": "cc990b29-10fb-45ec-fbfc-5ba8a1f44975"
      },
      "outputs": [
        {
          "output_type": "execute_result",
          "data": {
            "text/plain": [
              "RandomizedSearchCV(cv=5, estimator=RandomForestRegressor(random_state=42),\n",
              "                   param_distributions={'max_features': <scipy.stats._distn_infrastructure.rv_frozen object at 0x7ff4aa29c7d0>,\n",
              "                                        'n_estimators': <scipy.stats._distn_infrastructure.rv_frozen object at 0x7ff4aa29ca10>},\n",
              "                   random_state=42, scoring='neg_mean_squared_error')"
            ]
          },
          "metadata": {},
          "execution_count": 68
        }
      ],
      "source": [
        "# GridSearchCV is alright and all but \n",
        "# let's use RandomizedSearchCV because we have a large hyperparameter space\n",
        "# times that hyperparameters have been changed: 4 \n",
        "from sklearn.model_selection import RandomizedSearchCV\n",
        "from scipy.stats import randint\n",
        "\n",
        "# past attempts:\n",
        "'''param_distribs = {\n",
        "        'n_estimators': randint(low=1, high=200),\n",
        "        'max_features': randint(low=1, high=8),\n",
        "}\n",
        "\n",
        "param_distribs = {\n",
        "        'n_estimators': randint(low=200, high=400),\n",
        "        'max_features': randint(low=1, high=8),\n",
        "}\n",
        "\n",
        "param_distribs = {\n",
        "        'n_estimators': randint(low=500, high=1000),\n",
        "        'max_features': randint(low=8, high=12),\n",
        "}'''\n",
        "\n",
        "# working attempt:\n",
        "param_distribs = {\n",
        "        'n_estimators': randint(low=1000, high=5000),\n",
        "        'max_features': randint(low=10, high=15),\n",
        "}\n",
        "\n",
        "forest_reg = RandomForestRegressor(random_state=42)\n",
        "rand_search = RandomizedSearchCV(forest_reg, param_distributions=param_distribs,\n",
        "                                 n_iter=10, cv=5, scoring='neg_mean_squared_error', \n",
        "                                 random_state=42)\n",
        "rand_search.fit(housing_prepared, housing_labels)\n",
        "\n"
      ]
    },
    {
      "cell_type": "code",
      "execution_count": null,
      "metadata": {
        "colab": {
          "base_uri": "https://localhost:8080/"
        },
        "id": "Mh_lTzIfbHOe",
        "outputId": "7788c01b-d2fb-4a49-d70c-7bc4c96f2098"
      },
      "outputs": [
        {
          "output_type": "stream",
          "name": "stdout",
          "text": [
            "30688.928491607305 {'max_features': 13, 'n_estimators': 1860}\n",
            "30738.396147775304 {'max_features': 12, 'n_estimators': 6191}\n",
            "30667.13060010064 {'max_features': 14, 'n_estimators': 6734}\n",
            "30777.409937118773 {'max_features': 11, 'n_estimators': 1466}\n",
            "30731.533297888116 {'max_features': 12, 'n_estimators': 6578}\n",
            "30668.270979255896 {'max_features': 14, 'n_estimators': 9322}\n",
            "30619.597737864176 {'max_features': 14, 'n_estimators': 1769}\n",
            "30749.690573415715 {'max_features': 13, 'n_estimators': 7949}\n",
            "30838.317276414957 {'max_features': 11, 'n_estimators': 6311}\n",
            "30747.94748213139 {'max_features': 13, 'n_estimators': 7420}\n"
          ]
        }
      ],
      "source": [
        "cvres = rand_search.cv_results_\n",
        "for mean_score, params in zip(cvres[\"mean_test_score\"], cvres[\"params\"]):\n",
        "  print(np.sqrt(-mean_score), params)"
      ]
    },
    {
      "cell_type": "code",
      "execution_count": null,
      "metadata": {
        "colab": {
          "base_uri": "https://localhost:8080/"
        },
        "id": "MWTRf-rqbmas",
        "outputId": "2d8da0cf-85f7-4bdc-e852-d678af52632e"
      },
      "outputs": [
        {
          "output_type": "execute_result",
          "data": {
            "text/plain": [
              "array([1.02002167e-02, 8.05428101e-03, 1.41785920e-02, 2.71962487e-02,\n",
              "       1.29699231e-01, 4.56844945e-03, 7.05091696e-02, 2.16871226e-02,\n",
              "       1.15516637e-02, 5.22537551e-02, 1.20594030e-03, 1.20713000e-02,\n",
              "       8.02091473e-02, 5.41153143e-02, 2.51646551e-02, 1.22016449e-03,\n",
              "       1.20198757e-01, 4.67343901e-03, 3.51711741e-04, 2.65791966e-02,\n",
              "       7.37437212e-03, 7.06099990e-03, 3.97414647e-03, 2.55835060e-02,\n",
              "       3.71920501e-02, 2.63880556e-02, 7.99247641e-02, 4.77563701e-02,\n",
              "       1.02619995e-02, 1.76900931e-02, 4.53498485e-03, 3.68401362e-04,\n",
              "       5.45484534e-03, 9.97983437e-03, 7.38417222e-04, 6.86388952e-03,\n",
              "       4.73598545e-03, 9.12145091e-04, 6.33261580e-05, 5.72973654e-03,\n",
              "       1.99552788e-06, 9.55258555e-05, 1.03987307e-02, 6.62361285e-05,\n",
              "       4.28081476e-04, 2.55898050e-03, 6.09410645e-06, 2.90877644e-04,\n",
              "       2.97349248e-04, 2.81547606e-03, 4.76437397e-03])"
            ]
          },
          "metadata": {},
          "execution_count": 62
        }
      ],
      "source": [
        "# RandomForestRegressor is good at highlighting the important of each attribute\n",
        "feature_importances = grid_search.best_estimator_.feature_importances_\n",
        "feature_importances"
      ]
    },
    {
      "cell_type": "code",
      "execution_count": null,
      "metadata": {
        "colab": {
          "base_uri": "https://localhost:8080/"
        },
        "id": "MKB32Wizb04f",
        "outputId": "b503f4c5-de13-4504-8079-66ad362a42d8"
      },
      "outputs": [
        {
          "output_type": "execute_result",
          "data": {
            "text/plain": [
              "[(0.12969923129509786, 'OverallQual'),\n",
              " (0.12019875693016398, 'GrLivArea'),\n",
              " (0.0802091472643405, 'TotalBsmtSF'),\n",
              " (0.07992476406536983, 'GarageCars'),\n",
              " (0.07050916961742511, 'YearBuilt'),\n",
              " (0.05411531425953534, '1stFlrSF'),\n",
              " (0.052253755071683276, 'BsmtFinSF1'),\n",
              " (0.04775637008125971, 'GarageArea'),\n",
              " (0.03719205012431826, 'Fireplaces'),\n",
              " (0.0271962486688633, 'LotArea'),\n",
              " (0.026579196602487844, 'FullBath'),\n",
              " (0.026388055637272416, 'GarageYrBlt'),\n",
              " (0.02558350604652981, 'TotRmsAbvGrd'),\n",
              " (0.025164655122843924, '2ndFlrSF'),\n",
              " (0.02168712260481471, 'YearRemodAdd'),\n",
              " (0.017690093090847642, 'OpenPorchSF'),\n",
              " (0.014178592020940652, 'LotFrontage'),\n",
              " (0.01207129998550654, 'BsmtUnfSF'),\n",
              " (0.011551663652680705, 'MasVnrArea'),\n",
              " (0.010398730674886962, '2Story'),\n",
              " (0.010261999522040577, 'WoodDeckSF'),\n",
              " (0.010200216748277372, 'Id'),\n",
              " (0.009979834368528007, 'PoolArea'),\n",
              " (0.008054281012240611, 'MSSubClass'),\n",
              " (0.007374372119416126, 'HalfBath'),\n",
              " (0.007060999901304482, 'BedroomAbvGr'),\n",
              " (0.0068638895215162, 'MoSold'),\n",
              " (0.005729736539609412, '1Story'),\n",
              " (0.005454845339335323, 'ScreenPorch'),\n",
              " (0.00473598545264972, 'YrSold'),\n",
              " (0.004673439007874647, 'BsmtFullBath'),\n",
              " (0.0045684494507682635, 'OverallCond'),\n",
              " (0.004534984851287417, 'EnclosedPorch'),\n",
              " (0.003974146471113782, 'KitchenAbvGr'),\n",
              " (0.0012201644878212015, 'LowQualFinSF'),\n",
              " (0.0012059403010699086, 'BsmtFinSF2'),\n",
              " (0.0009121450906110958, '1.5Fin'),\n",
              " (0.0007384172224597579, 'MiscVal'),\n",
              " (0.00042808147581848614, 'SLvl'),\n",
              " (0.0003684013615099078, '3SsnPorch'),\n",
              " (0.0003517117410389074, 'BsmtHalfBath'),\n",
              " (9.55258554716538e-05, '2.5Unf'),\n",
              " (6.62361285343561e-05, 'SFoyer'),\n",
              " (6.332615801208423e-05, '1.5Unf'),\n",
              " (1.995527884100132e-06, '2.5Fin')]"
            ]
          },
          "metadata": {},
          "execution_count": 63
        }
      ],
      "source": [
        "# we're going to print the scores next to the corresponding attributes\n",
        "cat_encoder = full_pipeline.named_transformers_[\"categorical\"]\n",
        "cat_one_hot_attributes = list(cat_encoder.categories_[0])\n",
        "attributes = numerical_attributes + cat_one_hot_attributes\n",
        "sorted(zip(feature_importances, attributes), reverse=True)"
      ]
    },
    {
      "cell_type": "code",
      "execution_count": null,
      "metadata": {
        "colab": {
          "base_uri": "https://localhost:8080/",
          "height": 52
        },
        "id": "QE5NdEKbsOD4",
        "outputId": "d9a2b1f9-dbf4-4c1a-e886-0e06cce225d5"
      },
      "outputs": [
        {
          "output_type": "execute_result",
          "data": {
            "text/plain": [
              "\"\\nparam_distribs = {\\n        'solver': ['sgd', 'adam'],\\n        'learning_rate': ['constant', 'adaptive'],\\n      }\\n\\nmlp_reg = MLPRegressor(max_iter=1000000)\\nrand_search = RandomizedSearchCV(mlp_reg, param_distributions=param_distribs,\\n                                 n_iter=5, cv=5)\\nrand_search.fit(housing_prepared, housing_labels)\\n\""
            ],
            "application/vnd.google.colaboratory.intrinsic+json": {
              "type": "string"
            }
          },
          "metadata": {},
          "execution_count": 64
        }
      ],
      "source": [
        "# let's use RandomizedSearchCV on the neural network results\n",
        "# JK it is an eternally long process so for your sake pls skip :)\n",
        "'''\n",
        "param_distribs = {\n",
        "        'solver': ['sgd', 'adam'],\n",
        "        'learning_rate': ['constant', 'adaptive'],\n",
        "      }\n",
        "\n",
        "mlp_reg = MLPRegressor(max_iter=1000000)\n",
        "rand_search = RandomizedSearchCV(mlp_reg, param_distributions=param_distribs,\n",
        "                                 n_iter=5, cv=5)\n",
        "rand_search.fit(housing_prepared, housing_labels)\n",
        "'''"
      ]
    },
    {
      "cell_type": "code",
      "execution_count": null,
      "metadata": {
        "colab": {
          "base_uri": "https://localhost:8080/"
        },
        "id": "KPw8lmY5leUi",
        "outputId": "5e60aad3-ec45-43fd-9860-a19a8e0d74a4"
      },
      "outputs": [
        {
          "output_type": "stream",
          "name": "stdout",
          "text": [
            "final rmse score 29018.463788725217\n"
          ]
        }
      ],
      "source": [
        "# let's examine the final model! finally!\n",
        "final_model = rand_search.best_estimator_\n",
        "\n",
        "X_test = test_set.drop(\"SalePrice\", axis=1)\n",
        "y_test = test_set[\"SalePrice\"].copy()\n",
        "\n",
        "X_test_prep = full_pipeline.transform(X_test)\n",
        "final_predictions = final_model.predict(X_test_prep)\n",
        "\n",
        "final_mse = mean_squared_error(y_test, final_predictions)\n",
        "final_rmse = np.sqrt(final_mse)\n",
        "print(\"final rmse score\", final_rmse)"
      ]
    },
    {
      "cell_type": "code",
      "execution_count": null,
      "metadata": {
        "colab": {
          "base_uri": "https://localhost:8080/"
        },
        "id": "NXc8MRfinwGb",
        "outputId": "d73cde5d-9d5a-493d-d493-15cd17bda1c3"
      },
      "outputs": [
        {
          "output_type": "execute_result",
          "data": {
            "text/plain": [
              "17226.587722728575"
            ]
          },
          "metadata": {},
          "execution_count": 66
        }
      ],
      "source": [
        "from sklearn.metrics import mean_absolute_error\n",
        "\n",
        "lin_mae = mean_absolute_error(y_test, final_predictions)\n",
        "lin_mae"
      ]
    },
    {
      "cell_type": "code",
      "execution_count": null,
      "metadata": {
        "colab": {
          "base_uri": "https://localhost:8080/"
        },
        "id": "ncd0lBn2oMkp",
        "outputId": "34680831-813b-410e-cea2-0e599ec9618c"
      },
      "outputs": [
        {
          "output_type": "stream",
          "name": "stdout",
          "text": [
            "SalePrice 95% Confidence falls between: \n"
          ]
        },
        {
          "output_type": "execute_result",
          "data": {
            "text/plain": [
              "array([21105.0419519 , 35195.44978436])"
            ]
          },
          "metadata": {},
          "execution_count": 67
        }
      ],
      "source": [
        "from sklearn.utils.extmath import squared_norm\n",
        "# let's compute a 95% confidence interval for the test rmse\n",
        "from scipy import stats\n",
        "\n",
        "print(\"SalePrice 95% Confidence falls between: \")\n",
        "confidence = 0.95\n",
        "squared_errors = (final_predictions - y_test) ** 2\n",
        "np.sqrt(stats.t.interval(confidence, len(squared_errors) - 1,\n",
        "                          loc=squared_errors.mean(),\n",
        "                          scale=stats.sem(squared_errors)))"
      ]
    },
    {
      "cell_type": "markdown",
      "metadata": {
        "id": "K3YvBnpUeSEH"
      },
      "source": [
        "## Step 7: Solution Presentation"
      ]
    },
    {
      "cell_type": "markdown",
      "metadata": {
        "id": "BwsxMKNmpJr_"
      },
      "source": [
        "Good afternoon Mx. Supervisor, <br><br>\n",
        "I hope this email finds you well and in good health! I finalized the housing prediction model for our Ames, Iowa operations. This prediction model successfuly predicts the sale price of any house in Ames, Iowa with a 95% confidence interval between 21,105 and 35,195 USD of the RMSE and a final RMSE error of 29,018 USD. Given the average house sale price is in the 100,000s, I feel as if this model will support the company's prediction attempts in Ames, Iowa. <br><br>\n",
        "This model development highlighted the complexity of predicting housing prices, specifically with the amount of features that could affect housing costs. <br><br>\n",
        "To improve this model, future attempts should utilize more advanced learning methods like a neural network to reduce the error of the prediction model. <br><br> \n",
        "Please let me know if you have any questions, comments, or concerns! <br><br>\n",
        "Kind regards, <br> Caroline Davis\n"
      ]
    }
  ],
  "metadata": {
    "colab": {
      "collapsed_sections": [
        "A3N7qDVRXuNa",
        "j5cT4JBSYOS6",
        "Hr8UHps5Z0cF",
        "K3YvBnpUeSEH",
        "HrRRoBcWeVju"
      ],
      "provenance": []
    },
    "kernelspec": {
      "display_name": "Python 3",
      "name": "python3"
    },
    "language_info": {
      "name": "python"
    }
  },
  "nbformat": 4,
  "nbformat_minor": 0
}