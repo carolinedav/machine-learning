{
  "nbformat": 4,
  "nbformat_minor": 0,
  "metadata": {
    "kernelspec": {
      "display_name": "Python 3",
      "language": "python",
      "name": "python3"
    },
    "language_info": {
      "codemirror_mode": {
        "name": "ipython",
        "version": 3
      },
      "file_extension": ".py",
      "mimetype": "text/x-python",
      "name": "python",
      "nbconvert_exporter": "python",
      "pygments_lexer": "ipython3",
      "version": "3.7.0"
    },
    "colab": {
      "provenance": [],
      "collapsed_sections": []
    }
  },
  "cells": [
    {
      "cell_type": "markdown",
      "metadata": {
        "id": "s-RzEZEBR10z"
      },
      "source": [
        "# Comparison of Regression Models on Predicting Medical Costs"
      ]
    },
    {
      "cell_type": "markdown",
      "metadata": {
        "id": "0qYDyMDTR100"
      },
      "source": [
        "### CS 4774 Machine Learning - Department of Computer Science - University of Virginia\n",
        "![Medical Cost](https://creditkarma-cms.imgix.net/wp-content/uploads/2018/04/boomers-gen-x-high-cost-medical-care.jpg)\n",
        "In this assignment, you will implement some learning models in the context of a **regression** problem in the [Medical Cost Personal Dataset on Kaggle](https://www.kaggle.com/mirichoi0218/insurance). Specifically, you will attempt to predict the medical cost billed by health insurance using other provided patient's data. For references, you may refer to [my slides](https://docs.google.com/presentation/d/10D1he89peAWaFgjtZlHpUzvOOAie_vIFT95htKCKgc0/edit#slide=id.p) or the Google Colab if you need additional sample codes to help with your assignment. To get started, you will need to upload/copy the dataset (.csv) into the same folder as this file. \n",
        "\n",
        "For deliverables, you must write code in Colab and submit the downloaded Jupyter Notebook file (.ipynb) to earn a total of 100 pts. You will gain points depending on how you perform in the following sections.\n"
      ]
    },
    {
      "cell_type": "markdown",
      "metadata": {
        "id": "l0lLa-xiR101"
      },
      "source": [
        "***\n",
        "##  Task 1: SEE THE BIG PICTURE\n",
        "Write a paragraph explaining the context of the problem in which you are trying to investigate. We will assume that the data file is put into the same workspace on Colab. Then, you can write some code to load the CSV file and take a quick look at the dataset, and output the following:\n",
        "\n",
        " * How big is your dataset? (in terms of MB)\n",
        " * How many entries does it have?\n",
        " * How many features does it have?\n",
        " * Does it contain any categorical data?\n",
        " * Is there any missing value?\n",
        " * What are some basic statistics you can learn right away about this dataset?"
      ]
    },
    {
      "cell_type": "markdown",
      "source": [
        "### Context of Assigment 1: <br>\n",
        "In this assignment, we are predicting the medical cost billed to a patient by regression modeling. Specifically, we are implementing gradient descent modeling and the normal equation to predict the medical cost. In this dataset, multiple features are considered the inputs, including age, bmi, and smoking habits, while the charges billed by health insurance are the outputs we are predicting. In theory, certain traits of a patient cause differing medical expenses. For example, someone who smokes may incure higher medical costs than someone who does not smoke due to the higher risk of pulmonary disease and cancer due to smoking."
      ],
      "metadata": {
        "id": "0pNfUmN81IUC"
      }
    },
    {
      "cell_type": "code",
      "metadata": {
        "id": "ujitZUYeR101",
        "colab": {
          "base_uri": "https://localhost:8080/",
          "height": 363
        },
        "outputId": "9743a9e4-f9f9-4ed7-eadc-46b285bb5e75"
      },
      "source": [
        "# import some common packages\n",
        "import os\n",
        "import numpy as np\n",
        "import matplotlib\n",
        "import matplotlib.pyplot as plt\n",
        "import pandas as pd\n",
        "\n",
        "# to make this notebook's output stable across runs\n",
        "np.random.seed(42)\n",
        "\n",
        "# load the insurance data from disk\n",
        "def loadData(insurance_file):\n",
        "  insurance = pd.read_csv(insurance_file)\n",
        "  return insurance\n",
        "\n",
        "# call the function to load dataset\n",
        "insurance = loadData(\"insurance.csv\")\n",
        "# display the first ten rows of the data to check DataFrame structure\n",
        "insurance.head(10)"
      ],
      "execution_count": null,
      "outputs": [
        {
          "output_type": "execute_result",
          "data": {
            "text/plain": [
              "   age     sex     bmi  children smoker     region      charges\n",
              "0   19  female  27.900         0    yes  southwest  16884.92400\n",
              "1   18    male  33.770         1     no  southeast   1725.55230\n",
              "2   28    male  33.000         3     no  southeast   4449.46200\n",
              "3   33    male  22.705         0     no  northwest  21984.47061\n",
              "4   32    male  28.880         0     no  northwest   3866.85520\n",
              "5   31  female  25.740         0     no  southeast   3756.62160\n",
              "6   46  female  33.440         1     no  southeast   8240.58960\n",
              "7   37  female  27.740         3     no  northwest   7281.50560\n",
              "8   37    male  29.830         2     no  northeast   6406.41070\n",
              "9   60  female  25.840         0     no  northwest  28923.13692"
            ],
            "text/html": [
              "\n",
              "  <div id=\"df-32ef8c44-f5cd-4ee8-a6b2-84b82d803565\">\n",
              "    <div class=\"colab-df-container\">\n",
              "      <div>\n",
              "<style scoped>\n",
              "    .dataframe tbody tr th:only-of-type {\n",
              "        vertical-align: middle;\n",
              "    }\n",
              "\n",
              "    .dataframe tbody tr th {\n",
              "        vertical-align: top;\n",
              "    }\n",
              "\n",
              "    .dataframe thead th {\n",
              "        text-align: right;\n",
              "    }\n",
              "</style>\n",
              "<table border=\"1\" class=\"dataframe\">\n",
              "  <thead>\n",
              "    <tr style=\"text-align: right;\">\n",
              "      <th></th>\n",
              "      <th>age</th>\n",
              "      <th>sex</th>\n",
              "      <th>bmi</th>\n",
              "      <th>children</th>\n",
              "      <th>smoker</th>\n",
              "      <th>region</th>\n",
              "      <th>charges</th>\n",
              "    </tr>\n",
              "  </thead>\n",
              "  <tbody>\n",
              "    <tr>\n",
              "      <th>0</th>\n",
              "      <td>19</td>\n",
              "      <td>female</td>\n",
              "      <td>27.900</td>\n",
              "      <td>0</td>\n",
              "      <td>yes</td>\n",
              "      <td>southwest</td>\n",
              "      <td>16884.92400</td>\n",
              "    </tr>\n",
              "    <tr>\n",
              "      <th>1</th>\n",
              "      <td>18</td>\n",
              "      <td>male</td>\n",
              "      <td>33.770</td>\n",
              "      <td>1</td>\n",
              "      <td>no</td>\n",
              "      <td>southeast</td>\n",
              "      <td>1725.55230</td>\n",
              "    </tr>\n",
              "    <tr>\n",
              "      <th>2</th>\n",
              "      <td>28</td>\n",
              "      <td>male</td>\n",
              "      <td>33.000</td>\n",
              "      <td>3</td>\n",
              "      <td>no</td>\n",
              "      <td>southeast</td>\n",
              "      <td>4449.46200</td>\n",
              "    </tr>\n",
              "    <tr>\n",
              "      <th>3</th>\n",
              "      <td>33</td>\n",
              "      <td>male</td>\n",
              "      <td>22.705</td>\n",
              "      <td>0</td>\n",
              "      <td>no</td>\n",
              "      <td>northwest</td>\n",
              "      <td>21984.47061</td>\n",
              "    </tr>\n",
              "    <tr>\n",
              "      <th>4</th>\n",
              "      <td>32</td>\n",
              "      <td>male</td>\n",
              "      <td>28.880</td>\n",
              "      <td>0</td>\n",
              "      <td>no</td>\n",
              "      <td>northwest</td>\n",
              "      <td>3866.85520</td>\n",
              "    </tr>\n",
              "    <tr>\n",
              "      <th>5</th>\n",
              "      <td>31</td>\n",
              "      <td>female</td>\n",
              "      <td>25.740</td>\n",
              "      <td>0</td>\n",
              "      <td>no</td>\n",
              "      <td>southeast</td>\n",
              "      <td>3756.62160</td>\n",
              "    </tr>\n",
              "    <tr>\n",
              "      <th>6</th>\n",
              "      <td>46</td>\n",
              "      <td>female</td>\n",
              "      <td>33.440</td>\n",
              "      <td>1</td>\n",
              "      <td>no</td>\n",
              "      <td>southeast</td>\n",
              "      <td>8240.58960</td>\n",
              "    </tr>\n",
              "    <tr>\n",
              "      <th>7</th>\n",
              "      <td>37</td>\n",
              "      <td>female</td>\n",
              "      <td>27.740</td>\n",
              "      <td>3</td>\n",
              "      <td>no</td>\n",
              "      <td>northwest</td>\n",
              "      <td>7281.50560</td>\n",
              "    </tr>\n",
              "    <tr>\n",
              "      <th>8</th>\n",
              "      <td>37</td>\n",
              "      <td>male</td>\n",
              "      <td>29.830</td>\n",
              "      <td>2</td>\n",
              "      <td>no</td>\n",
              "      <td>northeast</td>\n",
              "      <td>6406.41070</td>\n",
              "    </tr>\n",
              "    <tr>\n",
              "      <th>9</th>\n",
              "      <td>60</td>\n",
              "      <td>female</td>\n",
              "      <td>25.840</td>\n",
              "      <td>0</td>\n",
              "      <td>no</td>\n",
              "      <td>northwest</td>\n",
              "      <td>28923.13692</td>\n",
              "    </tr>\n",
              "  </tbody>\n",
              "</table>\n",
              "</div>\n",
              "      <button class=\"colab-df-convert\" onclick=\"convertToInteractive('df-32ef8c44-f5cd-4ee8-a6b2-84b82d803565')\"\n",
              "              title=\"Convert this dataframe to an interactive table.\"\n",
              "              style=\"display:none;\">\n",
              "        \n",
              "  <svg xmlns=\"http://www.w3.org/2000/svg\" height=\"24px\"viewBox=\"0 0 24 24\"\n",
              "       width=\"24px\">\n",
              "    <path d=\"M0 0h24v24H0V0z\" fill=\"none\"/>\n",
              "    <path d=\"M18.56 5.44l.94 2.06.94-2.06 2.06-.94-2.06-.94-.94-2.06-.94 2.06-2.06.94zm-11 1L8.5 8.5l.94-2.06 2.06-.94-2.06-.94L8.5 2.5l-.94 2.06-2.06.94zm10 10l.94 2.06.94-2.06 2.06-.94-2.06-.94-.94-2.06-.94 2.06-2.06.94z\"/><path d=\"M17.41 7.96l-1.37-1.37c-.4-.4-.92-.59-1.43-.59-.52 0-1.04.2-1.43.59L10.3 9.45l-7.72 7.72c-.78.78-.78 2.05 0 2.83L4 21.41c.39.39.9.59 1.41.59.51 0 1.02-.2 1.41-.59l7.78-7.78 2.81-2.81c.8-.78.8-2.07 0-2.86zM5.41 20L4 18.59l7.72-7.72 1.47 1.35L5.41 20z\"/>\n",
              "  </svg>\n",
              "      </button>\n",
              "      \n",
              "  <style>\n",
              "    .colab-df-container {\n",
              "      display:flex;\n",
              "      flex-wrap:wrap;\n",
              "      gap: 12px;\n",
              "    }\n",
              "\n",
              "    .colab-df-convert {\n",
              "      background-color: #E8F0FE;\n",
              "      border: none;\n",
              "      border-radius: 50%;\n",
              "      cursor: pointer;\n",
              "      display: none;\n",
              "      fill: #1967D2;\n",
              "      height: 32px;\n",
              "      padding: 0 0 0 0;\n",
              "      width: 32px;\n",
              "    }\n",
              "\n",
              "    .colab-df-convert:hover {\n",
              "      background-color: #E2EBFA;\n",
              "      box-shadow: 0px 1px 2px rgba(60, 64, 67, 0.3), 0px 1px 3px 1px rgba(60, 64, 67, 0.15);\n",
              "      fill: #174EA6;\n",
              "    }\n",
              "\n",
              "    [theme=dark] .colab-df-convert {\n",
              "      background-color: #3B4455;\n",
              "      fill: #D2E3FC;\n",
              "    }\n",
              "\n",
              "    [theme=dark] .colab-df-convert:hover {\n",
              "      background-color: #434B5C;\n",
              "      box-shadow: 0px 1px 3px 1px rgba(0, 0, 0, 0.15);\n",
              "      filter: drop-shadow(0px 1px 2px rgba(0, 0, 0, 0.3));\n",
              "      fill: #FFFFFF;\n",
              "    }\n",
              "  </style>\n",
              "\n",
              "      <script>\n",
              "        const buttonEl =\n",
              "          document.querySelector('#df-32ef8c44-f5cd-4ee8-a6b2-84b82d803565 button.colab-df-convert');\n",
              "        buttonEl.style.display =\n",
              "          google.colab.kernel.accessAllowed ? 'block' : 'none';\n",
              "\n",
              "        async function convertToInteractive(key) {\n",
              "          const element = document.querySelector('#df-32ef8c44-f5cd-4ee8-a6b2-84b82d803565');\n",
              "          const dataTable =\n",
              "            await google.colab.kernel.invokeFunction('convertToInteractive',\n",
              "                                                     [key], {});\n",
              "          if (!dataTable) return;\n",
              "\n",
              "          const docLinkHtml = 'Like what you see? Visit the ' +\n",
              "            '<a target=\"_blank\" href=https://colab.research.google.com/notebooks/data_table.ipynb>data table notebook</a>'\n",
              "            + ' to learn more about interactive tables.';\n",
              "          element.innerHTML = '';\n",
              "          dataTable['output_type'] = 'display_data';\n",
              "          await google.colab.output.renderOutput(dataTable, element);\n",
              "          const docLink = document.createElement('div');\n",
              "          docLink.innerHTML = docLinkHtml;\n",
              "          element.appendChild(docLink);\n",
              "        }\n",
              "      </script>\n",
              "    </div>\n",
              "  </div>\n",
              "  "
            ]
          },
          "metadata": {},
          "execution_count": 1
        }
      ]
    },
    {
      "cell_type": "code",
      "source": [
        "# let's view a quick summary of the data\n",
        "insurance.info()"
      ],
      "metadata": {
        "colab": {
          "base_uri": "https://localhost:8080/"
        },
        "id": "6sfacGLDv66z",
        "outputId": "5a8c32d5-958a-416c-8048-b91aad621f7a"
      },
      "execution_count": null,
      "outputs": [
        {
          "output_type": "stream",
          "name": "stdout",
          "text": [
            "<class 'pandas.core.frame.DataFrame'>\n",
            "RangeIndex: 1338 entries, 0 to 1337\n",
            "Data columns (total 7 columns):\n",
            " #   Column    Non-Null Count  Dtype  \n",
            "---  ------    --------------  -----  \n",
            " 0   age       1338 non-null   int64  \n",
            " 1   sex       1338 non-null   object \n",
            " 2   bmi       1338 non-null   float64\n",
            " 3   children  1338 non-null   int64  \n",
            " 4   smoker    1338 non-null   object \n",
            " 5   region    1338 non-null   object \n",
            " 6   charges   1338 non-null   float64\n",
            "dtypes: float64(2), int64(2), object(3)\n",
            "memory usage: 73.3+ KB\n"
          ]
        }
      ]
    },
    {
      "cell_type": "code",
      "source": [
        "# let's now view some basic statistics about the dataset\n",
        "insurance.describe()"
      ],
      "metadata": {
        "colab": {
          "base_uri": "https://localhost:8080/",
          "height": 300
        },
        "id": "6rvwMs0AwCeT",
        "outputId": "7b13cbff-b33f-4cae-a42f-80bd006268ce"
      },
      "execution_count": null,
      "outputs": [
        {
          "output_type": "execute_result",
          "data": {
            "text/plain": [
              "               age          bmi     children       charges\n",
              "count  1338.000000  1338.000000  1338.000000   1338.000000\n",
              "mean     39.207025    30.663397     1.094918  13270.422265\n",
              "std      14.049960     6.098187     1.205493  12110.011237\n",
              "min      18.000000    15.960000     0.000000   1121.873900\n",
              "25%      27.000000    26.296250     0.000000   4740.287150\n",
              "50%      39.000000    30.400000     1.000000   9382.033000\n",
              "75%      51.000000    34.693750     2.000000  16639.912515\n",
              "max      64.000000    53.130000     5.000000  63770.428010"
            ],
            "text/html": [
              "\n",
              "  <div id=\"df-e395e798-83cd-49ea-a24f-dfe9628ea3d7\">\n",
              "    <div class=\"colab-df-container\">\n",
              "      <div>\n",
              "<style scoped>\n",
              "    .dataframe tbody tr th:only-of-type {\n",
              "        vertical-align: middle;\n",
              "    }\n",
              "\n",
              "    .dataframe tbody tr th {\n",
              "        vertical-align: top;\n",
              "    }\n",
              "\n",
              "    .dataframe thead th {\n",
              "        text-align: right;\n",
              "    }\n",
              "</style>\n",
              "<table border=\"1\" class=\"dataframe\">\n",
              "  <thead>\n",
              "    <tr style=\"text-align: right;\">\n",
              "      <th></th>\n",
              "      <th>age</th>\n",
              "      <th>bmi</th>\n",
              "      <th>children</th>\n",
              "      <th>charges</th>\n",
              "    </tr>\n",
              "  </thead>\n",
              "  <tbody>\n",
              "    <tr>\n",
              "      <th>count</th>\n",
              "      <td>1338.000000</td>\n",
              "      <td>1338.000000</td>\n",
              "      <td>1338.000000</td>\n",
              "      <td>1338.000000</td>\n",
              "    </tr>\n",
              "    <tr>\n",
              "      <th>mean</th>\n",
              "      <td>39.207025</td>\n",
              "      <td>30.663397</td>\n",
              "      <td>1.094918</td>\n",
              "      <td>13270.422265</td>\n",
              "    </tr>\n",
              "    <tr>\n",
              "      <th>std</th>\n",
              "      <td>14.049960</td>\n",
              "      <td>6.098187</td>\n",
              "      <td>1.205493</td>\n",
              "      <td>12110.011237</td>\n",
              "    </tr>\n",
              "    <tr>\n",
              "      <th>min</th>\n",
              "      <td>18.000000</td>\n",
              "      <td>15.960000</td>\n",
              "      <td>0.000000</td>\n",
              "      <td>1121.873900</td>\n",
              "    </tr>\n",
              "    <tr>\n",
              "      <th>25%</th>\n",
              "      <td>27.000000</td>\n",
              "      <td>26.296250</td>\n",
              "      <td>0.000000</td>\n",
              "      <td>4740.287150</td>\n",
              "    </tr>\n",
              "    <tr>\n",
              "      <th>50%</th>\n",
              "      <td>39.000000</td>\n",
              "      <td>30.400000</td>\n",
              "      <td>1.000000</td>\n",
              "      <td>9382.033000</td>\n",
              "    </tr>\n",
              "    <tr>\n",
              "      <th>75%</th>\n",
              "      <td>51.000000</td>\n",
              "      <td>34.693750</td>\n",
              "      <td>2.000000</td>\n",
              "      <td>16639.912515</td>\n",
              "    </tr>\n",
              "    <tr>\n",
              "      <th>max</th>\n",
              "      <td>64.000000</td>\n",
              "      <td>53.130000</td>\n",
              "      <td>5.000000</td>\n",
              "      <td>63770.428010</td>\n",
              "    </tr>\n",
              "  </tbody>\n",
              "</table>\n",
              "</div>\n",
              "      <button class=\"colab-df-convert\" onclick=\"convertToInteractive('df-e395e798-83cd-49ea-a24f-dfe9628ea3d7')\"\n",
              "              title=\"Convert this dataframe to an interactive table.\"\n",
              "              style=\"display:none;\">\n",
              "        \n",
              "  <svg xmlns=\"http://www.w3.org/2000/svg\" height=\"24px\"viewBox=\"0 0 24 24\"\n",
              "       width=\"24px\">\n",
              "    <path d=\"M0 0h24v24H0V0z\" fill=\"none\"/>\n",
              "    <path d=\"M18.56 5.44l.94 2.06.94-2.06 2.06-.94-2.06-.94-.94-2.06-.94 2.06-2.06.94zm-11 1L8.5 8.5l.94-2.06 2.06-.94-2.06-.94L8.5 2.5l-.94 2.06-2.06.94zm10 10l.94 2.06.94-2.06 2.06-.94-2.06-.94-.94-2.06-.94 2.06-2.06.94z\"/><path d=\"M17.41 7.96l-1.37-1.37c-.4-.4-.92-.59-1.43-.59-.52 0-1.04.2-1.43.59L10.3 9.45l-7.72 7.72c-.78.78-.78 2.05 0 2.83L4 21.41c.39.39.9.59 1.41.59.51 0 1.02-.2 1.41-.59l7.78-7.78 2.81-2.81c.8-.78.8-2.07 0-2.86zM5.41 20L4 18.59l7.72-7.72 1.47 1.35L5.41 20z\"/>\n",
              "  </svg>\n",
              "      </button>\n",
              "      \n",
              "  <style>\n",
              "    .colab-df-container {\n",
              "      display:flex;\n",
              "      flex-wrap:wrap;\n",
              "      gap: 12px;\n",
              "    }\n",
              "\n",
              "    .colab-df-convert {\n",
              "      background-color: #E8F0FE;\n",
              "      border: none;\n",
              "      border-radius: 50%;\n",
              "      cursor: pointer;\n",
              "      display: none;\n",
              "      fill: #1967D2;\n",
              "      height: 32px;\n",
              "      padding: 0 0 0 0;\n",
              "      width: 32px;\n",
              "    }\n",
              "\n",
              "    .colab-df-convert:hover {\n",
              "      background-color: #E2EBFA;\n",
              "      box-shadow: 0px 1px 2px rgba(60, 64, 67, 0.3), 0px 1px 3px 1px rgba(60, 64, 67, 0.15);\n",
              "      fill: #174EA6;\n",
              "    }\n",
              "\n",
              "    [theme=dark] .colab-df-convert {\n",
              "      background-color: #3B4455;\n",
              "      fill: #D2E3FC;\n",
              "    }\n",
              "\n",
              "    [theme=dark] .colab-df-convert:hover {\n",
              "      background-color: #434B5C;\n",
              "      box-shadow: 0px 1px 3px 1px rgba(0, 0, 0, 0.15);\n",
              "      filter: drop-shadow(0px 1px 2px rgba(0, 0, 0, 0.3));\n",
              "      fill: #FFFFFF;\n",
              "    }\n",
              "  </style>\n",
              "\n",
              "      <script>\n",
              "        const buttonEl =\n",
              "          document.querySelector('#df-e395e798-83cd-49ea-a24f-dfe9628ea3d7 button.colab-df-convert');\n",
              "        buttonEl.style.display =\n",
              "          google.colab.kernel.accessAllowed ? 'block' : 'none';\n",
              "\n",
              "        async function convertToInteractive(key) {\n",
              "          const element = document.querySelector('#df-e395e798-83cd-49ea-a24f-dfe9628ea3d7');\n",
              "          const dataTable =\n",
              "            await google.colab.kernel.invokeFunction('convertToInteractive',\n",
              "                                                     [key], {});\n",
              "          if (!dataTable) return;\n",
              "\n",
              "          const docLinkHtml = 'Like what you see? Visit the ' +\n",
              "            '<a target=\"_blank\" href=https://colab.research.google.com/notebooks/data_table.ipynb>data table notebook</a>'\n",
              "            + ' to learn more about interactive tables.';\n",
              "          element.innerHTML = '';\n",
              "          dataTable['output_type'] = 'display_data';\n",
              "          await google.colab.output.renderOutput(dataTable, element);\n",
              "          const docLink = document.createElement('div');\n",
              "          docLink.innerHTML = docLinkHtml;\n",
              "          element.appendChild(docLink);\n",
              "        }\n",
              "      </script>\n",
              "    </div>\n",
              "  </div>\n",
              "  "
            ]
          },
          "metadata": {},
          "execution_count": 3
        }
      ]
    },
    {
      "cell_type": "markdown",
      "source": [
        "### output from insurance.info() <br>\n",
        "How big is your dataset?<br> **0.0733 MB** <br><br>\n",
        "How many entries does it have?<br> **1338** <br><br>\n",
        "How many features does it have?<br> **7 features, including id (6 features without id)** <br><br>\n",
        "Does it contain any categorical data?<br> **Yes, like [\"Sex\"] and [\"Smoker\"].** <br><br>\n",
        "Is there any missing values?<br> **No, there are no missing values.** <br><br>\n",
        "What are some basic statistics you can learn right away about this dataset? <br>\n",
        "**Some basic statistics include:** <br>\n",
        "**The average insurance charges is $13,270.** <br>\n",
        "**The average age of the patient is 39 years.** <br>\n",
        "**More statistics can be found above in the insurance.describe() results.** <br>"
      ],
      "metadata": {
        "id": "5iftsXVNxsPZ"
      }
    },
    {
      "cell_type": "markdown",
      "metadata": {
        "id": "Xfw6nVzoR104"
      },
      "source": [
        "---\n",
        "##  Task 2: DATA DISCOVERY, CLEANING, AND SCALING \n",
        "\n",
        "**Data Discover:** Plot out all correlations among the features. You should notice some features are more correlated with your predicted value than other. This information will help you confirm that weights of your regression model later on.\n",
        "\n",
        "**Data Cleaning:** If your dataset has some missing values, make sure you are able to fill those values with the Imputer class. If your dataset has categorical features, make sure you conver those features into numerical using OneHotEncoder class. \n",
        "\n",
        "**Feature Scaling** More importantly, your task is to write some codes to normalize the value of each features as follow:\n",
        "\n",
        "* Subtract the mean value of each feature from the dataset\n",
        "* Scale (divide) the feature values by their respective standard deviation\n",
        "\n",
        "**Implementation Note:** You will need to integrate the above operations into a Pipeline to process and transform the training data, then use the same pipeline to transform any validation and testing data."
      ]
    },
    {
      "cell_type": "code",
      "metadata": {
        "id": "KI2IIJdHR104"
      },
      "source": [
        "# let's import some important packages\n",
        "from sklearn.model_selection import train_test_split\n",
        "from pandas.plotting import scatter_matrix\n",
        "from sklearn.impute import SimpleImputer\n",
        "from pickle import TRUE\n",
        "from sklearn.preprocessing import LabelEncoder\n",
        "from sklearn.preprocessing import OneHotEncoder\n",
        "from sklearn.pipeline import Pipeline\n",
        "from sklearn.compose import ColumnTransformer\n",
        "from sklearn.preprocessing import StandardScaler"
      ],
      "execution_count": null,
      "outputs": []
    },
    {
      "cell_type": "code",
      "source": [
        "# step 1. data discovery, let's examine potenetial correlations between the features\n",
        "correlations = insurance.corr()\n",
        "correlations.shape\n",
        "scatter_matrix(insurance)"
      ],
      "metadata": {
        "id": "1Vvft9pJJ6YA",
        "colab": {
          "base_uri": "https://localhost:8080/",
          "height": 589
        },
        "outputId": "d29bf9d0-e743-4a5e-a1fe-929cfdfa6ce9"
      },
      "execution_count": null,
      "outputs": [
        {
          "output_type": "execute_result",
          "data": {
            "text/plain": [
              "array([[<matplotlib.axes._subplots.AxesSubplot object at 0x7f083663d2d0>,\n",
              "        <matplotlib.axes._subplots.AxesSubplot object at 0x7f083660b710>,\n",
              "        <matplotlib.axes._subplots.AxesSubplot object at 0x7f08365c3d10>,\n",
              "        <matplotlib.axes._subplots.AxesSubplot object at 0x7f0836585350>],\n",
              "       [<matplotlib.axes._subplots.AxesSubplot object at 0x7f083653d950>,\n",
              "        <matplotlib.axes._subplots.AxesSubplot object at 0x7f08364f1f50>,\n",
              "        <matplotlib.axes._subplots.AxesSubplot object at 0x7f08364b6590>,\n",
              "        <matplotlib.axes._subplots.AxesSubplot object at 0x7f083646ab90>],\n",
              "       [<matplotlib.axes._subplots.AxesSubplot object at 0x7f0836430210>,\n",
              "        <matplotlib.axes._subplots.AxesSubplot object at 0x7f08363e5810>,\n",
              "        <matplotlib.axes._subplots.AxesSubplot object at 0x7f083639ddd0>,\n",
              "        <matplotlib.axes._subplots.AxesSubplot object at 0x7f083635f410>],\n",
              "       [<matplotlib.axes._subplots.AxesSubplot object at 0x7f0836316a10>,\n",
              "        <matplotlib.axes._subplots.AxesSubplot object at 0x7f08362d7050>,\n",
              "        <matplotlib.axes._subplots.AxesSubplot object at 0x7f083630d650>,\n",
              "        <matplotlib.axes._subplots.AxesSubplot object at 0x7f08362c5c50>]],\n",
              "      dtype=object)"
            ]
          },
          "metadata": {},
          "execution_count": 5
        },
        {
          "output_type": "display_data",
          "data": {
            "text/plain": [
              "<Figure size 432x288 with 16 Axes>"
            ],
            "image/png": "[encoded data removed]"
          },
          "metadata": {
            "needs_background": "light"
          }
        }
      ]
    },
    {
      "cell_type": "code",
      "source": [
        "# step 1.2: spliting the insurance data into training set (80%), testing set (20%)\n",
        "# note: we do not need validation for this assignment\n",
        "train_set, test_set = train_test_split(insurance, test_size=0.2, random_state=42)\n",
        "\n",
        "insurance = train_set.drop(\"charges\", axis=1)\n",
        "y_train = train_set[\"charges\"].copy()\n",
        "y_test = test_set[\"charges\"].copy()\n",
        "\n",
        "# we need to reshape y_train and y_test so that they are (1070,1) and (268,1)\n",
        "y_train = np.array(y_train)\n",
        "y_train = y_train.reshape(len(y_train), 1)\n",
        "\n",
        "y_test = np.array(y_test)\n",
        "y_test = y_test.reshape(len(y_test), 1)"
      ],
      "metadata": {
        "id": "eLCBDl1NS575"
      },
      "execution_count": null,
      "outputs": []
    },
    {
      "cell_type": "code",
      "source": [
        "# step 2.0: data cleaning\n",
        "imputer = SimpleImputer(strategy=\"mean\")\n",
        "insurance_numbers = insurance.select_dtypes(include=[np.number])\n",
        "imputer.fit(insurance_numbers)\n",
        "x = imputer.transform(insurance_numbers)\n",
        "insurance_training = pd.DataFrame(x, columns=insurance_numbers.columns, index=insurance.index)"
      ],
      "metadata": {
        "id": "XDC2oV0yWEhz"
      },
      "execution_count": null,
      "outputs": []
    },
    {
      "cell_type": "code",
      "source": [
        "# step 2.1: encode categorical values\n",
        "sex = insurance[[\"sex\"]]\n",
        "smoker = insurance[[\"smoker\"]]\n",
        "region = insurance[[\"region\"]]\n",
        "\n",
        "category_encoder = OneHotEncoder(sparse=False)\n",
        "insurance_cat_sex = category_encoder.fit_transform(sex)\n",
        "insurance_cat_smoker = category_encoder.fit_transform(smoker)\n",
        "insurance_cat_region = category_encoder.fit_transform(region)"
      ],
      "metadata": {
        "id": "eej9flxMYeQF"
      },
      "execution_count": null,
      "outputs": []
    },
    {
      "cell_type": "code",
      "source": [
        "# step 3.0: feature scaling\n",
        "scaler = StandardScaler()\n",
        "scaler.fit(insurance_training)"
      ],
      "metadata": {
        "id": "HVFfxQpPaPNV",
        "colab": {
          "base_uri": "https://localhost:8080/"
        },
        "outputId": "0d93aaae-d59a-4794-862e-a0021a566356"
      },
      "execution_count": null,
      "outputs": [
        {
          "output_type": "execute_result",
          "data": {
            "text/plain": [
              "StandardScaler()"
            ]
          },
          "metadata": {},
          "execution_count": 9
        }
      ]
    },
    {
      "cell_type": "code",
      "source": [
        "# step 4.0: pipeline it!\n",
        "\n",
        "numbers_pipeline = Pipeline([\n",
        "    (\"imputer\", SimpleImputer(strategy=\"mean\")),\n",
        "    (\"std_scaler\", StandardScaler()),\n",
        "  ])\n",
        "\n",
        "numerical_attributes = list(insurance_numbers)\n",
        "categorical_attributes = [\"sex\", \"smoker\", \"region\"]\n",
        "\n",
        "full_pipeline = ColumnTransformer([\n",
        "      (\"numerical\", numbers_pipeline, numerical_attributes),\n",
        "      (\"categorical\", OneHotEncoder(), categorical_attributes)\n",
        "  ])\n",
        "\n",
        "X_train = full_pipeline.fit_transform(insurance)\n",
        "X_test = full_pipeline.transform(test_set)"
      ],
      "metadata": {
        "id": "sZlV3w9HcD5I"
      },
      "execution_count": null,
      "outputs": []
    },
    {
      "cell_type": "code",
      "source": [
        "# final: let's do some checks to ensure our data dimensions are as expected:\n",
        "print(\"X_train shape:\", np.shape(X_train))\n",
        "print(\"X_test shape:\", np.shape(X_test))\n",
        "print(\"y_train shape:\", np.shape(y_train))\n",
        "print(\"y_test shape:\", np.shape(y_test))"
      ],
      "metadata": {
        "id": "HaHUqLQZZzRU",
        "colab": {
          "base_uri": "https://localhost:8080/"
        },
        "outputId": "9c945ab6-03a0-4d7e-bd0c-42e6a417d18e"
      },
      "execution_count": null,
      "outputs": [
        {
          "output_type": "stream",
          "name": "stdout",
          "text": [
            "X_train shape: (1070, 11)\n",
            "X_test shape: (268, 11)\n",
            "y_train shape: (1070, 1)\n",
            "y_test shape: (268, 1)\n"
          ]
        }
      ]
    },
    {
      "cell_type": "markdown",
      "metadata": {
        "id": "JRW5HPBzR106"
      },
      "source": [
        "- - -\n",
        "## Task 3. IMPLEMENT GRADIENT DESCENT \n",
        "The gradient descent formulation remain the same as one in the lecture. Keep in mind that you will need to add a column $\\textbf{x}_0$ with all 1s as part of the training data. You should write code to implement the **MyLinearRegression** class and its predefined methods. \n",
        "\n",
        "**Gradient Descent:** Notes that you may NOT call the library linear regression which defeats the purpose of this assignment. Make sure your code is well-vectorized."
      ]
    },
    {
      "cell_type": "code",
      "metadata": {
        "id": "XOhAxyK1R107"
      },
      "source": [
        "# task 3: implement gradient descent and the normal equation methods within MyLinearRegression class\n",
        "class MyLinearRegression:\n",
        "  \"\"\"\n",
        "  Linear regression is an analysis tool that predicts a variable's value based\n",
        "  on another variable.\n",
        "\n",
        "  https://www.ibm.com/topics/linear-regression\n",
        "  \"\"\"\n",
        "\n",
        "  def __init__ (self):\n",
        "    \"\"\"\n",
        "    Initialize the regressor\n",
        "    \"\"\"\n",
        "    self.theta = np.random.randn(len(X_train[0])+1,1) # parameter vector\n",
        "    self.alpha = 0.1 # learning rate\n",
        "    self.cost  = [] # cost function\n",
        "\n",
        "  def gradientDescent(self, X_train, y_train, theta, alpha, iters):\n",
        "    \"\"\"\n",
        "    Implementatation of the gradient descent\n",
        "\n",
        "    params:\n",
        "      alpha: the learning rate\n",
        "      iters: number of iterations\n",
        "\n",
        "    returns:\n",
        "      theta: updated value for theta\n",
        "      cost: value of the cost function\n",
        "    \"\"\"\n",
        "    m = len(X_train)  # m = number of samples (1070, training)\n",
        "    cost = []\n",
        "    theta = np.random.randn(len(X_train[0])+1,1)\n",
        "    X_b = np.c_[np.ones((len(X_train),1)), X_train]  # concatenates x0 with X-train data\n",
        "\n",
        "    for i in range(iters):\n",
        "      gradients = 2/m * X_b.T.dot(X_b.dot(theta) - y_train)\n",
        "      theta = theta - alpha * gradients\n",
        "      cost.append((X_b.dot(theta).T.dot(X_b).dot(theta)) - (2*(X_b.dot(theta).T.dot(y_train))) + (y_train.T.dot(y_train)))\n",
        "    return theta, cost\n",
        "\n",
        "  def fitUsingGradientDescent(self, X_train, y_train):\n",
        "    \"\"\"\n",
        "    Train the regressor using gradient descent\n",
        "    \"\"\"\n",
        "    iterations = 1000\n",
        "    self.theta, cost = myGradientDescentModel.gradientDescent(X_train, y_train, self.theta, self.alpha, iterations)\n",
        "\n",
        "  def fitUsingNormalEquation(self, X_train, y_train):\n",
        "    \"\"\"\n",
        "    Training using the Normal (close form) equation\n",
        "    Must use np.linalg.pinv() to avoid floating point errors (piazza post)\n",
        "    \"\"\"\n",
        "    X_b = np.c_[np.ones((len(X_train),1)), X_train]\n",
        "    self.theta = np.linalg.pinv(X_b.T.dot(X_b)).dot(X_b.T).dot(y_train)\n",
        "\n",
        "  def predict(self, X_test):\n",
        "    \"\"\"\n",
        "    Predicting the label using test data\n",
        "    \"\"\"\n",
        "    X_test = np.c_[np.ones((len(X_test),1)), X_test]\n",
        "    y_predict = X_test.dot(self.theta)\n",
        "    return y_predict\n",
        "\n",
        "  def __str__(self):\n",
        "    \"\"\"\n",
        "    Print out the parameter out when call print()\n",
        "    \"\"\"\n",
        "    print(\"Parameter vector is %f\" % self.theta)\n",
        "    \n",
        "# calls the instance of class MyLinearRegression\n",
        "myGradientDescentModel = MyLinearRegression()\n",
        "myGradientDescentModel.fitUsingGradientDescent(X_train, y_train)"
      ],
      "execution_count": null,
      "outputs": []
    },
    {
      "cell_type": "markdown",
      "metadata": {
        "id": "9mbKbih2R109"
      },
      "source": [
        "* **Learning Rate:** You will try out different learning rates for the dataset and find a learning rate that converges quickly. If you pick a learning rate, your plot of Cost Function $J(\\theta)$ against number of iteration will quickly decay to a small value. This also indicates that your implementation is correct. If your learning rate is too large, the cost function $J(\\theta)$ can diverge and blow up. From the below plot, you must be able to report the best learning rate the you found to earn credit for this section."
      ]
    },
    {
      "cell_type": "code",
      "metadata": {
        "id": "sBdljd94R109",
        "colab": {
          "base_uri": "https://localhost:8080/",
          "height": 295
        },
        "outputId": "6adbbb63-eac4-4a46-b109-c0ee3ef46935"
      },
      "source": [
        "# Use the following code to plot out your learning rate\n",
        "# iters and cost must be supplied to plot out the cost function\n",
        "# You must plot multiple curves corresponding to different learning rates to justify the best one.\n",
        "iterations = [1000]\n",
        "alphas = [0.0001, 0.001, 0.01, 0.1]\n",
        "theta = np.random.randn(len(X_train[0])+1,1)\n",
        "\n",
        "for i in range(len(iterations)):\n",
        "  for j in range(len(alphas)):\n",
        "    theta, cost = myGradientDescentModel.gradientDescent(X_train, y_train, theta, alphas[j], iterations[i])\n",
        "    plt.plot([i[0] for i in cost], label='alpha: ' + str(alphas[j]))\n",
        "\n",
        "plt.xlabel('Iterations')  \n",
        "plt.ylabel('Cost')  \n",
        "plt.legend()\n",
        "plt.title('Error vs. Training Iterations')\n",
        "plt.show()"
      ],
      "execution_count": null,
      "outputs": [
        {
          "output_type": "display_data",
          "data": {
            "text/plain": [
              "<Figure size 432x288 with 1 Axes>"
            ],
            "image/png": "[encoded data removed]"
          },
          "metadata": {
            "needs_background": "light"
          }
        }
      ]
    },
    {
      "cell_type": "markdown",
      "source": [
        "### **Best learning rate (alpha) = 0.1** <br>\n",
        "A learning rate of 0.1 allows for the dataset to converge quickly without diverging, as seen by the rapid convergence to a small cost value."
      ],
      "metadata": {
        "id": "EwYoh8DBGV1e"
      }
    },
    {
      "cell_type": "markdown",
      "metadata": {
        "id": "_OSBr-iNR10_"
      },
      "source": [
        "- - -\n",
        "## Task 4. IMPLEMENT THE NORMAL EQUATION"
      ]
    },
    {
      "cell_type": "markdown",
      "metadata": {
        "id": "8Pnn0NEhR10_"
      },
      "source": [
        "In my lecture, you learn that the closed form solution of linear regression using the normal equation formulation. Using the formula does not require any feature scaling, and should be straight forward to implement: \n",
        "\n",
        "$\n",
        "    \\mathbf{\\theta} = ({\\mathbf{X}^{T}\\mathbf{X}})^{-1}\\mathbf{X}^{T}\\mathbf{y}.\n",
        "$\n",
        "\n",
        "Note that you still need to add a column of 1's to the $\\mathbf{\n",
        "X}$ matrix to have an intercept term."
      ]
    },
    {
      "cell_type": "code",
      "metadata": {
        "id": "X4t5jNtbR11B"
      },
      "source": [
        "# Implement the normalEquation method of the MyLinearRegression Class before execute the code below:\n",
        "myNormalEquationModel = MyLinearRegression()\n",
        "myNormalEquationModel.fitUsingNormalEquation(X_train, y_train)"
      ],
      "execution_count": null,
      "outputs": []
    },
    {
      "cell_type": "markdown",
      "metadata": {
        "id": "m5el9T4eR11D"
      },
      "source": [
        "- - -\n",
        "## Task 5. COMPARE DIFFERENT IMPLEMENTATIONS "
      ]
    },
    {
      "cell_type": "markdown",
      "metadata": {
        "id": "ScvMKU-zR11D"
      },
      "source": [
        "You should be able to evaluate and compare your gradient descent as well as normal equation implementation of linear regression. In theory, they should be the same, or at least similar. For good measures, you must use the built-in library **Scholastic Gradient Descent (SGD)** as a third model for comparison. For each model, you must compute the RMSE on the **test set** as performance measure. The good news is that you can call library functions to compute these as shown below instead of writing your own code:\n",
        "\n",
        "* Which one yields the best performance measure for your dataset?\n",
        "* What is your assessment of the error? Good? Okay? Terrible?"
      ]
    },
    {
      "cell_type": "code",
      "metadata": {
        "id": "wtvlmtyCR11E",
        "colab": {
          "base_uri": "https://localhost:8080/"
        },
        "outputId": "028d0d18-f3a5-47e6-a6e1-b2dcaddb80d0"
      },
      "source": [
        "from sklearn.metrics import mean_squared_error\n",
        "import warnings\n",
        "from sklearn.exceptions import DataConversionWarning\n",
        "warnings.filterwarnings(action='ignore', category=DataConversionWarning)\n",
        "\n",
        "# Use the built-in SGD Regressor model\n",
        "from sklearn.linear_model import SGDRegressor\n",
        "mySGDModel = SGDRegressor()\n",
        "mySGDModel.fit(X_train,y_train)\n",
        "y_predict = mySGDModel.predict(X_test)\n",
        "mse = mean_squared_error(y_test, y_predict)\n",
        "mySGDModel_rmse = np.sqrt(mse)\n",
        "print(\"SGD Regressor RMSE value:\", mySGDModel_rmse)\n",
        "\n",
        "# myGradientDescentModel_rmse\n",
        "y_predict = myGradientDescentModel.predict(X_test)\n",
        "mse = mean_squared_error(y_test, y_predict)\n",
        "myGradientDescentModel_rmse = np.sqrt(mse)\n",
        "print(\"Gradient Descent RMSE value:\", myGradientDescentModel_rmse)\n",
        "\n",
        "# myNormalEquationModel_rmse \n",
        "y_predict = myNormalEquationModel.predict(X_test)\n",
        "mse = mean_squared_error(y_test, y_predict)\n",
        "myNormalEquationModel_rmse = np.sqrt(mse)\n",
        "print(\"Normal Equation RMSE value:\", myNormalEquationModel_rmse)\n",
        "\n"
      ],
      "execution_count": null,
      "outputs": [
        {
          "output_type": "stream",
          "name": "stdout",
          "text": [
            "SGD Regressor RMSE value: 5795.489236476922\n",
            "Gradient Descent RMSE value: 5796.284659276275\n",
            "Normal Equation RMSE value: 5796.284659276274\n"
          ]
        }
      ]
    },
    {
      "cell_type": "markdown",
      "source": [
        "**Which one yields the best performance measure for your dataset?** <br>\n",
        "The SGD Regressor yields the best performance measurement because the RMSE value is the lowest (\\$5,795.49) out of the three methods (the predict medical costs may be \\$5,795.49 more or less the actual cost). <br><br>\n",
        "**What is your assessment of the error? Good? Okay? Terrible?**<br>\n",
        "I believe that both the Gradient Descent and Normal Equation models were good! Both RMSE values are \\$5,796.28, which is only \\$0.79 more than the SGD RMSE value. As aforementioned, the SGD Regressor had the best (by just a bit!) RMSE error and so I would rely on that function for insurance cost predictions."
      ],
      "metadata": {
        "id": "oPxEAY0mHFpT"
      }
    },
    {
      "cell_type": "markdown",
      "metadata": {
        "id": "vmaBPxD_R11G"
      },
      "source": [
        "- - -\n",
        "## Task 6. PRESENT YOUR SOLUTION "
      ]
    },
    {
      "cell_type": "markdown",
      "metadata": {
        "id": "zI7TNvZsR11H"
      },
      "source": [
        "Now that you need to write a short memo of one paragraph to be read by a non-technical audience (ie. your manager/boss). Focus on answering the following: \n",
        "\n",
        "* How can you pitch your solution to this project? \n",
        "* What did you learn so far about the problem?\n",
        "* Is there any insight moving forward to improve the solution."
      ]
    },
    {
      "cell_type": "markdown",
      "source": [
        "mailto: boss [at] insurance [dot] com <br>\n",
        "from: cnd7cy [at] virginia [dot] edu <br>\n",
        "subject: [Predicting Insurance Costs for US-based Patients]<br>\n",
        "\n",
        "Good morning Boss, <br><br>\n",
        "I hope this email finds you well! I am attaching the medical cost prediction model for your consideration. In this model, I utilized two different regression models-- gradient descent and the normal equation. The gradient descent model searches for the optimal solution through the local gradient of the error (cost) function with respect to theta (the parameter vector). The normal equation finds a theta value that minimizes the cost function in a closed-form solution. Does this sound like CS jargon? No worries! Basically, I utilized regression modeling to find the impact of patient factors (or parameters), like BMI, smoking habits, etc. on medical expenses in order to predict these costs. For our company, we can utilize these predictions to support new customers in selecting their insurance plans that can give them the most protection. <br><br>\n",
        "I learned that this smaller dataset fairs well with implementation of a Gradient Descent (learning rate = 0.1) and/or Normal Equation model. However, SGD did perform slightly better than my implementation. As a company, I suggest we utilize public algorithms already avaiable to receive the most accurate predictions. <br><br> Moving forward, I suggest we incorporate more powerful regression modeling into our analysis (perhaps a Random Tree regression model) that can provide a more accurate prediction of medical cost.<br><br>\n",
        "Thank you for your support!<br><br>\n",
        "Kind regards, <br>\n",
        "Caroline Davis"
      ],
      "metadata": {
        "id": "R34wSzbGIk-x"
      }
    }
  ]
}